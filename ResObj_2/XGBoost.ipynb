{
 "cells": [
  {
   "cell_type": "code",
   "execution_count": 1,
   "id": "9bb224ce-ca20-47cb-8692-a0f11efcd436",
   "metadata": {
    "tags": []
   },
   "outputs": [],
   "source": [
    "import pickle\n",
    "import ast\n",
    "import re\n",
    "import numpy as np\n",
    "import pandas as pd\n",
    "import seaborn as sns\n",
    "\n",
    "from rdkit import Chem, DataStructs\n",
    "from rdkit.Chem import AllChem, rdFingerprintGenerator\n",
    "from sklearn.model_selection import train_test_split, cross_val_score, RepeatedKFold\n",
    "from sklearn.metrics import mean_absolute_error, mean_squared_error, r2_score\n",
    "from numpy import asarray, mean, std\n",
    "from xgboost import XGBRegressor\n",
    "from matplotlib import pyplot\n",
    "from hyperopt import fmin, tpe, hp, STATUS_OK"
   ]
  },
  {
   "cell_type": "markdown",
   "id": "7584be25-3ebb-4ee0-9e43-5eecc071801e",
   "metadata": {},
   "source": [
    "# XGBoost-specific data preparation"
   ]
  },
  {
   "cell_type": "code",
   "execution_count": 2,
   "id": "28144360-7049-4e49-b34d-f2e92f15f61b",
   "metadata": {
    "tags": []
   },
   "outputs": [],
   "source": [
    "df_all_identified = pd.read_csv('data_RO2/df_ml_ready.csv')"
   ]
  },
  {
   "cell_type": "code",
   "execution_count": 3,
   "id": "59a67c95-bb48-4c53-ad5e-d7aba2039b43",
   "metadata": {
    "tags": []
   },
   "outputs": [
    {
     "data": {
      "text/html": [
       "<div>\n",
       "<style scoped>\n",
       "    .dataframe tbody tr th:only-of-type {\n",
       "        vertical-align: middle;\n",
       "    }\n",
       "\n",
       "    .dataframe tbody tr th {\n",
       "        vertical-align: top;\n",
       "    }\n",
       "\n",
       "    .dataframe thead th {\n",
       "        text-align: right;\n",
       "    }\n",
       "</style>\n",
       "<table border=\"1\" class=\"dataframe\">\n",
       "  <thead>\n",
       "    <tr style=\"text-align: right;\">\n",
       "      <th></th>\n",
       "      <th>reduced_formulas</th>\n",
       "      <th>etl</th>\n",
       "      <th>htl</th>\n",
       "      <th>bandgap</th>\n",
       "      <th>device_stack</th>\n",
       "      <th>pce</th>\n",
       "      <th>etl_SMILES</th>\n",
       "      <th>htl_SMILES</th>\n",
       "    </tr>\n",
       "  </thead>\n",
       "  <tbody>\n",
       "    <tr>\n",
       "      <th>0</th>\n",
       "      <td>Ag20Bi20CsI60</td>\n",
       "      <td>['TiO2-c', 'TiO2-mp']</td>\n",
       "      <td>['P3HT']</td>\n",
       "      <td>1.86</td>\n",
       "      <td>['SLG', 'FTO', 'TiO2-c', 'TiO2-mp', 'Perovskit...</td>\n",
       "      <td>3.530000</td>\n",
       "      <td>['O=[Ti]=O', 'O=[Ti]=O']</td>\n",
       "      <td>['CCCCCCC1=CSC=C1']</td>\n",
       "    </tr>\n",
       "    <tr>\n",
       "      <th>1</th>\n",
       "      <td>Ag20Bi20CsI60</td>\n",
       "      <td>['TiO2-c', 'TiO2-mp']</td>\n",
       "      <td>['PTB7-th']</td>\n",
       "      <td>1.86</td>\n",
       "      <td>['SLG', 'FTO', 'TiO2-c', 'TiO2-mp', 'Perovskit...</td>\n",
       "      <td>3.530000</td>\n",
       "      <td>['O=[Ti]=O', 'O=[Ti]=O']</td>\n",
       "      <td>['CCC(=CF)COC1=CC=C(C=C1)C23CCC(CC2)(CC3)C(=O)...</td>\n",
       "    </tr>\n",
       "    <tr>\n",
       "      <th>2</th>\n",
       "      <td>Ag2BiI5</td>\n",
       "      <td>['TiO2-c', 'TiO2-mp']</td>\n",
       "      <td>['PTAA']</td>\n",
       "      <td>2.22</td>\n",
       "      <td>['SLG', 'ITO', 'TiO2-c', 'TiO2-mp', 'Perovskit...</td>\n",
       "      <td>2.600000</td>\n",
       "      <td>['O=[Ti]=O', 'O=[Ti]=O']</td>\n",
       "      <td>['CC1=CC(=C(C(=C1)C)N(C2=CC=CC=C2)C3=CC=CC=C3)C']</td>\n",
       "    </tr>\n",
       "    <tr>\n",
       "      <th>3</th>\n",
       "      <td>Ag3BiI6</td>\n",
       "      <td>['TiO2-c', 'TiO2-mp']</td>\n",
       "      <td>['P3HT']</td>\n",
       "      <td>1.80</td>\n",
       "      <td>['SLG', 'FTO', 'TiO2-c', 'TiO2-mp', 'Perovskit...</td>\n",
       "      <td>2.320000</td>\n",
       "      <td>['O=[Ti]=O', 'O=[Ti]=O']</td>\n",
       "      <td>['CCCCCCC1=CSC=C1']</td>\n",
       "    </tr>\n",
       "    <tr>\n",
       "      <th>4</th>\n",
       "      <td>Ag3BiI6</td>\n",
       "      <td>['TiO2-c', 'TiO2-mp']</td>\n",
       "      <td>['PTAA']</td>\n",
       "      <td>0.00</td>\n",
       "      <td>['SLG', 'FTO', 'TiO2-c', 'TiO2-mp', 'Perovskit...</td>\n",
       "      <td>4.300000</td>\n",
       "      <td>['O=[Ti]=O', 'O=[Ti]=O']</td>\n",
       "      <td>['CC1=CC(=C(C(=C1)C)N(C2=CC=CC=C2)C3=CC=CC=C3)C']</td>\n",
       "    </tr>\n",
       "    <tr>\n",
       "      <th>...</th>\n",
       "      <td>...</td>\n",
       "      <td>...</td>\n",
       "      <td>...</td>\n",
       "      <td>...</td>\n",
       "      <td>...</td>\n",
       "      <td>...</td>\n",
       "      <td>...</td>\n",
       "      <td>...</td>\n",
       "    </tr>\n",
       "    <tr>\n",
       "      <th>5419</th>\n",
       "      <td>CsI3Sn</td>\n",
       "      <td>['TiO2-c']</td>\n",
       "      <td>['PTAA']</td>\n",
       "      <td>0.00</td>\n",
       "      <td>['SLG', 'FTO', 'TiO2-c', 'Perovskite', 'PTAA',...</td>\n",
       "      <td>3.866667</td>\n",
       "      <td>['O=[Ti]=O']</td>\n",
       "      <td>['CC1=CC(=C(C(=C1)C)N(C2=CC=CC=C2)C3=CC=CC=C3)C']</td>\n",
       "    </tr>\n",
       "    <tr>\n",
       "      <th>5420</th>\n",
       "      <td>CsI3Sn</td>\n",
       "      <td>['TiO2-c', 'TiO2-mp']</td>\n",
       "      <td>['PTAA']</td>\n",
       "      <td>0.00</td>\n",
       "      <td>['SLG', 'FTO', 'TiO2-c', 'TiO2-mp', 'Perovskit...</td>\n",
       "      <td>3.790000</td>\n",
       "      <td>['O=[Ti]=O', 'O=[Ti]=O']</td>\n",
       "      <td>['CC1=CC(=C(C(=C1)C)N(C2=CC=CC=C2)C3=CC=CC=C3)C']</td>\n",
       "    </tr>\n",
       "    <tr>\n",
       "      <th>5421</th>\n",
       "      <td>CsI3Sn</td>\n",
       "      <td>['TiO2-c', 'TiO2-mp']</td>\n",
       "      <td>['PTAA']</td>\n",
       "      <td>1.30</td>\n",
       "      <td>['SLG', 'FTO', 'TiO2-c', 'TiO2-mp', 'Perovskit...</td>\n",
       "      <td>3.655000</td>\n",
       "      <td>['O=[Ti]=O', 'O=[Ti]=O']</td>\n",
       "      <td>['CC1=CC(=C(C(=C1)C)N(C2=CC=CC=C2)C3=CC=CC=C3)C']</td>\n",
       "    </tr>\n",
       "    <tr>\n",
       "      <th>5422</th>\n",
       "      <td>CsI3Sn</td>\n",
       "      <td>['TiO2-c', 'TiO2-mp']</td>\n",
       "      <td>['Spiro-MeOTAD']</td>\n",
       "      <td>0.00</td>\n",
       "      <td>['SLG', 'FTO', 'TiO2-c', 'TiO2-mp', 'Perovskit...</td>\n",
       "      <td>2.230000</td>\n",
       "      <td>['O=[Ti]=O', 'O=[Ti]=O']</td>\n",
       "      <td>['COC1=CC=C(C=C1)N(C2=CC=C(C=C2)OC)C3=CC4=C(C=...</td>\n",
       "    </tr>\n",
       "    <tr>\n",
       "      <th>5423</th>\n",
       "      <td>CsI3Sn</td>\n",
       "      <td>['TiO2-c', 'TiO2-mp']</td>\n",
       "      <td>['m-MTDATA']</td>\n",
       "      <td>0.00</td>\n",
       "      <td>['SLG', 'FTO', 'TiO2-c', 'TiO2-mp', 'Perovskit...</td>\n",
       "      <td>2.020000</td>\n",
       "      <td>['O=[Ti]=O', 'O=[Ti]=O']</td>\n",
       "      <td>['CC1=CC(=CC=C1)N(C2=CC=CC=C2)C3=CC=C(C=C3)N(C...</td>\n",
       "    </tr>\n",
       "  </tbody>\n",
       "</table>\n",
       "<p>5424 rows × 8 columns</p>\n",
       "</div>"
      ],
      "text/plain": [
       "     reduced_formulas                    etl               htl  bandgap  \\\n",
       "0       Ag20Bi20CsI60  ['TiO2-c', 'TiO2-mp']          ['P3HT']     1.86   \n",
       "1       Ag20Bi20CsI60  ['TiO2-c', 'TiO2-mp']       ['PTB7-th']     1.86   \n",
       "2             Ag2BiI5  ['TiO2-c', 'TiO2-mp']          ['PTAA']     2.22   \n",
       "3             Ag3BiI6  ['TiO2-c', 'TiO2-mp']          ['P3HT']     1.80   \n",
       "4             Ag3BiI6  ['TiO2-c', 'TiO2-mp']          ['PTAA']     0.00   \n",
       "...               ...                    ...               ...      ...   \n",
       "5419           CsI3Sn             ['TiO2-c']          ['PTAA']     0.00   \n",
       "5420           CsI3Sn  ['TiO2-c', 'TiO2-mp']          ['PTAA']     0.00   \n",
       "5421           CsI3Sn  ['TiO2-c', 'TiO2-mp']          ['PTAA']     1.30   \n",
       "5422           CsI3Sn  ['TiO2-c', 'TiO2-mp']  ['Spiro-MeOTAD']     0.00   \n",
       "5423           CsI3Sn  ['TiO2-c', 'TiO2-mp']      ['m-MTDATA']     0.00   \n",
       "\n",
       "                                           device_stack       pce  \\\n",
       "0     ['SLG', 'FTO', 'TiO2-c', 'TiO2-mp', 'Perovskit...  3.530000   \n",
       "1     ['SLG', 'FTO', 'TiO2-c', 'TiO2-mp', 'Perovskit...  3.530000   \n",
       "2     ['SLG', 'ITO', 'TiO2-c', 'TiO2-mp', 'Perovskit...  2.600000   \n",
       "3     ['SLG', 'FTO', 'TiO2-c', 'TiO2-mp', 'Perovskit...  2.320000   \n",
       "4     ['SLG', 'FTO', 'TiO2-c', 'TiO2-mp', 'Perovskit...  4.300000   \n",
       "...                                                 ...       ...   \n",
       "5419  ['SLG', 'FTO', 'TiO2-c', 'Perovskite', 'PTAA',...  3.866667   \n",
       "5420  ['SLG', 'FTO', 'TiO2-c', 'TiO2-mp', 'Perovskit...  3.790000   \n",
       "5421  ['SLG', 'FTO', 'TiO2-c', 'TiO2-mp', 'Perovskit...  3.655000   \n",
       "5422  ['SLG', 'FTO', 'TiO2-c', 'TiO2-mp', 'Perovskit...  2.230000   \n",
       "5423  ['SLG', 'FTO', 'TiO2-c', 'TiO2-mp', 'Perovskit...  2.020000   \n",
       "\n",
       "                    etl_SMILES  \\\n",
       "0     ['O=[Ti]=O', 'O=[Ti]=O']   \n",
       "1     ['O=[Ti]=O', 'O=[Ti]=O']   \n",
       "2     ['O=[Ti]=O', 'O=[Ti]=O']   \n",
       "3     ['O=[Ti]=O', 'O=[Ti]=O']   \n",
       "4     ['O=[Ti]=O', 'O=[Ti]=O']   \n",
       "...                        ...   \n",
       "5419              ['O=[Ti]=O']   \n",
       "5420  ['O=[Ti]=O', 'O=[Ti]=O']   \n",
       "5421  ['O=[Ti]=O', 'O=[Ti]=O']   \n",
       "5422  ['O=[Ti]=O', 'O=[Ti]=O']   \n",
       "5423  ['O=[Ti]=O', 'O=[Ti]=O']   \n",
       "\n",
       "                                             htl_SMILES  \n",
       "0                                   ['CCCCCCC1=CSC=C1']  \n",
       "1     ['CCC(=CF)COC1=CC=C(C=C1)C23CCC(CC2)(CC3)C(=O)...  \n",
       "2     ['CC1=CC(=C(C(=C1)C)N(C2=CC=CC=C2)C3=CC=CC=C3)C']  \n",
       "3                                   ['CCCCCCC1=CSC=C1']  \n",
       "4     ['CC1=CC(=C(C(=C1)C)N(C2=CC=CC=C2)C3=CC=CC=C3)C']  \n",
       "...                                                 ...  \n",
       "5419  ['CC1=CC(=C(C(=C1)C)N(C2=CC=CC=C2)C3=CC=CC=C3)C']  \n",
       "5420  ['CC1=CC(=C(C(=C1)C)N(C2=CC=CC=C2)C3=CC=CC=C3)C']  \n",
       "5421  ['CC1=CC(=C(C(=C1)C)N(C2=CC=CC=C2)C3=CC=CC=C3)C']  \n",
       "5422  ['COC1=CC=C(C=C1)N(C2=CC=C(C=C2)OC)C3=CC4=C(C=...  \n",
       "5423  ['CC1=CC(=CC=C1)N(C2=CC=CC=C2)C3=CC=C(C=C3)N(C...  \n",
       "\n",
       "[5424 rows x 8 columns]"
      ]
     },
     "execution_count": 3,
     "metadata": {},
     "output_type": "execute_result"
    }
   ],
   "source": [
    "df_all_identified"
   ]
  },
  {
   "cell_type": "markdown",
   "id": "0248a039-7a38-4303-86c4-e1cebcd0d9aa",
   "metadata": {},
   "source": [
    "## Combine SMILES into one string where there are multiple"
   ]
  },
  {
   "cell_type": "code",
   "execution_count": 4,
   "id": "28981fd2-530a-4d0e-9947-60a0d01879c7",
   "metadata": {
    "tags": []
   },
   "outputs": [],
   "source": [
    "etl_combined_SMILES = []\n",
    "htl_combined_SMILES = []\n",
    "\n",
    "df_all_identified['etl_SMILES'] = df_all_identified['etl_SMILES'].apply(ast.literal_eval)\n",
    "df_all_identified['htl_SMILES'] = df_all_identified['htl_SMILES'].apply(ast.literal_eval)\n",
    "\n",
    "for index, row in df_all_identified.iterrows():\n",
    "    etl_combination = \".\".join(row['etl_SMILES'])\n",
    "    htl_combination = \".\".join(row['htl_SMILES'])\n",
    "    etl_combined_SMILES.append(etl_combination)\n",
    "    htl_combined_SMILES.append(htl_combination)\n",
    "df_all_identified['etl_combined_SMILES'] = etl_combined_SMILES\n",
    "df_all_identified['htl_combined_SMILES'] = htl_combined_SMILES\n",
    "\n",
    "df_all_identified['etl_combined_SMILES'] = df_all_identified['etl_combined_SMILES'].str.replace('no_ctl', '')\n",
    "df_all_identified['htl_combined_SMILES'] = df_all_identified['htl_combined_SMILES'].str.replace('no_ctl', '')\n"
   ]
  },
  {
   "cell_type": "code",
   "execution_count": 5,
   "id": "4fe9df50-1b2e-4452-a4e5-cde409f995bf",
   "metadata": {
    "tags": []
   },
   "outputs": [],
   "source": [
    "# drop device_stack column which is unnecessary here\n",
    "df_all_identified = df_all_identified.drop(columns=['device_stack'])"
   ]
  },
  {
   "cell_type": "code",
   "execution_count": 6,
   "id": "9c793e43-e82c-4c9a-844a-295569068c74",
   "metadata": {
    "tags": []
   },
   "outputs": [
    {
     "name": "stderr",
     "output_type": "stream",
     "text": [
      "[13:49:13] WARNING: not removing hydrogen atom without neighbors\n",
      "[13:49:29] WARNING: not removing hydrogen atom without neighbors\n",
      "[13:49:29] WARNING: not removing hydrogen atom without neighbors\n"
     ]
    },
    {
     "name": "stdout",
     "output_type": "stream",
     "text": [
      "5424\n",
      "5424\n"
     ]
    }
   ],
   "source": [
    "def parse_formula(formula):\n",
    "    matches = re.findall(r'([A-Z][a-z]?)(\\d*)', formula)\n",
    "    element_counts = {}\n",
    "    for (element, count) in matches:\n",
    "        if element in element_counts:\n",
    "            element_counts[element] += int(count) if count else 1\n",
    "        else:\n",
    "            element_counts[element] = int(count) if count else 1\n",
    "    return element_counts\n",
    "\n",
    "# Unique elements across all formulas\n",
    "ELEMENTS = ['H', 'C', 'N', 'O', 'F', 'P', 'S', 'Cl', 'Br', 'I', 'B', 'Li', 'Na', 'Mg', 'Al', 'Si', 'K', 'Ca', 'Ti', 'V', \n",
    "            'Cr', 'Mn', 'Fe', 'Co', 'Ni', 'Cu', 'Zn', 'Ga', 'Ge', 'As', 'Se', 'Rb', 'Sr', 'Y', 'Zr', 'Nb', 'Mo', 'Ru', 'Rh', \n",
    "            'Pd', 'Ag', 'Cd', 'In', 'Sn', 'Sb', 'Te', 'Cs', 'Ba', 'La', 'Ce', 'Pr', 'Nd', 'Sm', 'Eu', 'Gd', 'Tb', 'Dy', 'Ho', \n",
    "            'Er', 'Tm', 'Yb', 'Lu', 'Hf', 'Ta', 'W', 'Re', 'Os', 'Ir', 'Pt', 'Au', 'Hg', 'Tl', 'Pb', 'Bi', 'Th', 'U']\n",
    "\n",
    "# Create columns for each element count\n",
    "for element in ELEMENTS:\n",
    "    df_all_identified[element] = df_all_identified['reduced_formulas'].apply(lambda x: parse_formula(x).get(element, 0))\n",
    "\n",
    "    \n",
    "fpgen = rdFingerprintGenerator.GetMorganGenerator(radius=2,fpSize=1024)    \n",
    "    \n",
    "def smiles_to_fingerprint(smiles):\n",
    "    molecule = Chem.MolFromSmiles(smiles)\n",
    "    if molecule is None:\n",
    "        return np.zeros(fpgen.GetNumBits(),)\n",
    "    fp = fpgen.GetFingerprint(molecule)\n",
    "    # Convert to a bit vector\n",
    "    bit_vector = np.zeros((1,), dtype=int)\n",
    "    DataStructs.ConvertToNumpyArray(fp, bit_vector)\n",
    "    return bit_vector\n",
    "\n",
    "\n",
    "# Create columns for Morgan Fingerprints\n",
    "etl_fingerprints = df_all_identified['etl_combined_SMILES'].apply(smiles_to_fingerprint)\n",
    "htl_fingerprints = df_all_identified['htl_combined_SMILES'].apply(smiles_to_fingerprint)\n",
    "\n",
    "# Convert fingerprints to DataFrame\n",
    "etl_fingerprint_df = pd.DataFrame(etl_fingerprints.tolist(), columns=[f'ETL_FP_{i}' for i in range(1024)])\n",
    "htl_fingerprint_df = pd.DataFrame(htl_fingerprints.tolist(), columns=[f'HTL_FP_{i}' for i in range(1024)])\n",
    "\n",
    "# Combine all features into a single DataFrame\n",
    "features_df = pd.DataFrame\n",
    "features_df = pd.concat([df_all_identified.drop(columns=['reduced_formulas',\n",
    "                                                         'etl', \n",
    "                                                         'htl', \n",
    "                                                         'etl_SMILES',\n",
    "                                                         'htl_SMILES',\n",
    "                                                         'etl_combined_SMILES',\n",
    "                                                         'htl_combined_SMILES']), etl_fingerprint_df, htl_fingerprint_df], axis=1)\n",
    "\n",
    "print(len(features_df))\n",
    "features_df = features_df.dropna()\n",
    "print(len(features_df))"
   ]
  },
  {
   "cell_type": "markdown",
   "id": "a354d97c-b01a-4b84-8f4b-dc436f594325",
   "metadata": {},
   "source": [
    "# XGBoost Predictions\n",
    "## Absorber only\n",
    "### Train Test Split\n",
    "The split is done after shuffling. To ensure the same shuffling in all models, a pre-defined shuffling index is used.\n",
    "It was originally generated in the GNN file."
   ]
  },
  {
   "cell_type": "code",
   "execution_count": 7,
   "id": "0f3f5460-8bec-46f2-9bfb-b6281f51d11e",
   "metadata": {
    "tags": []
   },
   "outputs": [],
   "source": [
    "X = features_df.iloc[:, :78].drop(columns='pce')\n",
    "y = features_df['pce']\n",
    "\n",
    "# load the splitting indices to make sure all models split the same way\n",
    "with open(\"data_RO2/index_for_train_test_split.pkl\", \"rb\") as f:\n",
    "    splitting_indices = pickle.load(f)\n",
    "    \n",
    "X = X.iloc[splitting_indices]\n",
    "y = y.iloc[splitting_indices]"
   ]
  },
  {
   "cell_type": "code",
   "execution_count": 8,
   "id": "32689321-5e5a-41a3-9a90-a61619f4e3ea",
   "metadata": {
    "tags": []
   },
   "outputs": [],
   "source": [
    "# Train/test/val split ratios\n",
    "train_ratio = 0.8\n",
    "val_ratio = 0.1\n",
    "test_ratio = 0.1\n",
    "\n",
    "# Calculate sizes based on ratios\n",
    "total_size = len(features_df)\n",
    "train_size = int(train_ratio * total_size)\n",
    "val_size = int(val_ratio * total_size)\n",
    "train_val_size = train_size + val_size\n",
    "test_size = total_size - train_size - val_size\n",
    "\n",
    "# Split the data\n",
    "X_train = X[:train_val_size]\n",
    "y_train = y[:train_val_size]\n",
    "X_test = X[train_val_size:]\n",
    "y_test = y[train_val_size:]"
   ]
  },
  {
   "cell_type": "code",
   "execution_count": 9,
   "id": "38203644-7741-432a-a6bf-3cdf5f97dc26",
   "metadata": {
    "tags": []
   },
   "outputs": [
    {
     "name": "stdout",
     "output_type": "stream",
     "text": [
      "MAE: -2.922 (0.108)\n"
     ]
    },
    {
     "data": {
      "text/html": [
       "<style>#sk-container-id-1 {color: black;background-color: white;}#sk-container-id-1 pre{padding: 0;}#sk-container-id-1 div.sk-toggleable {background-color: white;}#sk-container-id-1 label.sk-toggleable__label {cursor: pointer;display: block;width: 100%;margin-bottom: 0;padding: 0.3em;box-sizing: border-box;text-align: center;}#sk-container-id-1 label.sk-toggleable__label-arrow:before {content: \"▸\";float: left;margin-right: 0.25em;color: #696969;}#sk-container-id-1 label.sk-toggleable__label-arrow:hover:before {color: black;}#sk-container-id-1 div.sk-estimator:hover label.sk-toggleable__label-arrow:before {color: black;}#sk-container-id-1 div.sk-toggleable__content {max-height: 0;max-width: 0;overflow: hidden;text-align: left;background-color: #f0f8ff;}#sk-container-id-1 div.sk-toggleable__content pre {margin: 0.2em;color: black;border-radius: 0.25em;background-color: #f0f8ff;}#sk-container-id-1 input.sk-toggleable__control:checked~div.sk-toggleable__content {max-height: 200px;max-width: 100%;overflow: auto;}#sk-container-id-1 input.sk-toggleable__control:checked~label.sk-toggleable__label-arrow:before {content: \"▾\";}#sk-container-id-1 div.sk-estimator input.sk-toggleable__control:checked~label.sk-toggleable__label {background-color: #d4ebff;}#sk-container-id-1 div.sk-label input.sk-toggleable__control:checked~label.sk-toggleable__label {background-color: #d4ebff;}#sk-container-id-1 input.sk-hidden--visually {border: 0;clip: rect(1px 1px 1px 1px);clip: rect(1px, 1px, 1px, 1px);height: 1px;margin: -1px;overflow: hidden;padding: 0;position: absolute;width: 1px;}#sk-container-id-1 div.sk-estimator {font-family: monospace;background-color: #f0f8ff;border: 1px dotted black;border-radius: 0.25em;box-sizing: border-box;margin-bottom: 0.5em;}#sk-container-id-1 div.sk-estimator:hover {background-color: #d4ebff;}#sk-container-id-1 div.sk-parallel-item::after {content: \"\";width: 100%;border-bottom: 1px solid gray;flex-grow: 1;}#sk-container-id-1 div.sk-label:hover label.sk-toggleable__label {background-color: #d4ebff;}#sk-container-id-1 div.sk-serial::before {content: \"\";position: absolute;border-left: 1px solid gray;box-sizing: border-box;top: 0;bottom: 0;left: 50%;z-index: 0;}#sk-container-id-1 div.sk-serial {display: flex;flex-direction: column;align-items: center;background-color: white;padding-right: 0.2em;padding-left: 0.2em;position: relative;}#sk-container-id-1 div.sk-item {position: relative;z-index: 1;}#sk-container-id-1 div.sk-parallel {display: flex;align-items: stretch;justify-content: center;background-color: white;position: relative;}#sk-container-id-1 div.sk-item::before, #sk-container-id-1 div.sk-parallel-item::before {content: \"\";position: absolute;border-left: 1px solid gray;box-sizing: border-box;top: 0;bottom: 0;left: 50%;z-index: -1;}#sk-container-id-1 div.sk-parallel-item {display: flex;flex-direction: column;z-index: 1;position: relative;background-color: white;}#sk-container-id-1 div.sk-parallel-item:first-child::after {align-self: flex-end;width: 50%;}#sk-container-id-1 div.sk-parallel-item:last-child::after {align-self: flex-start;width: 50%;}#sk-container-id-1 div.sk-parallel-item:only-child::after {width: 0;}#sk-container-id-1 div.sk-dashed-wrapped {border: 1px dashed gray;margin: 0 0.4em 0.5em 0.4em;box-sizing: border-box;padding-bottom: 0.4em;background-color: white;}#sk-container-id-1 div.sk-label label {font-family: monospace;font-weight: bold;display: inline-block;line-height: 1.2em;}#sk-container-id-1 div.sk-label-container {text-align: center;}#sk-container-id-1 div.sk-container {/* jupyter's `normalize.less` sets `[hidden] { display: none; }` but bootstrap.min.css set `[hidden] { display: none !important; }` so we also need the `!important` here to be able to override the default hidden behavior on the sphinx rendered scikit-learn.org. See: https://github.com/scikit-learn/scikit-learn/issues/21755 */display: inline-block !important;position: relative;}#sk-container-id-1 div.sk-text-repr-fallback {display: none;}</style><div id=\"sk-container-id-1\" class=\"sk-top-container\"><div class=\"sk-text-repr-fallback\"><pre>XGBRegressor(base_score=None, booster=None, callbacks=None,\n",
       "             colsample_bylevel=None, colsample_bynode=None,\n",
       "             colsample_bytree=None, device=None, early_stopping_rounds=None,\n",
       "             enable_categorical=False, eval_metric=None, feature_types=None,\n",
       "             gamma=None, grow_policy=None, importance_type=None,\n",
       "             interaction_constraints=None, learning_rate=None, max_bin=None,\n",
       "             max_cat_threshold=None, max_cat_to_onehot=None,\n",
       "             max_delta_step=None, max_depth=None, max_leaves=None,\n",
       "             min_child_weight=None, missing=nan, monotone_constraints=None,\n",
       "             multi_strategy=None, n_estimators=None, n_jobs=None,\n",
       "             num_parallel_tree=None, random_state=None, ...)</pre><b>In a Jupyter environment, please rerun this cell to show the HTML representation or trust the notebook. <br />On GitHub, the HTML representation is unable to render, please try loading this page with nbviewer.org.</b></div><div class=\"sk-container\" hidden><div class=\"sk-item\"><div class=\"sk-estimator sk-toggleable\"><input class=\"sk-toggleable__control sk-hidden--visually\" id=\"sk-estimator-id-1\" type=\"checkbox\" checked><label for=\"sk-estimator-id-1\" class=\"sk-toggleable__label sk-toggleable__label-arrow\">XGBRegressor</label><div class=\"sk-toggleable__content\"><pre>XGBRegressor(base_score=None, booster=None, callbacks=None,\n",
       "             colsample_bylevel=None, colsample_bynode=None,\n",
       "             colsample_bytree=None, device=None, early_stopping_rounds=None,\n",
       "             enable_categorical=False, eval_metric=None, feature_types=None,\n",
       "             gamma=None, grow_policy=None, importance_type=None,\n",
       "             interaction_constraints=None, learning_rate=None, max_bin=None,\n",
       "             max_cat_threshold=None, max_cat_to_onehot=None,\n",
       "             max_delta_step=None, max_depth=None, max_leaves=None,\n",
       "             min_child_weight=None, missing=nan, monotone_constraints=None,\n",
       "             multi_strategy=None, n_estimators=None, n_jobs=None,\n",
       "             num_parallel_tree=None, random_state=None, ...)</pre></div></div></div></div></div>"
      ],
      "text/plain": [
       "XGBRegressor(base_score=None, booster=None, callbacks=None,\n",
       "             colsample_bylevel=None, colsample_bynode=None,\n",
       "             colsample_bytree=None, device=None, early_stopping_rounds=None,\n",
       "             enable_categorical=False, eval_metric=None, feature_types=None,\n",
       "             gamma=None, grow_policy=None, importance_type=None,\n",
       "             interaction_constraints=None, learning_rate=None, max_bin=None,\n",
       "             max_cat_threshold=None, max_cat_to_onehot=None,\n",
       "             max_delta_step=None, max_depth=None, max_leaves=None,\n",
       "             min_child_weight=None, missing=nan, monotone_constraints=None,\n",
       "             multi_strategy=None, n_estimators=None, n_jobs=None,\n",
       "             num_parallel_tree=None, random_state=None, ...)"
      ]
     },
     "execution_count": 9,
     "metadata": {},
     "output_type": "execute_result"
    }
   ],
   "source": [
    "model_abs_only = XGBRegressor(objective='reg:squarederror')\n",
    "cv = RepeatedKFold(n_splits=10, n_repeats=3, random_state=1)\n",
    "n_scores = cross_val_score(model_abs_only, X_train, y_train, scoring='neg_mean_absolute_error', cv=cv, n_jobs=-1, error_score='raise')\n",
    "print('MAE: %.3f (%.3f)' % (mean(n_scores), std(n_scores)))\n",
    "\n",
    "# training\n",
    "model_abs_only = XGBRegressor(objective='reg:squarederror')\n",
    "model_abs_only.fit(X_train, y_train)"
   ]
  },
  {
   "cell_type": "code",
   "execution_count": 10,
   "id": "e0546493-ed3a-4716-8c73-06cf60d5a6d5",
   "metadata": {
    "tags": []
   },
   "outputs": [
    {
     "name": "stdout",
     "output_type": "stream",
     "text": [
      "Mean Absolute Error (MAE): 2.762\n",
      "Mean Squared Error (MSE): 12.077\n",
      "R^2 Score: 0.483\n"
     ]
    }
   ],
   "source": [
    "# Make predictions on the test set\n",
    "y_pred = model_abs_only.predict(X_test)\n",
    "\n",
    "# Calculate evaluation metrics\n",
    "mae = mean_absolute_error(y_test, y_pred)\n",
    "mse = mean_squared_error(y_test, y_pred)\n",
    "r2 = r2_score(y_test, y_pred)\n",
    "\n",
    "print(f\"Mean Absolute Error (MAE): {mae:.3f}\")\n",
    "print(f\"Mean Squared Error (MSE): {mse:.3f}\")\n",
    "print(f\"R^2 Score: {r2:.3f}\")"
   ]
  },
  {
   "cell_type": "markdown",
   "id": "c35eef44-15e5-4d57-b40c-898f38e61f97",
   "metadata": {},
   "source": [
    "### Bayesian Hyperoptimization"
   ]
  },
  {
   "cell_type": "code",
   "execution_count": 11,
   "id": "15a18e3a-8658-4fbc-bd81-1603dd8f4588",
   "metadata": {
    "tags": []
   },
   "outputs": [
    {
     "name": "stdout",
     "output_type": "stream",
     "text": [
      "100%|██████████| 100/100 [01:33<00:00,  1.06trial/s, best loss: 2.7544747973694994]\n",
      "Best set of hyperparameters:  {'colsample_bytree': 0.5228652730351819, 'gamma': 0.41089221510317375, 'learning_rate': 0.04700092548152954, 'max_depth': 8.0, 'n_estimators': 550.0, 'subsample': 0.9914954650099952}\n"
     ]
    }
   ],
   "source": [
    "space = {\n",
    "    'max_depth': hp.quniform('max_depth', 2, 32, 1),\n",
    "    'learning_rate': hp.loguniform('learning_rate', -6, -1),\n",
    "    'subsample': hp.uniform('subsample', 0.5, 1),\n",
    "    'n_estimators': hp.quniform('n_estimators', 100, 1000, 50),\n",
    "    'gamma': hp.uniform('gamma', 0, 5),\n",
    "    'colsample_bytree': hp.uniform('colsample_bytree', 0.5, 1)\n",
    "}\n",
    "\n",
    "def objective(params):\n",
    "    xgb_model = XGBRegressor(\n",
    "        max_depth=int(params['max_depth']),  # Ensure max_depth is an integer\n",
    "        learning_rate=params['learning_rate'],\n",
    "        subsample=params['subsample'],\n",
    "        n_estimators=int(params['n_estimators']),  # Ensure n_estimators is an integer\n",
    "        gamma=params['gamma'],\n",
    "        colsample_bytree=params['colsample_bytree']\n",
    "    )\n",
    "    xgb_model.fit(X_train, y_train)\n",
    "    y_pred = xgb_model.predict(X_test)\n",
    "    score = mean_absolute_error(y_test, y_pred)\n",
    "    return {'loss': score, 'status': STATUS_OK}\n",
    "\n",
    "best_params = fmin(objective, space, algo=tpe.suggest, max_evals=100)\n",
    "print(\"Best set of hyperparameters: \", best_params)"
   ]
  },
  {
   "cell_type": "code",
   "execution_count": 12,
   "id": "50392bca-9161-497c-aa99-dcdda78e6662",
   "metadata": {
    "tags": []
   },
   "outputs": [
    {
     "name": "stdout",
     "output_type": "stream",
     "text": [
      "Mean Absolute Error (MAE): 2.754\n",
      "Mean Squared Error (MSE): 11.998\n",
      "R^2 Score: 0.486\n"
     ]
    }
   ],
   "source": [
    "best_params = {'colsample_bytree': 0.5228652730351819, \n",
    "               'gamma': 0.41089221510317375, \n",
    "               'learning_rate': 0.04700092548152954, \n",
    "               'max_depth': 8, \n",
    "               'n_estimators': 550, \n",
    "               'subsample': 0.9914954650099952}\n",
    "\n",
    "optim_model = XGBRegressor(**best_params)\n",
    "\n",
    "# Train the model\n",
    "optim_model.fit(X_train, y_train)\n",
    "\n",
    "# Make predictions on the test set\n",
    "y_pred = optim_model.predict(X_test)\n",
    "\n",
    "# Evaluate the model performance\n",
    "mae = mean_absolute_error(y_test, y_pred)\n",
    "mse = mean_squared_error(y_test, y_pred)\n",
    "r2 = r2_score(y_test, y_pred)\n",
    "\n",
    "print(f\"Mean Absolute Error (MAE): {mae:.3f}\")\n",
    "print(f\"Mean Squared Error (MSE): {mse:.3f}\")\n",
    "print(f\"R^2 Score: {r2:.3f}\")"
   ]
  },
  {
   "cell_type": "markdown",
   "id": "578a6f7b-cd5a-40a9-bbd9-09dc7d2327f1",
   "metadata": {},
   "source": [
    "### Save predictions for model comparison ANOVA"
   ]
  },
  {
   "cell_type": "code",
   "execution_count": 13,
   "id": "3c0ad16b-abf8-4847-9f1b-c82822cf15f6",
   "metadata": {
    "tags": []
   },
   "outputs": [],
   "source": [
    "XGBoost_predictions = pd.DataFrame()\n",
    "XGBoost_predictions['predicted'] = list(y_pred)\n",
    "XGBoost_predictions['true_values'] = list(y_test)\n",
    "\n",
    "XGBoost_predictions.to_csv('data_RO2/XGBoost_abs_only_predictions.csv', index=False)"
   ]
  },
  {
   "cell_type": "markdown",
   "id": "8d484fc1-9a45-4a93-8859-69b9f1716f48",
   "metadata": {},
   "source": [
    "### Save model for future use"
   ]
  },
  {
   "cell_type": "code",
   "execution_count": 14,
   "id": "ad989d53-324e-4133-aaed-079a7f3b7979",
   "metadata": {
    "tags": []
   },
   "outputs": [],
   "source": [
    "# Save model\n",
    "optim_model.save_model('models/xgboost_models/xgboost_absorber_model.json')\n",
    "# can be loaded with\n",
    "# optim_model.load_model('models/xgboost_models/xgboost_labels_model.json')"
   ]
  },
  {
   "cell_type": "markdown",
   "id": "1c3f0390-0c07-4858-8bc7-37ef1b860132",
   "metadata": {},
   "source": [
    "## Absorber and Label Encoding"
   ]
  },
  {
   "cell_type": "code",
   "execution_count": 16,
   "id": "05c43b36-f675-438f-97e9-b8fbd0df7e45",
   "metadata": {
    "tags": []
   },
   "outputs": [],
   "source": [
    "X = features_df.iloc[:, :78].drop(columns='pce')\n",
    "y = features_df['pce']\n",
    "\n",
    "# Get the unique values\n",
    "etl_values = df_all_identified['etl'].unique()\n",
    "htl_values = df_all_identified['htl'].unique()\n",
    "\n",
    "# Create a dictionary mapping each value to an integer\n",
    "etl_dict = {value: index for index, value in enumerate(etl_values)}\n",
    "htl_dict = {value: index for index, value in enumerate(htl_values)}\n",
    "\n",
    "# Replace each value with its corresponding integer\n",
    "X['etl_encoded'] = df_all_identified['etl'].map(etl_dict)\n",
    "X['htl_encoded'] = df_all_identified['htl'].map(htl_dict)"
   ]
  },
  {
   "cell_type": "markdown",
   "id": "a551607b-5b03-4246-b1bd-0c377cf23957",
   "metadata": {},
   "source": [
    "### Train Test Split"
   ]
  },
  {
   "cell_type": "code",
   "execution_count": 17,
   "id": "061fdde4-a1ec-480e-8ab8-339d86ae0b65",
   "metadata": {
    "tags": []
   },
   "outputs": [],
   "source": [
    "# put into the pre-defined shuffled order\n",
    "X = X.iloc[splitting_indices]\n",
    "y = y.iloc[splitting_indices]\n",
    "\n",
    "# Train/test/val split ratios\n",
    "train_ratio = 0.8\n",
    "val_ratio = 0.1\n",
    "test_ratio = 0.1\n",
    "\n",
    "# Calculate sizes based on ratios\n",
    "total_size = len(features_df)\n",
    "train_size = int(train_ratio * total_size)\n",
    "val_size = int(val_ratio * total_size)\n",
    "train_val_size = train_size + val_size\n",
    "test_size = total_size - train_size - val_size\n",
    "\n",
    "# Split the data\n",
    "X_train = X[:train_val_size]\n",
    "y_train = y[:train_val_size]\n",
    "X_test = X[train_val_size:]\n",
    "y_test = y[train_val_size:]"
   ]
  },
  {
   "cell_type": "markdown",
   "id": "e9ed7978-8d1b-485f-984a-a5952f61a546",
   "metadata": {},
   "source": [
    "### Training"
   ]
  },
  {
   "cell_type": "code",
   "execution_count": 19,
   "id": "e18677d0-a0fd-4231-8bd7-ee9f075786ff",
   "metadata": {
    "tags": []
   },
   "outputs": [
    {
     "name": "stdout",
     "output_type": "stream",
     "text": [
      "MAE: -2.612 (0.097)\n"
     ]
    },
    {
     "data": {
      "text/html": [
       "<style>#sk-container-id-3 {color: black;background-color: white;}#sk-container-id-3 pre{padding: 0;}#sk-container-id-3 div.sk-toggleable {background-color: white;}#sk-container-id-3 label.sk-toggleable__label {cursor: pointer;display: block;width: 100%;margin-bottom: 0;padding: 0.3em;box-sizing: border-box;text-align: center;}#sk-container-id-3 label.sk-toggleable__label-arrow:before {content: \"▸\";float: left;margin-right: 0.25em;color: #696969;}#sk-container-id-3 label.sk-toggleable__label-arrow:hover:before {color: black;}#sk-container-id-3 div.sk-estimator:hover label.sk-toggleable__label-arrow:before {color: black;}#sk-container-id-3 div.sk-toggleable__content {max-height: 0;max-width: 0;overflow: hidden;text-align: left;background-color: #f0f8ff;}#sk-container-id-3 div.sk-toggleable__content pre {margin: 0.2em;color: black;border-radius: 0.25em;background-color: #f0f8ff;}#sk-container-id-3 input.sk-toggleable__control:checked~div.sk-toggleable__content {max-height: 200px;max-width: 100%;overflow: auto;}#sk-container-id-3 input.sk-toggleable__control:checked~label.sk-toggleable__label-arrow:before {content: \"▾\";}#sk-container-id-3 div.sk-estimator input.sk-toggleable__control:checked~label.sk-toggleable__label {background-color: #d4ebff;}#sk-container-id-3 div.sk-label input.sk-toggleable__control:checked~label.sk-toggleable__label {background-color: #d4ebff;}#sk-container-id-3 input.sk-hidden--visually {border: 0;clip: rect(1px 1px 1px 1px);clip: rect(1px, 1px, 1px, 1px);height: 1px;margin: -1px;overflow: hidden;padding: 0;position: absolute;width: 1px;}#sk-container-id-3 div.sk-estimator {font-family: monospace;background-color: #f0f8ff;border: 1px dotted black;border-radius: 0.25em;box-sizing: border-box;margin-bottom: 0.5em;}#sk-container-id-3 div.sk-estimator:hover {background-color: #d4ebff;}#sk-container-id-3 div.sk-parallel-item::after {content: \"\";width: 100%;border-bottom: 1px solid gray;flex-grow: 1;}#sk-container-id-3 div.sk-label:hover label.sk-toggleable__label {background-color: #d4ebff;}#sk-container-id-3 div.sk-serial::before {content: \"\";position: absolute;border-left: 1px solid gray;box-sizing: border-box;top: 0;bottom: 0;left: 50%;z-index: 0;}#sk-container-id-3 div.sk-serial {display: flex;flex-direction: column;align-items: center;background-color: white;padding-right: 0.2em;padding-left: 0.2em;position: relative;}#sk-container-id-3 div.sk-item {position: relative;z-index: 1;}#sk-container-id-3 div.sk-parallel {display: flex;align-items: stretch;justify-content: center;background-color: white;position: relative;}#sk-container-id-3 div.sk-item::before, #sk-container-id-3 div.sk-parallel-item::before {content: \"\";position: absolute;border-left: 1px solid gray;box-sizing: border-box;top: 0;bottom: 0;left: 50%;z-index: -1;}#sk-container-id-3 div.sk-parallel-item {display: flex;flex-direction: column;z-index: 1;position: relative;background-color: white;}#sk-container-id-3 div.sk-parallel-item:first-child::after {align-self: flex-end;width: 50%;}#sk-container-id-3 div.sk-parallel-item:last-child::after {align-self: flex-start;width: 50%;}#sk-container-id-3 div.sk-parallel-item:only-child::after {width: 0;}#sk-container-id-3 div.sk-dashed-wrapped {border: 1px dashed gray;margin: 0 0.4em 0.5em 0.4em;box-sizing: border-box;padding-bottom: 0.4em;background-color: white;}#sk-container-id-3 div.sk-label label {font-family: monospace;font-weight: bold;display: inline-block;line-height: 1.2em;}#sk-container-id-3 div.sk-label-container {text-align: center;}#sk-container-id-3 div.sk-container {/* jupyter's `normalize.less` sets `[hidden] { display: none; }` but bootstrap.min.css set `[hidden] { display: none !important; }` so we also need the `!important` here to be able to override the default hidden behavior on the sphinx rendered scikit-learn.org. See: https://github.com/scikit-learn/scikit-learn/issues/21755 */display: inline-block !important;position: relative;}#sk-container-id-3 div.sk-text-repr-fallback {display: none;}</style><div id=\"sk-container-id-3\" class=\"sk-top-container\"><div class=\"sk-text-repr-fallback\"><pre>XGBRegressor(base_score=None, booster=None, callbacks=None,\n",
       "             colsample_bylevel=None, colsample_bynode=None,\n",
       "             colsample_bytree=None, device=None, early_stopping_rounds=None,\n",
       "             enable_categorical=False, eval_metric=None, feature_types=None,\n",
       "             gamma=None, grow_policy=None, importance_type=None,\n",
       "             interaction_constraints=None, learning_rate=None, max_bin=None,\n",
       "             max_cat_threshold=None, max_cat_to_onehot=None,\n",
       "             max_delta_step=None, max_depth=None, max_leaves=None,\n",
       "             min_child_weight=None, missing=nan, monotone_constraints=None,\n",
       "             multi_strategy=None, n_estimators=None, n_jobs=None,\n",
       "             num_parallel_tree=None, random_state=None, ...)</pre><b>In a Jupyter environment, please rerun this cell to show the HTML representation or trust the notebook. <br />On GitHub, the HTML representation is unable to render, please try loading this page with nbviewer.org.</b></div><div class=\"sk-container\" hidden><div class=\"sk-item\"><div class=\"sk-estimator sk-toggleable\"><input class=\"sk-toggleable__control sk-hidden--visually\" id=\"sk-estimator-id-3\" type=\"checkbox\" checked><label for=\"sk-estimator-id-3\" class=\"sk-toggleable__label sk-toggleable__label-arrow\">XGBRegressor</label><div class=\"sk-toggleable__content\"><pre>XGBRegressor(base_score=None, booster=None, callbacks=None,\n",
       "             colsample_bylevel=None, colsample_bynode=None,\n",
       "             colsample_bytree=None, device=None, early_stopping_rounds=None,\n",
       "             enable_categorical=False, eval_metric=None, feature_types=None,\n",
       "             gamma=None, grow_policy=None, importance_type=None,\n",
       "             interaction_constraints=None, learning_rate=None, max_bin=None,\n",
       "             max_cat_threshold=None, max_cat_to_onehot=None,\n",
       "             max_delta_step=None, max_depth=None, max_leaves=None,\n",
       "             min_child_weight=None, missing=nan, monotone_constraints=None,\n",
       "             multi_strategy=None, n_estimators=None, n_jobs=None,\n",
       "             num_parallel_tree=None, random_state=None, ...)</pre></div></div></div></div></div>"
      ],
      "text/plain": [
       "XGBRegressor(base_score=None, booster=None, callbacks=None,\n",
       "             colsample_bylevel=None, colsample_bynode=None,\n",
       "             colsample_bytree=None, device=None, early_stopping_rounds=None,\n",
       "             enable_categorical=False, eval_metric=None, feature_types=None,\n",
       "             gamma=None, grow_policy=None, importance_type=None,\n",
       "             interaction_constraints=None, learning_rate=None, max_bin=None,\n",
       "             max_cat_threshold=None, max_cat_to_onehot=None,\n",
       "             max_delta_step=None, max_depth=None, max_leaves=None,\n",
       "             min_child_weight=None, missing=nan, monotone_constraints=None,\n",
       "             multi_strategy=None, n_estimators=None, n_jobs=None,\n",
       "             num_parallel_tree=None, random_state=None, ...)"
      ]
     },
     "execution_count": 19,
     "metadata": {},
     "output_type": "execute_result"
    }
   ],
   "source": [
    "model_label_encoding = XGBRegressor(objective='reg:squarederror')\n",
    "cv = RepeatedKFold(n_splits=10, n_repeats=3, random_state=1)\n",
    "n_scores = cross_val_score(model_label_encoding, X_train, y_train, scoring='neg_mean_absolute_error', cv=cv, n_jobs=-1, error_score='raise')\n",
    "print('MAE: %.3f (%.3f)' % (mean(n_scores), std(n_scores)))\n",
    "\n",
    "# training\n",
    "model = XGBRegressor(objective='reg:squarederror')\n",
    "model.fit(X_train, y_train)"
   ]
  },
  {
   "cell_type": "code",
   "execution_count": 20,
   "id": "31895ce6-0ae0-4ab9-97ec-08bcc932d2e7",
   "metadata": {
    "tags": []
   },
   "outputs": [
    {
     "name": "stdout",
     "output_type": "stream",
     "text": [
      "Mean Absolute Error (MAE): 2.551\n",
      "Mean Squared Error (MSE): 10.495\n",
      "R^2 Score: 0.550\n"
     ]
    }
   ],
   "source": [
    "# Make predictions on the test set\n",
    "y_pred = model.predict(X_test)\n",
    "\n",
    "# Calculate evaluation metrics\n",
    "mae = mean_absolute_error(y_test, y_pred)\n",
    "mse = mean_squared_error(y_test, y_pred)\n",
    "r2 = r2_score(y_test, y_pred)\n",
    "\n",
    "print(f\"Mean Absolute Error (MAE): {mae:.3f}\")\n",
    "print(f\"Mean Squared Error (MSE): {mse:.3f}\")\n",
    "print(f\"R^2 Score: {r2:.3f}\")"
   ]
  },
  {
   "cell_type": "markdown",
   "id": "1bfe045c-ea88-41dd-b838-b7fb2965d60d",
   "metadata": {},
   "source": [
    "### Bayesian Hyperparameter Optimization"
   ]
  },
  {
   "cell_type": "code",
   "execution_count": 21,
   "id": "ba85e827-08c4-4554-ab40-e17f5f228a94",
   "metadata": {
    "tags": []
   },
   "outputs": [
    {
     "name": "stdout",
     "output_type": "stream",
     "text": [
      "100%|██████████| 100/100 [01:43<00:00,  1.03s/trial, best loss: 2.4928134332823215]\n",
      "Best set of hyperparameters:  {'colsample_bytree': 0.8358819866311915, 'gamma': 1.5707571535921143, 'learning_rate': 0.06662461294109874, 'max_depth': 7.0, 'n_estimators': 750.0, 'subsample': 0.6954963949941932}\n"
     ]
    }
   ],
   "source": [
    "space = {\n",
    "    'max_depth': hp.quniform('max_depth', 2, 32, 1),\n",
    "    'learning_rate': hp.loguniform('learning_rate', -6, -1),\n",
    "    'subsample': hp.uniform('subsample', 0.5, 1),\n",
    "    'n_estimators': hp.quniform('n_estimators', 100, 1000, 50),\n",
    "    'gamma': hp.uniform('gamma', 0, 5),\n",
    "    'colsample_bytree': hp.uniform('colsample_bytree', 0.5, 1)\n",
    "}\n",
    "\n",
    "def objective(params):\n",
    "    xgb_model = XGBRegressor(\n",
    "        max_depth=int(params['max_depth']),  # Ensure max_depth is an integer\n",
    "        learning_rate=params['learning_rate'],\n",
    "        subsample=params['subsample'],\n",
    "        n_estimators=int(params['n_estimators']),  # Ensure n_estimators is an integer\n",
    "        gamma=params['gamma'],\n",
    "        colsample_bytree=params['colsample_bytree']\n",
    "    )\n",
    "    xgb_model.fit(X_train, y_train)\n",
    "    y_pred = xgb_model.predict(X_test)\n",
    "    score = mean_absolute_error(y_test, y_pred)\n",
    "    return {'loss': score, 'status': STATUS_OK}\n",
    "\n",
    "best_params = fmin(objective, space, algo=tpe.suggest, max_evals=100)\n",
    "print(\"Best set of hyperparameters: \", best_params)"
   ]
  },
  {
   "cell_type": "code",
   "execution_count": 22,
   "id": "97278463-c392-494c-869f-3bb27d4d3fc2",
   "metadata": {
    "tags": []
   },
   "outputs": [
    {
     "name": "stdout",
     "output_type": "stream",
     "text": [
      "Mean Absolute Error (MAE): 2.493\n",
      "Mean Squared Error (MSE): 10.090\n",
      "R^2 Score: 0.568\n"
     ]
    }
   ],
   "source": [
    "best_params = {'colsample_bytree': 0.8358819866311915, \n",
    "               'gamma': 1.5707571535921143, \n",
    "               'learning_rate': 0.06662461294109874, \n",
    "               'max_depth': 7, \n",
    "               'n_estimators': 750, \n",
    "               'subsample': 0.6954963949941932}\n",
    "\n",
    "optim_model = XGBRegressor(**best_params)\n",
    "\n",
    "# Train the model\n",
    "optim_model.fit(X_train, y_train)\n",
    "\n",
    "# Make predictions on the test set\n",
    "y_pred = optim_model.predict(X_test)\n",
    "\n",
    "# Evaluate the model performance\n",
    "mae = mean_absolute_error(y_test, y_pred)\n",
    "mse = mean_squared_error(y_test, y_pred)\n",
    "r2 = r2_score(y_test, y_pred)\n",
    "\n",
    "print(f\"Mean Absolute Error (MAE): {mae:.3f}\")\n",
    "print(f\"Mean Squared Error (MSE): {mse:.3f}\")\n",
    "print(f\"R^2 Score: {r2:.3f}\")"
   ]
  },
  {
   "cell_type": "markdown",
   "id": "061e82fc-fb3c-4b1b-b092-556ee395fcc6",
   "metadata": {},
   "source": [
    "### Save predictions for comparison ANOVA"
   ]
  },
  {
   "cell_type": "code",
   "execution_count": 23,
   "id": "2058d462-3034-4b73-877f-2759cdbc490c",
   "metadata": {
    "tags": []
   },
   "outputs": [],
   "source": [
    "XGBoost_predictions = pd.DataFrame()\n",
    "XGBoost_predictions['predicted'] = list(y_pred)\n",
    "XGBoost_predictions['true_values'] = list(y_test)\n",
    "\n",
    "XGBoost_predictions.to_csv('data_RO2/XGBoost_labels_predictions.csv', index=False)"
   ]
  },
  {
   "cell_type": "markdown",
   "id": "6f70618d-029a-47f1-aeb4-2ab20ef2e323",
   "metadata": {},
   "source": [
    "### Save model for future use"
   ]
  },
  {
   "cell_type": "code",
   "execution_count": 24,
   "id": "ba9c9562-74a7-4667-9b9e-24e070985467",
   "metadata": {
    "tags": []
   },
   "outputs": [],
   "source": [
    "# Save model\n",
    "optim_model.save_model('models/xgboost_models/xgboost_labels_model.json')\n",
    "# can be loaded with\n",
    "# optim_model.load_model('models/xgboost_models/xgboost_labels_model.json')"
   ]
  },
  {
   "cell_type": "markdown",
   "id": "6f5e0814-6269-42e9-a2dc-3949497c0bce",
   "metadata": {},
   "source": [
    "## Absorber and Fingerprints\n",
    "### Train Test Split"
   ]
  },
  {
   "cell_type": "code",
   "execution_count": 25,
   "id": "04f78c96-e154-40be-a870-73bffa29a0d0",
   "metadata": {
    "tags": []
   },
   "outputs": [],
   "source": [
    "X = features_df.drop(columns=['pce'])\n",
    "y = features_df['pce']\n",
    "\n",
    "# put into the pre-defined shuffled order\n",
    "X = X.iloc[splitting_indices]\n",
    "y = y.iloc[splitting_indices]\n",
    "\n",
    "# Train/test/val split ratios\n",
    "train_ratio = 0.8\n",
    "val_ratio = 0.1\n",
    "test_ratio = 0.1\n",
    "\n",
    "# Calculate sizes based on ratios\n",
    "total_size = len(features_df)\n",
    "train_size = int(train_ratio * total_size)\n",
    "val_size = int(val_ratio * total_size)\n",
    "train_val_size = train_size + val_size\n",
    "test_size = total_size - train_size - val_size\n",
    "\n",
    "# Split the data\n",
    "X_train = X[:train_val_size]\n",
    "y_train = y[:train_val_size]\n",
    "X_test = X[train_val_size:]\n",
    "y_test = y[train_val_size:]"
   ]
  },
  {
   "cell_type": "markdown",
   "id": "6f935460-6305-446f-b857-734a5ce2b8a0",
   "metadata": {},
   "source": [
    "### Training"
   ]
  },
  {
   "cell_type": "code",
   "execution_count": 26,
   "id": "d9d35136-afc5-46ae-8d28-cc22458a7409",
   "metadata": {
    "tags": []
   },
   "outputs": [
    {
     "name": "stdout",
     "output_type": "stream",
     "text": [
      "MAE: -2.566 (0.096)\n"
     ]
    },
    {
     "data": {
      "text/html": [
       "<style>#sk-container-id-4 {color: black;background-color: white;}#sk-container-id-4 pre{padding: 0;}#sk-container-id-4 div.sk-toggleable {background-color: white;}#sk-container-id-4 label.sk-toggleable__label {cursor: pointer;display: block;width: 100%;margin-bottom: 0;padding: 0.3em;box-sizing: border-box;text-align: center;}#sk-container-id-4 label.sk-toggleable__label-arrow:before {content: \"▸\";float: left;margin-right: 0.25em;color: #696969;}#sk-container-id-4 label.sk-toggleable__label-arrow:hover:before {color: black;}#sk-container-id-4 div.sk-estimator:hover label.sk-toggleable__label-arrow:before {color: black;}#sk-container-id-4 div.sk-toggleable__content {max-height: 0;max-width: 0;overflow: hidden;text-align: left;background-color: #f0f8ff;}#sk-container-id-4 div.sk-toggleable__content pre {margin: 0.2em;color: black;border-radius: 0.25em;background-color: #f0f8ff;}#sk-container-id-4 input.sk-toggleable__control:checked~div.sk-toggleable__content {max-height: 200px;max-width: 100%;overflow: auto;}#sk-container-id-4 input.sk-toggleable__control:checked~label.sk-toggleable__label-arrow:before {content: \"▾\";}#sk-container-id-4 div.sk-estimator input.sk-toggleable__control:checked~label.sk-toggleable__label {background-color: #d4ebff;}#sk-container-id-4 div.sk-label input.sk-toggleable__control:checked~label.sk-toggleable__label {background-color: #d4ebff;}#sk-container-id-4 input.sk-hidden--visually {border: 0;clip: rect(1px 1px 1px 1px);clip: rect(1px, 1px, 1px, 1px);height: 1px;margin: -1px;overflow: hidden;padding: 0;position: absolute;width: 1px;}#sk-container-id-4 div.sk-estimator {font-family: monospace;background-color: #f0f8ff;border: 1px dotted black;border-radius: 0.25em;box-sizing: border-box;margin-bottom: 0.5em;}#sk-container-id-4 div.sk-estimator:hover {background-color: #d4ebff;}#sk-container-id-4 div.sk-parallel-item::after {content: \"\";width: 100%;border-bottom: 1px solid gray;flex-grow: 1;}#sk-container-id-4 div.sk-label:hover label.sk-toggleable__label {background-color: #d4ebff;}#sk-container-id-4 div.sk-serial::before {content: \"\";position: absolute;border-left: 1px solid gray;box-sizing: border-box;top: 0;bottom: 0;left: 50%;z-index: 0;}#sk-container-id-4 div.sk-serial {display: flex;flex-direction: column;align-items: center;background-color: white;padding-right: 0.2em;padding-left: 0.2em;position: relative;}#sk-container-id-4 div.sk-item {position: relative;z-index: 1;}#sk-container-id-4 div.sk-parallel {display: flex;align-items: stretch;justify-content: center;background-color: white;position: relative;}#sk-container-id-4 div.sk-item::before, #sk-container-id-4 div.sk-parallel-item::before {content: \"\";position: absolute;border-left: 1px solid gray;box-sizing: border-box;top: 0;bottom: 0;left: 50%;z-index: -1;}#sk-container-id-4 div.sk-parallel-item {display: flex;flex-direction: column;z-index: 1;position: relative;background-color: white;}#sk-container-id-4 div.sk-parallel-item:first-child::after {align-self: flex-end;width: 50%;}#sk-container-id-4 div.sk-parallel-item:last-child::after {align-self: flex-start;width: 50%;}#sk-container-id-4 div.sk-parallel-item:only-child::after {width: 0;}#sk-container-id-4 div.sk-dashed-wrapped {border: 1px dashed gray;margin: 0 0.4em 0.5em 0.4em;box-sizing: border-box;padding-bottom: 0.4em;background-color: white;}#sk-container-id-4 div.sk-label label {font-family: monospace;font-weight: bold;display: inline-block;line-height: 1.2em;}#sk-container-id-4 div.sk-label-container {text-align: center;}#sk-container-id-4 div.sk-container {/* jupyter's `normalize.less` sets `[hidden] { display: none; }` but bootstrap.min.css set `[hidden] { display: none !important; }` so we also need the `!important` here to be able to override the default hidden behavior on the sphinx rendered scikit-learn.org. See: https://github.com/scikit-learn/scikit-learn/issues/21755 */display: inline-block !important;position: relative;}#sk-container-id-4 div.sk-text-repr-fallback {display: none;}</style><div id=\"sk-container-id-4\" class=\"sk-top-container\"><div class=\"sk-text-repr-fallback\"><pre>XGBRegressor(base_score=None, booster=None, callbacks=None,\n",
       "             colsample_bylevel=None, colsample_bynode=None,\n",
       "             colsample_bytree=None, device=None, early_stopping_rounds=None,\n",
       "             enable_categorical=False, eval_metric=None, feature_types=None,\n",
       "             gamma=None, grow_policy=None, importance_type=None,\n",
       "             interaction_constraints=None, learning_rate=None, max_bin=None,\n",
       "             max_cat_threshold=None, max_cat_to_onehot=None,\n",
       "             max_delta_step=None, max_depth=None, max_leaves=None,\n",
       "             min_child_weight=None, missing=nan, monotone_constraints=None,\n",
       "             multi_strategy=None, n_estimators=None, n_jobs=None,\n",
       "             num_parallel_tree=None, random_state=None, ...)</pre><b>In a Jupyter environment, please rerun this cell to show the HTML representation or trust the notebook. <br />On GitHub, the HTML representation is unable to render, please try loading this page with nbviewer.org.</b></div><div class=\"sk-container\" hidden><div class=\"sk-item\"><div class=\"sk-estimator sk-toggleable\"><input class=\"sk-toggleable__control sk-hidden--visually\" id=\"sk-estimator-id-4\" type=\"checkbox\" checked><label for=\"sk-estimator-id-4\" class=\"sk-toggleable__label sk-toggleable__label-arrow\">XGBRegressor</label><div class=\"sk-toggleable__content\"><pre>XGBRegressor(base_score=None, booster=None, callbacks=None,\n",
       "             colsample_bylevel=None, colsample_bynode=None,\n",
       "             colsample_bytree=None, device=None, early_stopping_rounds=None,\n",
       "             enable_categorical=False, eval_metric=None, feature_types=None,\n",
       "             gamma=None, grow_policy=None, importance_type=None,\n",
       "             interaction_constraints=None, learning_rate=None, max_bin=None,\n",
       "             max_cat_threshold=None, max_cat_to_onehot=None,\n",
       "             max_delta_step=None, max_depth=None, max_leaves=None,\n",
       "             min_child_weight=None, missing=nan, monotone_constraints=None,\n",
       "             multi_strategy=None, n_estimators=None, n_jobs=None,\n",
       "             num_parallel_tree=None, random_state=None, ...)</pre></div></div></div></div></div>"
      ],
      "text/plain": [
       "XGBRegressor(base_score=None, booster=None, callbacks=None,\n",
       "             colsample_bylevel=None, colsample_bynode=None,\n",
       "             colsample_bytree=None, device=None, early_stopping_rounds=None,\n",
       "             enable_categorical=False, eval_metric=None, feature_types=None,\n",
       "             gamma=None, grow_policy=None, importance_type=None,\n",
       "             interaction_constraints=None, learning_rate=None, max_bin=None,\n",
       "             max_cat_threshold=None, max_cat_to_onehot=None,\n",
       "             max_delta_step=None, max_depth=None, max_leaves=None,\n",
       "             min_child_weight=None, missing=nan, monotone_constraints=None,\n",
       "             multi_strategy=None, n_estimators=None, n_jobs=None,\n",
       "             num_parallel_tree=None, random_state=None, ...)"
      ]
     },
     "execution_count": 26,
     "metadata": {},
     "output_type": "execute_result"
    }
   ],
   "source": [
    "model = XGBRegressor(objective='reg:squarederror')\n",
    "cv = RepeatedKFold(n_splits=10, n_repeats=3, random_state=1)\n",
    "n_scores = cross_val_score(model, X_train, y_train, scoring='neg_mean_absolute_error', cv=cv, n_jobs=-1, error_score='raise')\n",
    "print('MAE: %.3f (%.3f)' % (mean(n_scores), std(n_scores)))\n",
    "\n",
    "# training\n",
    "model = XGBRegressor(objective='reg:squarederror')\n",
    "model.fit(X_train, y_train)"
   ]
  },
  {
   "cell_type": "code",
   "execution_count": 27,
   "id": "694735b1-b8ee-4b33-bebb-1c331a478bf2",
   "metadata": {
    "tags": []
   },
   "outputs": [
    {
     "name": "stdout",
     "output_type": "stream",
     "text": [
      "Mean Absolute Error (MAE): 2.513\n",
      "Mean Squared Error (MSE): 10.162\n",
      "R^2 Score: 0.565\n"
     ]
    }
   ],
   "source": [
    "# Make predictions on the test set\n",
    "y_pred = model.predict(X_test)\n",
    "\n",
    "# Calculate evaluation metrics\n",
    "mae = mean_absolute_error(y_test, y_pred)\n",
    "mse = mean_squared_error(y_test, y_pred)\n",
    "r2 = r2_score(y_test, y_pred)\n",
    "\n",
    "print(f\"Mean Absolute Error (MAE): {mae:.3f}\")\n",
    "print(f\"Mean Squared Error (MSE): {mse:.3f}\")\n",
    "print(f\"R^2 Score: {r2:.3f}\")"
   ]
  },
  {
   "cell_type": "markdown",
   "id": "d0bf155e-00e7-4658-afbf-b7c62b31deed",
   "metadata": {},
   "source": [
    "### Bayesian Optimization for Hyperparameters"
   ]
  },
  {
   "cell_type": "code",
   "execution_count": 28,
   "id": "28c7b6e2-f78f-4022-b936-e6428994dd0c",
   "metadata": {
    "tags": []
   },
   "outputs": [
    {
     "name": "stdout",
     "output_type": "stream",
     "text": [
      "100%|██████████| 100/100 [11:38<00:00,  6.98s/trial, best loss: 2.4485359950979415]\n",
      "Best set of hyperparameters:  {'colsample_bytree': 0.6619917972589349, 'gamma': 1.9191744681068839, 'learning_rate': 0.03061390509936575, 'max_depth': 9.0, 'n_estimators': 1000.0, 'subsample': 0.5735458208045199}\n"
     ]
    }
   ],
   "source": [
    "space = {\n",
    "    'max_depth': hp.quniform('max_depth', 2, 32, 1),\n",
    "    'learning_rate': hp.loguniform('learning_rate', -6, -1),\n",
    "    'subsample': hp.uniform('subsample', 0.5, 1),\n",
    "    'n_estimators': hp.quniform('n_estimators', 100, 1000, 50),\n",
    "    'gamma': hp.uniform('gamma', 0, 5),\n",
    "    'colsample_bytree': hp.uniform('colsample_bytree', 0.5, 1)\n",
    "}\n",
    "\n",
    "def objective(params):\n",
    "    xgb_model = XGBRegressor(\n",
    "        max_depth=int(params['max_depth']),  # Ensure max_depth is an integer\n",
    "        learning_rate=params['learning_rate'],\n",
    "        subsample=params['subsample'],\n",
    "        n_estimators=int(params['n_estimators']),  # Ensure n_estimators is an integer\n",
    "        gamma=params['gamma'],\n",
    "        colsample_bytree=params['colsample_bytree']\n",
    "    )\n",
    "    xgb_model.fit(X_train, y_train)\n",
    "    y_pred = xgb_model.predict(X_test)\n",
    "    score = mean_absolute_error(y_test, y_pred)\n",
    "    return {'loss': score, 'status': STATUS_OK}\n",
    "\n",
    "best_params = fmin(objective, space, algo=tpe.suggest, max_evals=100)\n",
    "print(\"Best set of hyperparameters: \", best_params)"
   ]
  },
  {
   "cell_type": "markdown",
   "id": "178bea0a-9162-4224-9dec-a7c82f0aeae1",
   "metadata": {},
   "source": [
    "### Training with optimal values"
   ]
  },
  {
   "cell_type": "code",
   "execution_count": 32,
   "id": "35586cea-53e7-416f-9a79-ed4682c7f84a",
   "metadata": {
    "tags": []
   },
   "outputs": [
    {
     "name": "stdout",
     "output_type": "stream",
     "text": [
      "Mean Absolute Error (MAE): 2.449\n",
      "Mean Squared Error (MSE): 9.869\n",
      "R^2 Score: 0.577\n"
     ]
    }
   ],
   "source": [
    "best_params = {'colsample_bytree': 0.6619917972589349, \n",
    "               'gamma': 1.9191744681068839, \n",
    "               'learning_rate': 0.03061390509936575, \n",
    "               'max_depth': 9, \n",
    "               'n_estimators': 1000, \n",
    "               'subsample': 0.5735458208045199}\n",
    "\n",
    "optim_model = XGBRegressor(**best_params)\n",
    "\n",
    "# Train the model\n",
    "optim_model.fit(X_train, y_train)\n",
    "\n",
    "# Make predictions on the test set\n",
    "y_pred = optim_model.predict(X_test)\n",
    "\n",
    "# Evaluate the model performance\n",
    "mae = mean_absolute_error(y_test, y_pred)\n",
    "mse = mean_squared_error(y_test, y_pred)\n",
    "r2 = r2_score(y_test, y_pred)\n",
    "\n",
    "print(f\"Mean Absolute Error (MAE): {mae:.3f}\")\n",
    "print(f\"Mean Squared Error (MSE): {mse:.3f}\")\n",
    "print(f\"R^2 Score: {r2:.3f}\")"
   ]
  },
  {
   "cell_type": "markdown",
   "id": "6b47405f-cf4a-421a-a5d3-ff4cd9a7e522",
   "metadata": {},
   "source": [
    "### Save for comparison ANOVA"
   ]
  },
  {
   "cell_type": "code",
   "execution_count": 33,
   "id": "c4145c50-30c0-452e-9b14-5a90935adca0",
   "metadata": {
    "tags": []
   },
   "outputs": [],
   "source": [
    "XGBoost_predictions = pd.DataFrame()\n",
    "XGBoost_predictions['predicted'] = list(y_pred)\n",
    "XGBoost_predictions['true_values'] = list(y_test)\n",
    "\n",
    "XGBoost_predictions.to_csv('data_RO2/XGBoost_full_predictions.csv', index=False)"
   ]
  },
  {
   "cell_type": "markdown",
   "id": "26ccf71e-d56b-46d1-81ec-3cd3c5c0540f",
   "metadata": {},
   "source": [
    "### Save model for future use"
   ]
  },
  {
   "cell_type": "code",
   "execution_count": 34,
   "id": "bfdae80c-a057-42c5-b480-ed8a1c15ddde",
   "metadata": {
    "tags": []
   },
   "outputs": [],
   "source": [
    "# Save model\n",
    "optim_model.save_model('models/xgboost_models/xgboost_full_model.json')\n",
    "# can be loaded with\n",
    "# optim_model.load_model('models/xgboost_models/xgboost_labels_model.json')"
   ]
  }
 ],
 "metadata": {
  "kernelspec": {
   "display_name": "Python 3 (ipykernel)",
   "language": "python",
   "name": "python3"
  },
  "language_info": {
   "codemirror_mode": {
    "name": "ipython",
    "version": 3
   },
   "file_extension": ".py",
   "mimetype": "text/x-python",
   "name": "python",
   "nbconvert_exporter": "python",
   "pygments_lexer": "ipython3",
   "version": "3.10.10"
  }
 },
 "nbformat": 4,
 "nbformat_minor": 5
}
