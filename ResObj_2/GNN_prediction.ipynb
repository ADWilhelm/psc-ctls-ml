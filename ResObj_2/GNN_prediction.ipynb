{
 "cells": [
  {
   "cell_type": "code",
   "execution_count": 7,
   "id": "7ae2b9fa-bc6c-4326-bf63-4cbb898ddcb1",
   "metadata": {
    "tags": []
   },
   "outputs": [],
   "source": [
    "import pickle\n",
    "import pandas as pd\n",
    "import numpy as np\n",
    "import ast\n",
    "import torch # needs to be installed when executed in NORTH\n",
    "import re\n",
    "from rdkit import Chem # rdkit needs to be installed when executed in NORTH\n",
    "from rdkit.Chem import Descriptors, rdmolfiles, rdmolops\n",
    "from torch_geometric.data import Data, DataLoader # torch_geometric also install when in NORTH\n",
    "from torch.utils.data import Dataset, DataLoader"
   ]
  },
  {
   "cell_type": "code",
   "execution_count": 12,
   "id": "9829edfd-ae90-408d-b3af-6a0f62a746b0",
   "metadata": {
    "tags": []
   },
   "outputs": [
    {
     "data": {
      "text/html": [
       "<div>\n",
       "<style scoped>\n",
       "    .dataframe tbody tr th:only-of-type {\n",
       "        vertical-align: middle;\n",
       "    }\n",
       "\n",
       "    .dataframe tbody tr th {\n",
       "        vertical-align: top;\n",
       "    }\n",
       "\n",
       "    .dataframe thead th {\n",
       "        text-align: right;\n",
       "    }\n",
       "</style>\n",
       "<table border=\"1\" class=\"dataframe\">\n",
       "  <thead>\n",
       "    <tr style=\"text-align: right;\">\n",
       "      <th></th>\n",
       "      <th>reduced_formulas</th>\n",
       "      <th>etl</th>\n",
       "      <th>htl</th>\n",
       "      <th>bandgap</th>\n",
       "      <th>device_stack</th>\n",
       "      <th>pce</th>\n",
       "      <th>etl_SMILES</th>\n",
       "      <th>htl_SMILES</th>\n",
       "    </tr>\n",
       "  </thead>\n",
       "  <tbody>\n",
       "    <tr>\n",
       "      <th>0</th>\n",
       "      <td>Ag20Bi20CsI60</td>\n",
       "      <td>['TiO2-c', 'TiO2-mp']</td>\n",
       "      <td>['P3HT']</td>\n",
       "      <td>1.86</td>\n",
       "      <td>['SLG', 'FTO', 'TiO2-c', 'TiO2-mp', 'Perovskit...</td>\n",
       "      <td>3.53</td>\n",
       "      <td>[O=[Ti]=O, O=[Ti]=O]</td>\n",
       "      <td>[CCCCCCC1=C(SC(=C1)C)C]</td>\n",
       "    </tr>\n",
       "    <tr>\n",
       "      <th>1</th>\n",
       "      <td>Ag20Bi20CsI60</td>\n",
       "      <td>['TiO2-c', 'TiO2-mp']</td>\n",
       "      <td>['PTB7-th']</td>\n",
       "      <td>1.86</td>\n",
       "      <td>['SLG', 'FTO', 'TiO2-c', 'TiO2-mp', 'Perovskit...</td>\n",
       "      <td>3.53</td>\n",
       "      <td>[O=[Ti]=O, O=[Ti]=O]</td>\n",
       "      <td>[CCC(=CF)COC1=CC=C(C=C1)C23CCC(CC2)(CC3)C(=O)N...</td>\n",
       "    </tr>\n",
       "    <tr>\n",
       "      <th>2</th>\n",
       "      <td>Ag2BiI5</td>\n",
       "      <td>['TiO2-c', 'TiO2-mp']</td>\n",
       "      <td>['PTAA']</td>\n",
       "      <td>2.22</td>\n",
       "      <td>['SLG', 'ITO', 'TiO2-c', 'TiO2-mp', 'Perovskit...</td>\n",
       "      <td>2.60</td>\n",
       "      <td>[O=[Ti]=O, O=[Ti]=O]</td>\n",
       "      <td>[CC1=CC(=C(C(=C1)C)N(C2=CC=CC=C2)C3=CC=CC=C3)C]</td>\n",
       "    </tr>\n",
       "    <tr>\n",
       "      <th>3</th>\n",
       "      <td>Ag3BiI6</td>\n",
       "      <td>['TiO2-c', 'TiO2-mp']</td>\n",
       "      <td>['P3HT']</td>\n",
       "      <td>1.80</td>\n",
       "      <td>['SLG', 'FTO', 'TiO2-c', 'TiO2-mp', 'Perovskit...</td>\n",
       "      <td>2.32</td>\n",
       "      <td>[O=[Ti]=O, O=[Ti]=O]</td>\n",
       "      <td>[CCCCCCC1=C(SC(=C1)C)C]</td>\n",
       "    </tr>\n",
       "    <tr>\n",
       "      <th>4</th>\n",
       "      <td>Ag3BiI6</td>\n",
       "      <td>['TiO2-c', 'TiO2-mp']</td>\n",
       "      <td>['PTAA']</td>\n",
       "      <td>0.00</td>\n",
       "      <td>['SLG', 'FTO', 'TiO2-c', 'TiO2-mp', 'Perovskit...</td>\n",
       "      <td>4.30</td>\n",
       "      <td>[O=[Ti]=O, O=[Ti]=O]</td>\n",
       "      <td>[CC1=CC(=C(C(=C1)C)N(C2=CC=CC=C2)C3=CC=CC=C3)C]</td>\n",
       "    </tr>\n",
       "  </tbody>\n",
       "</table>\n",
       "</div>"
      ],
      "text/plain": [
       "  reduced_formulas                    etl          htl  bandgap  \\\n",
       "0    Ag20Bi20CsI60  ['TiO2-c', 'TiO2-mp']     ['P3HT']     1.86   \n",
       "1    Ag20Bi20CsI60  ['TiO2-c', 'TiO2-mp']  ['PTB7-th']     1.86   \n",
       "2          Ag2BiI5  ['TiO2-c', 'TiO2-mp']     ['PTAA']     2.22   \n",
       "3          Ag3BiI6  ['TiO2-c', 'TiO2-mp']     ['P3HT']     1.80   \n",
       "4          Ag3BiI6  ['TiO2-c', 'TiO2-mp']     ['PTAA']     0.00   \n",
       "\n",
       "                                        device_stack   pce  \\\n",
       "0  ['SLG', 'FTO', 'TiO2-c', 'TiO2-mp', 'Perovskit...  3.53   \n",
       "1  ['SLG', 'FTO', 'TiO2-c', 'TiO2-mp', 'Perovskit...  3.53   \n",
       "2  ['SLG', 'ITO', 'TiO2-c', 'TiO2-mp', 'Perovskit...  2.60   \n",
       "3  ['SLG', 'FTO', 'TiO2-c', 'TiO2-mp', 'Perovskit...  2.32   \n",
       "4  ['SLG', 'FTO', 'TiO2-c', 'TiO2-mp', 'Perovskit...  4.30   \n",
       "\n",
       "             etl_SMILES                                         htl_SMILES  \n",
       "0  [O=[Ti]=O, O=[Ti]=O]                            [CCCCCCC1=C(SC(=C1)C)C]  \n",
       "1  [O=[Ti]=O, O=[Ti]=O]  [CCC(=CF)COC1=CC=C(C=C1)C23CCC(CC2)(CC3)C(=O)N...  \n",
       "2  [O=[Ti]=O, O=[Ti]=O]    [CC1=CC(=C(C(=C1)C)N(C2=CC=CC=C2)C3=CC=CC=C3)C]  \n",
       "3  [O=[Ti]=O, O=[Ti]=O]                            [CCCCCCC1=C(SC(=C1)C)C]  \n",
       "4  [O=[Ti]=O, O=[Ti]=O]    [CC1=CC(=C(C(=C1)C)N(C2=CC=CC=C2)C3=CC=CC=C3)C]  "
      ]
     },
     "execution_count": 12,
     "metadata": {},
     "output_type": "execute_result"
    }
   ],
   "source": [
    "df_all_identified = pd.read_csv('data_RO2/df_ml_ready.csv')\n",
    "\n",
    "df_all_identified['etl_SMILES'] = df_all_identified['etl_SMILES'].apply(ast.literal_eval)\n",
    "df_all_identified['htl_SMILES'] = df_all_identified['htl_SMILES'].apply(ast.literal_eval)\n",
    "\n",
    "df_all_identified.head()"
   ]
  },
  {
   "cell_type": "markdown",
   "id": "f10c8b5e-215a-4900-b8c2-5307984273b2",
   "metadata": {},
   "source": [
    "# GNN-specific preparation\n",
    "\n",
    "## Define required functions"
   ]
  },
  {
   "cell_type": "code",
   "execution_count": 16,
   "id": "476d8005-9443-4ac6-8495-a136b64ec1ea",
   "metadata": {
    "tags": []
   },
   "outputs": [],
   "source": [
    "# List of elements to consider\n",
    "ELEMENTS = ['H', 'C', 'N', 'O', 'F', 'P', 'S', 'Cl', 'Br', 'I', 'B', 'Li', 'Na', 'Mg', 'Al', 'Si', 'K', 'Ca', 'Ti', 'V', 'Cr', 'Mn', 'Fe', 'Co', 'Ni', 'Cu', 'Zn', 'Ga', 'Ge', 'As', 'Se', 'Rb', 'Sr', 'Y', 'Zr', 'Nb', 'Mo', 'Ru', 'Rh', 'Pd', 'Ag', 'Cd', 'In', 'Sn', 'Sb', 'Te', 'Cs', 'Ba', 'La', 'Ce', 'Pr', 'Nd', 'Sm', 'Eu', 'Gd', 'Tb', 'Dy', 'Ho', 'Er', 'Tm', 'Yb', 'Lu', 'Hf', 'Ta', 'W', 'Re', 'Os', 'Ir', 'Pt', 'Au', 'Hg', 'Tl', 'Pb', 'Bi', 'Th', 'U']\n",
    "\n",
    "# Function to parse chemical formula for absorber\n",
    "def parse_formula(formula):\n",
    "    element_pattern = r'([A-Z][a-z]?)(\\d*)'\n",
    "    matches = re.findall(element_pattern, formula)\n",
    "    element_counts = {}\n",
    "    for (element, count) in matches:\n",
    "        if element in element_counts:\n",
    "            element_counts[element] += int(count) if count else 1\n",
    "        else:\n",
    "            element_counts[element] = int(count) if count else 1\n",
    "    return element_counts\n",
    "\n",
    "\n",
    "# Function to convert formula to feature vector\n",
    "def formula_to_features(formula):\n",
    "    element_counts = parse_formula(formula)\n",
    "    features = torch.zeros(len(ELEMENTS), dtype=torch.float)\n",
    "    for i, element in enumerate(ELEMENTS):\n",
    "        if element in element_counts:\n",
    "            features[i] = element_counts[element]\n",
    "    return features\n",
    "\n",
    "\n",
    "def smiles_to_graph(smiles):\n",
    "    if smiles == \"no_ctl\":\n",
    "        return None\n",
    "    mol = Chem.MolFromSmiles(smiles)\n",
    "\n",
    "# atomic number only    \n",
    "    \n",
    "    # Node features: number of each atom in the molecule\n",
    "    #atom_features = []\n",
    "    #for atom in mol.GetAtoms():\n",
    "    #    atom_features.append([atom.GetAtomicNum()])\n",
    "    #x = torch.tensor(atom_features, dtype=torch.float)\n",
    "\n",
    "# atomic number and atomic mass     \n",
    "    \n",
    "    # atom_features = []\n",
    "    # for atom in mol.GetAtoms():\n",
    "    #     atomic_num = atom.GetAtomicNum()\n",
    "    #     atomic_weight = atom.GetMass()\n",
    "    #     atom_features.append([atomic_num, atomic_weight])\n",
    "    # x = torch.tensor(atom_features, dtype=torch.float)\n",
    "    \n",
    "# multiple additional features\n",
    "\n",
    "    def get_atom_features(atom):\n",
    "        features = [\n",
    "            atom.GetAtomicNum(),\n",
    "            atom.GetMass(),\n",
    "            atom.GetExplicitValence(),\n",
    "            atom.GetFormalCharge(),\n",
    "            atom.GetHybridization(),\n",
    "            atom.GetIsAromatic(),\n",
    "            atom.GetNumRadicalElectrons(),\n",
    "            atom.GetTotalValence(),\n",
    "            atom.IsInRing()\n",
    "        ]\n",
    "        return [float(f) if not isinstance(f, bool) else int(f) for f in features]\n",
    "\n",
    "    atom_features = []\n",
    "    for atom in mol.GetAtoms():\n",
    "        atom_features.append(get_atom_features(atom))\n",
    "    x = torch.tensor(atom_features, dtype=torch.float)\n",
    "    \n",
    "# end of additional features\n",
    "    \n",
    "    # Edge indices\n",
    "    edge_index = []\n",
    "    for bond in mol.GetBonds():\n",
    "        i = bond.GetBeginAtomIdx()\n",
    "        j = bond.GetEndAtomIdx()\n",
    "        edge_index.append([i, j])\n",
    "        edge_index.append([j, i])\n",
    "    edge_index = torch.tensor(edge_index, dtype=torch.long).t().contiguous()\n",
    "\n",
    "    data = Data(x=x, edge_index=edge_index)\n",
    "    return data\n",
    "\n",
    "\n",
    "def prepare_molecular_data(smiles_list):\n",
    "    data_list = []\n",
    "    for smiles in smiles_list:\n",
    "        data = smiles_to_graph(smiles)\n",
    "        if data:\n",
    "            data_list.append(data)\n",
    "    return data_list\n",
    "\n",
    "\n",
    "# for multiple graphs\n",
    "def combine_graphs(graphs):\n",
    "    if not graphs:\n",
    "        return None\n",
    "\n",
    "    x = torch.cat([g.x for g in graphs], dim=0) # puts the x's together one after the other\n",
    "    edge_index_list = []\n",
    "    offset = 0\n",
    "    for g in graphs:\n",
    "        edge_index_list.append(g.edge_index + offset)\n",
    "        offset += g.num_nodes\n",
    "    edge_index = torch.cat(edge_index_list, dim=1) # puts the edge-indices together\n",
    "\n",
    "    data = Data(x=x, edge_index=edge_index)\n",
    "    return data"
   ]
  },
  {
   "cell_type": "markdown",
   "id": "c96d897c-92ea-447c-865d-393bf127c9da",
   "metadata": {},
   "source": [
    "## Build graph dataset"
   ]
  },
  {
   "cell_type": "code",
   "execution_count": 17,
   "id": "ebffc2be-7bba-460b-8b1e-57d96fa223dc",
   "metadata": {
    "scrolled": true,
    "tags": []
   },
   "outputs": [
    {
     "name": "stdout",
     "output_type": "stream",
     "text": [
      "Progress: 0\n",
      "Progress: 1000\n"
     ]
    },
    {
     "name": "stderr",
     "output_type": "stream",
     "text": [
      "[16:59:57] WARNING: not removing hydrogen atom without neighbors\n"
     ]
    },
    {
     "name": "stdout",
     "output_type": "stream",
     "text": [
      "Progress: 2000\n",
      "Progress: 3000\n"
     ]
    },
    {
     "name": "stderr",
     "output_type": "stream",
     "text": [
      "[17:00:08] WARNING: not removing hydrogen atom without neighbors\n"
     ]
    },
    {
     "name": "stdout",
     "output_type": "stream",
     "text": [
      "Progress: 4000\n"
     ]
    },
    {
     "name": "stderr",
     "output_type": "stream",
     "text": [
      "[17:00:13] WARNING: not removing hydrogen atom without neighbors\n"
     ]
    },
    {
     "name": "stdout",
     "output_type": "stream",
     "text": [
      "Progress: 5000\n"
     ]
    }
   ],
   "source": [
    "molecular_data = []\n",
    "\n",
    "for index, row in df_all_identified.iterrows():\n",
    "    if index % 1000 == 0:  # Print progress every 10 rows\n",
    "        print(f\"Progress: {index}\")\n",
    "\n",
    "    # Check for empty graph lists\n",
    "    etl_graphs = prepare_molecular_data(row['etl_SMILES'])\n",
    "    htl_graphs = prepare_molecular_data(row['htl_SMILES'])\n",
    "\n",
    "    etl_data = combine_graphs(etl_graphs)\n",
    "    htl_data = combine_graphs(htl_graphs)\n",
    "\n",
    "    absorber_features = formula_to_features(row['reduced_formulas'])\n",
    "    pce = torch.tensor([row['pce']], dtype=torch.float)\n",
    "    bandgap =  torch.tensor([row['bandgap']], dtype=torch.float) \n",
    "\n",
    "    molecular_data.append({\n",
    "        'etl': etl_data if etl_graphs else None,  # Assign None if etl_graphs is empty\n",
    "        'htl': htl_data if htl_graphs else None,  # Assign None if htl_graphs is empty\n",
    "        'absorber': absorber_features,\n",
    "        'pce': pce,\n",
    "        'bandgap': bandgap\n",
    "    })"
   ]
  },
  {
   "cell_type": "code",
   "execution_count": 18,
   "id": "b4cf2937-b627-40e2-9a16-b40fffd4d7c4",
   "metadata": {
    "tags": []
   },
   "outputs": [],
   "source": [
    "def ensure_2d(tensor):\n",
    "    if tensor.dim() < 1:\n",
    "        tensor = tensor.unsqueeze(0)\n",
    "    if tensor.dim() < 2:\n",
    "        tensor = tensor.unsqueeze(0)  # Add a dimension at the beginning\n",
    "    return tensor\n",
    "\n",
    "# Define a class for MolecularDataset\n",
    "class MolecularDataset(Dataset):\n",
    "    def __init__(self, data):\n",
    "        self.data = data\n",
    "  \n",
    "    def __len__(self):\n",
    "        return len(self.data)\n",
    "  \n",
    "    def __getitem__(self, idx):\n",
    "        data_point = self.data[idx]\n",
    "        \n",
    "        layers = ['etl', 'htl']\n",
    "        layer_data = {}\n",
    "\n",
    "        # default_data = {'x': torch.zeros((1,1),  dtype=torch.float), 'edge_index': torch.zeros((2,1), dtype=torch.long)}\n",
    "        default_data = {'x': torch.zeros((1,9),  dtype=torch.float), 'edge_index': torch.zeros((2,1), dtype=torch.long)} # currently diff\n",
    "        \n",
    "        for layer in layers:\n",
    "            if data_point[layer] is not None:  # Check if layer key exists\n",
    "                x_data = data_point[layer]['x']\n",
    "                edge_index_data = data_point[layer]['edge_index']\n",
    "                \n",
    "                x_data = ensure_2d(x_data)\n",
    "                edge_index_data = ensure_2d(edge_index_data)\n",
    "                if torch.numel(edge_index_data) == 0:\n",
    "                    edge_index_data = torch.zeros((2,0), dtype=torch.long)\n",
    "                \n",
    "                layer_data[layer] = {\n",
    "                    'x': x_data,\n",
    "                    'edge_index': edge_index_data,\n",
    "                }\n",
    "            else:\n",
    "                layer_data[layer] = default_data\n",
    "        \n",
    "        absorber_features = data_point['absorber']\n",
    "        pce = data_point['pce']\n",
    "        bandgap = data_point['bandgap']  \n",
    "\n",
    "        etl =layer_data['etl']['x']\n",
    "        htl =layer_data['htl']['x']\n",
    "        etl_edge_index=layer_data['etl']['edge_index']\n",
    "        htl_edge_index=layer_data['htl']['edge_index']\n",
    "                \n",
    "        return {\n",
    "            'etl_features':etl,\n",
    "            'htl_features':htl,\n",
    "            'etl_edge_indices': etl_edge_index,\n",
    "            'htl_edge_indices': htl_edge_index,\n",
    "            'absorber': absorber_features,\n",
    "            'pce': pce, \n",
    "            'bandgap':bandgap,\n",
    "        }"
   ]
  },
  {
   "cell_type": "markdown",
   "id": "166f1d13-6e93-4840-b55c-b94bf92f6b26",
   "metadata": {},
   "source": [
    "# Train Test Split and Dataloading "
   ]
  },
  {
   "cell_type": "code",
   "execution_count": 19,
   "id": "640af6d0-3bda-4a53-98be-2126608f3f69",
   "metadata": {
    "tags": []
   },
   "outputs": [],
   "source": [
    "# Train/test/val split ratios\n",
    "train_ratio = 0.8\n",
    "val_ratio = 0.1\n",
    "test_ratio = 0.1\n",
    "\n",
    "# Calculate sizes based on ratios\n",
    "total_size = len(molecular_data)\n",
    "train_size = int(train_ratio * total_size)\n",
    "val_size = int(val_ratio * total_size)\n",
    "test_size = total_size - train_size - val_size\n",
    "\n",
    "# shuffle the data to unbias-the val-test-train-split\n",
    "rng = np.random.default_rng(seed=42)\n",
    "rng.shuffle(molecular_data)\n",
    "\n",
    "# Split the data\n",
    "train_data = molecular_data[:train_size]\n",
    "val_data = molecular_data[train_size:train_size + val_size]\n",
    "test_data = molecular_data[train_size + val_size:]\n",
    "\n",
    "# Define batch size\n",
    "batch_size = 1\n",
    "\n",
    "# Create DataLoader instances\n",
    "train_loader = DataLoader(MolecularDataset(train_data), batch_size=batch_size, shuffle=True)\n",
    "val_loader = DataLoader(MolecularDataset(val_data), batch_size=batch_size)\n",
    "test_loader = DataLoader(MolecularDataset(test_data), batch_size=batch_size)\n",
    "\n",
    "single_data = molecular_data[:2]\n",
    "# single_data = [molecular_data[0], molecular_data[2]]\n",
    "\n",
    "single_loader = DataLoader(MolecularDataset(single_data), batch_size=batch_size, shuffle=True)\n",
    "single_data = molecular_data[:-2]\n",
    "single_val_loader = DataLoader(MolecularDataset(single_data), batch_size=batch_size)"
   ]
  },
  {
   "cell_type": "markdown",
   "id": "75fd7f1a-9726-4410-9f20-64874a23517c",
   "metadata": {},
   "source": [
    "# GNN definition"
   ]
  },
  {
   "cell_type": "code",
   "execution_count": 244,
   "id": "41ee9458-91e8-445c-8d56-bf091cb7aee6",
   "metadata": {
    "tags": []
   },
   "outputs": [],
   "source": [
    "import torch.nn.functional as F\n",
    "from torch_geometric.nn import MessagePassing, global_mean_pool, MLP, global_add_pool\n",
    "from torch_geometric.nn import GCNConv\n",
    "\n",
    "class MPNN(MessagePassing):\n",
    "    def __init__(self, in_channels, out_channels):\n",
    "        super(MPNN, self).__init__(aggr='add')\n",
    "        self.lin = torch.nn.Linear(in_channels, out_channels)\n",
    "\n",
    "    def forward(self, x, edge_index):\n",
    "        return self.propagate(edge_index, x=x)\n",
    "\n",
    "    def message(self, x_j):\n",
    "        return x_j\n",
    "\n",
    "    def update(self, aggr_out):\n",
    "        return self.lin(aggr_out)\n",
    "\n",
    "class Net(torch.nn.Module):\n",
    "    def __init__(self):\n",
    "        super(Net, self).__init__()\n",
    "\n",
    "        self.etl_embedding_dimensions = 32\n",
    "        self.htl_embedding_dimensions = 32\n",
    "        # self.absorber_embedding_dimensions = 16\n",
    "        self.absorber_dimensions = 76\n",
    "        self.bandgap_dimension = 1\n",
    "        # arbitrary choice:\n",
    "        self.hidden_dimension = 32\n",
    "        self.number_of_regression_layers = 3\n",
    "\n",
    "        # in_channels are describing the number of node features, atom-type, weight, polarity...\n",
    "        # self.etl_mpnn = MPNN(in_channels=1, out_channels=self.etl_embedding_dimensions)\n",
    "        # self.htl_mpnn = MPNN(in_channels=1, out_channels=self.htl_embedding_dimensions)\n",
    "        self.etl_mpnn = GCNConv(in_channels=9, out_channels=self.etl_embedding_dimensions) # input channels changed to 2 for now\n",
    "        self.htl_mpnn = GCNConv(in_channels=9, out_channels=self.htl_embedding_dimensions) # input channels changed to 2 for now\n",
    "\n",
    "        self.fc1 = torch.nn.Linear(self.etl_embedding_dimensions + self.htl_embedding_dimensions + self.absorber_dimensions + self.bandgap_dimension, self.hidden_dimension)\n",
    "        \n",
    "        self.regression_layers = torch.nn.ModuleList([self.fc1])\n",
    "        self.regression_layers.extend([torch.nn.Linear( self.hidden_dimension,  self.hidden_dimension) for i in range(1, self.number_of_regression_layers-1)])\n",
    "        # 1, because we just want to predict pce:\n",
    "        self.fc_out = torch.nn.Linear(self.hidden_dimension, 1)\n",
    "        \n",
    "        # self.fc_absorber = torch.nn.Linear(self.absorber_dimensions, self.absorber_embedding_dimensions)\n",
    "\n",
    "    def forward(self, etl_features, htl_features, etl_edge_indices, htl_edge_indices, absorbers, bandgap):\n",
    "        etl_x = self.etl_mpnn(etl_features, etl_edge_indices) # comment this out for no-graph prediction\n",
    "        # etl_x = self.etl_mpnn(etl_x, etl_edge_indices)\n",
    "        etl_x = global_mean_pool(etl_x, torch.zeros(etl_x.size(0), dtype=torch.long)) # comment this out for no-graph prediction\n",
    "        \n",
    "        htl_x = self.htl_mpnn(htl_features, htl_edge_indices) # comment this out for no-graph prediction\n",
    "        # htl_x = self.htl_mpnn(htl_x, htl_edge_indices)\n",
    "        htl_x = global_mean_pool(htl_x, torch.zeros(htl_x.size(0), dtype=torch.long)) # comment this out for no-graph prediction\n",
    "        \n",
    "        # etl_x = torch.zeros([1,self.etl_embedding_dimensions]) # comment this in for no-graph prediction\n",
    "        # htl_x = torch.zeros([1,self.htl_embedding_dimensions]) # comment this in for no-graph prediction\n",
    "\n",
    "        # absorbers_embed = self.fc_absorber(absorbers)\n",
    "        # x = torch.cat([etl_x, htl_x, absorbers_embed], dim=1) \n",
    "        \n",
    "        x = torch.cat([etl_x, htl_x, absorbers, bandgap], dim=1)\n",
    "        for layer in self.regression_layers: \n",
    "            x = F.leaky_relu(layer(x))\n",
    "        \n",
    "        x = self.fc_out(x)\n",
    "        x = F.softplus(x)\n",
    "        return x\n"
   ]
  },
  {
   "cell_type": "markdown",
   "id": "c26cf7ee-1bee-42f8-9aeb-d1d52290470a",
   "metadata": {},
   "source": [
    "# Model code for 2 MP layer Net"
   ]
  },
  {
   "cell_type": "code",
   "execution_count": 20,
   "id": "74d50dc8-e84f-4ca5-9360-58eae948eb7a",
   "metadata": {
    "tags": []
   },
   "outputs": [],
   "source": [
    "import torch.nn.functional as F\n",
    "from torch_geometric.nn import MessagePassing, global_mean_pool, MLP, global_add_pool\n",
    "from torch_geometric.nn import GCNConv\n",
    "\n",
    "class Net(torch.nn.Module):\n",
    "    def __init__(self):\n",
    "        super(Net, self).__init__()\n",
    "\n",
    "        self.etl_embedding_dimensions = 32\n",
    "        self.htl_embedding_dimensions = 32\n",
    "        self.absorber_dimensions = 76\n",
    "        self.bandgap_dimension = 1\n",
    "        self.hidden_dimension = 64\n",
    "        self.number_of_regression_layers = 3\n",
    "\n",
    "        # Two GCN layers for ETL processing\n",
    "        self.etl_mpnn1 = GCNConv(in_channels=9, out_channels=self.etl_embedding_dimensions)\n",
    "        self.etl_mpnn2 = GCNConv(in_channels=self.etl_embedding_dimensions, out_channels=self.etl_embedding_dimensions)\n",
    "\n",
    "        # Two GCN layers for HTL processing\n",
    "        self.htl_mpnn1 = GCNConv(in_channels=9, out_channels=self.htl_embedding_dimensions)\n",
    "        self.htl_mpnn2 = GCNConv(in_channels=self.htl_embedding_dimensions, out_channels=self.htl_embedding_dimensions)\n",
    "\n",
    "        self.fc1 = torch.nn.Linear(self.etl_embedding_dimensions + self.htl_embedding_dimensions + self.absorber_dimensions + self.bandgap_dimension, self.hidden_dimension)\n",
    "    \n",
    "        self.regression_layers = torch.nn.ModuleList([self.fc1])\n",
    "        self.regression_layers.extend([torch.nn.Linear(self.hidden_dimension, self.hidden_dimension) for i in range(1, self.number_of_regression_layers-1)])\n",
    "\n",
    "        self.fc_out = torch.nn.Linear(self.hidden_dimension, 1)\n",
    "\n",
    "    def forward(self, etl_features, htl_features, etl_edge_indices, htl_edge_indices, absorbers, bandgap):\n",
    "        # Two-layer processing for ETL\n",
    "        etl_x = self.etl_mpnn1(etl_features, etl_edge_indices)\n",
    "        etl_x = F.relu(etl_x)  # Add activation after the first layer\n",
    "        etl_x = self.etl_mpnn2(etl_x, etl_edge_indices)\n",
    "        etl_x = global_mean_pool(etl_x, torch.zeros(etl_x.size(0), dtype=torch.long))\n",
    "    \n",
    "        # Two-layer processing for HTL\n",
    "        htl_x = self.htl_mpnn1(htl_features, htl_edge_indices)\n",
    "        htl_x = F.relu(htl_x)  # Add activation after the first layer\n",
    "        htl_x = self.htl_mpnn2(htl_x, htl_edge_indices)\n",
    "        htl_x = global_mean_pool(htl_x, torch.zeros(htl_x.size(0), dtype=torch.long))\n",
    "    \n",
    "        x = torch.cat([etl_x, htl_x, absorbers, bandgap], dim=1)\n",
    "        for layer in self.regression_layers:\n",
    "            x = F.leaky_relu(layer(x))\n",
    "    \n",
    "        x = self.fc_out(x)\n",
    "        # x = F.softplus(x) # Model performs better without softplus layer\n",
    "        return x\n"
   ]
  },
  {
   "cell_type": "markdown",
   "id": "296efad3-1024-4c0c-9d87-fa0807f60d2e",
   "metadata": {},
   "source": [
    "# Training"
   ]
  },
  {
   "cell_type": "code",
   "execution_count": 23,
   "id": "e86bec95-d9fb-4028-a662-28d071c86a06",
   "metadata": {
    "scrolled": true,
    "tags": []
   },
   "outputs": [
    {
     "name": "stdout",
     "output_type": "stream",
     "text": [
      "start training...\n",
      "(new best)\n",
      "Epoch 1, Loss: 161.16991224102185, Val-Loss: 121.4891512087471\n",
      "(new best)\n",
      "Epoch 2, Loss: 99.31238187199882, Val-Loss: 68.25604003497384\n"
     ]
    },
    {
     "ename": "KeyboardInterrupt",
     "evalue": "",
     "output_type": "error",
     "traceback": [
      "\u001b[0;31m---------------------------------------------------------------------------\u001b[0m",
      "\u001b[0;31mKeyboardInterrupt\u001b[0m                         Traceback (most recent call last)",
      "Cell \u001b[0;32mIn[23], line 54\u001b[0m\n\u001b[1;32m     51\u001b[0m absorber \u001b[38;5;241m=\u001b[39m batch[\u001b[38;5;124m'\u001b[39m\u001b[38;5;124mabsorber\u001b[39m\u001b[38;5;124m'\u001b[39m]\n\u001b[1;32m     52\u001b[0m bandgap \u001b[38;5;241m=\u001b[39m batch[\u001b[38;5;124m'\u001b[39m\u001b[38;5;124mbandgap\u001b[39m\u001b[38;5;124m'\u001b[39m]\n\u001b[0;32m---> 54\u001b[0m out \u001b[38;5;241m=\u001b[39m \u001b[43mmodel\u001b[49m\u001b[43m(\u001b[49m\u001b[43metl_features\u001b[49m\u001b[43m,\u001b[49m\u001b[43m \u001b[49m\n\u001b[1;32m     55\u001b[0m \u001b[43m            \u001b[49m\u001b[43mhtl_features\u001b[49m\u001b[43m,\u001b[49m\u001b[43m \u001b[49m\n\u001b[1;32m     56\u001b[0m \u001b[43m            \u001b[49m\u001b[43metl_edge_indices\u001b[49m\u001b[43m,\u001b[49m\u001b[43m \u001b[49m\n\u001b[1;32m     57\u001b[0m \u001b[43m            \u001b[49m\u001b[43mhtl_edge_indices\u001b[49m\u001b[43m,\u001b[49m\u001b[43m \u001b[49m\n\u001b[1;32m     58\u001b[0m \u001b[43m            \u001b[49m\u001b[43mabsorber\u001b[49m\u001b[43m,\u001b[49m\n\u001b[1;32m     59\u001b[0m \u001b[43m            \u001b[49m\u001b[43mbandgap\u001b[49m\u001b[43m,\u001b[49m\n\u001b[1;32m     60\u001b[0m \u001b[43m           \u001b[49m\u001b[43m)\u001b[49m\n\u001b[1;32m     62\u001b[0m loss \u001b[38;5;241m=\u001b[39m criterion(out, batch[\u001b[38;5;124m'\u001b[39m\u001b[38;5;124mpce\u001b[39m\u001b[38;5;124m'\u001b[39m])\n\u001b[1;32m     63\u001b[0m loss\u001b[38;5;241m.\u001b[39mbackward()\n",
      "File \u001b[0;32m/opt/conda/lib/python3.10/site-packages/torch/nn/modules/module.py:1553\u001b[0m, in \u001b[0;36mModule._wrapped_call_impl\u001b[0;34m(self, *args, **kwargs)\u001b[0m\n\u001b[1;32m   1551\u001b[0m     \u001b[38;5;28;01mreturn\u001b[39;00m \u001b[38;5;28mself\u001b[39m\u001b[38;5;241m.\u001b[39m_compiled_call_impl(\u001b[38;5;241m*\u001b[39margs, \u001b[38;5;241m*\u001b[39m\u001b[38;5;241m*\u001b[39mkwargs)  \u001b[38;5;66;03m# type: ignore[misc]\u001b[39;00m\n\u001b[1;32m   1552\u001b[0m \u001b[38;5;28;01melse\u001b[39;00m:\n\u001b[0;32m-> 1553\u001b[0m     \u001b[38;5;28;01mreturn\u001b[39;00m \u001b[38;5;28;43mself\u001b[39;49m\u001b[38;5;241;43m.\u001b[39;49m\u001b[43m_call_impl\u001b[49m\u001b[43m(\u001b[49m\u001b[38;5;241;43m*\u001b[39;49m\u001b[43margs\u001b[49m\u001b[43m,\u001b[49m\u001b[43m \u001b[49m\u001b[38;5;241;43m*\u001b[39;49m\u001b[38;5;241;43m*\u001b[39;49m\u001b[43mkwargs\u001b[49m\u001b[43m)\u001b[49m\n",
      "File \u001b[0;32m/opt/conda/lib/python3.10/site-packages/torch/nn/modules/module.py:1562\u001b[0m, in \u001b[0;36mModule._call_impl\u001b[0;34m(self, *args, **kwargs)\u001b[0m\n\u001b[1;32m   1557\u001b[0m \u001b[38;5;66;03m# If we don't have any hooks, we want to skip the rest of the logic in\u001b[39;00m\n\u001b[1;32m   1558\u001b[0m \u001b[38;5;66;03m# this function, and just call forward.\u001b[39;00m\n\u001b[1;32m   1559\u001b[0m \u001b[38;5;28;01mif\u001b[39;00m \u001b[38;5;129;01mnot\u001b[39;00m (\u001b[38;5;28mself\u001b[39m\u001b[38;5;241m.\u001b[39m_backward_hooks \u001b[38;5;129;01mor\u001b[39;00m \u001b[38;5;28mself\u001b[39m\u001b[38;5;241m.\u001b[39m_backward_pre_hooks \u001b[38;5;129;01mor\u001b[39;00m \u001b[38;5;28mself\u001b[39m\u001b[38;5;241m.\u001b[39m_forward_hooks \u001b[38;5;129;01mor\u001b[39;00m \u001b[38;5;28mself\u001b[39m\u001b[38;5;241m.\u001b[39m_forward_pre_hooks\n\u001b[1;32m   1560\u001b[0m         \u001b[38;5;129;01mor\u001b[39;00m _global_backward_pre_hooks \u001b[38;5;129;01mor\u001b[39;00m _global_backward_hooks\n\u001b[1;32m   1561\u001b[0m         \u001b[38;5;129;01mor\u001b[39;00m _global_forward_hooks \u001b[38;5;129;01mor\u001b[39;00m _global_forward_pre_hooks):\n\u001b[0;32m-> 1562\u001b[0m     \u001b[38;5;28;01mreturn\u001b[39;00m \u001b[43mforward_call\u001b[49m\u001b[43m(\u001b[49m\u001b[38;5;241;43m*\u001b[39;49m\u001b[43margs\u001b[49m\u001b[43m,\u001b[49m\u001b[43m \u001b[49m\u001b[38;5;241;43m*\u001b[39;49m\u001b[38;5;241;43m*\u001b[39;49m\u001b[43mkwargs\u001b[49m\u001b[43m)\u001b[49m\n\u001b[1;32m   1564\u001b[0m \u001b[38;5;28;01mtry\u001b[39;00m:\n\u001b[1;32m   1565\u001b[0m     result \u001b[38;5;241m=\u001b[39m \u001b[38;5;28;01mNone\u001b[39;00m\n",
      "Cell \u001b[0;32mIn[20], line 36\u001b[0m, in \u001b[0;36mNet.forward\u001b[0;34m(self, etl_features, htl_features, etl_edge_indices, htl_edge_indices, absorbers, bandgap)\u001b[0m\n\u001b[1;32m     34\u001b[0m etl_x \u001b[38;5;241m=\u001b[39m F\u001b[38;5;241m.\u001b[39mrelu(etl_x)  \u001b[38;5;66;03m# Add activation after the first layer\u001b[39;00m\n\u001b[1;32m     35\u001b[0m etl_x \u001b[38;5;241m=\u001b[39m \u001b[38;5;28mself\u001b[39m\u001b[38;5;241m.\u001b[39metl_mpnn2(etl_x, etl_edge_indices)\n\u001b[0;32m---> 36\u001b[0m etl_x \u001b[38;5;241m=\u001b[39m \u001b[43mglobal_mean_pool\u001b[49m\u001b[43m(\u001b[49m\u001b[43metl_x\u001b[49m\u001b[43m,\u001b[49m\u001b[43m \u001b[49m\u001b[43mtorch\u001b[49m\u001b[38;5;241;43m.\u001b[39;49m\u001b[43mzeros\u001b[49m\u001b[43m(\u001b[49m\u001b[43metl_x\u001b[49m\u001b[38;5;241;43m.\u001b[39;49m\u001b[43msize\u001b[49m\u001b[43m(\u001b[49m\u001b[38;5;241;43m0\u001b[39;49m\u001b[43m)\u001b[49m\u001b[43m,\u001b[49m\u001b[43m \u001b[49m\u001b[43mdtype\u001b[49m\u001b[38;5;241;43m=\u001b[39;49m\u001b[43mtorch\u001b[49m\u001b[38;5;241;43m.\u001b[39;49m\u001b[43mlong\u001b[49m\u001b[43m)\u001b[49m\u001b[43m)\u001b[49m\n\u001b[1;32m     38\u001b[0m \u001b[38;5;66;03m# Two-layer processing for HTL\u001b[39;00m\n\u001b[1;32m     39\u001b[0m htl_x \u001b[38;5;241m=\u001b[39m \u001b[38;5;28mself\u001b[39m\u001b[38;5;241m.\u001b[39mhtl_mpnn1(htl_features, htl_edge_indices)\n",
      "File \u001b[0;32m/opt/conda/lib/python3.10/site-packages/torch_geometric/nn/pool/glob.py:63\u001b[0m, in \u001b[0;36mglobal_mean_pool\u001b[0;34m(x, batch, size)\u001b[0m\n\u001b[1;32m     61\u001b[0m \u001b[38;5;28;01mif\u001b[39;00m batch \u001b[38;5;129;01mis\u001b[39;00m \u001b[38;5;28;01mNone\u001b[39;00m:\n\u001b[1;32m     62\u001b[0m     \u001b[38;5;28;01mreturn\u001b[39;00m x\u001b[38;5;241m.\u001b[39mmean(dim\u001b[38;5;241m=\u001b[39mdim, keepdim\u001b[38;5;241m=\u001b[39mx\u001b[38;5;241m.\u001b[39mdim() \u001b[38;5;241m<\u001b[39m\u001b[38;5;241m=\u001b[39m \u001b[38;5;241m2\u001b[39m)\n\u001b[0;32m---> 63\u001b[0m \u001b[38;5;28;01mreturn\u001b[39;00m \u001b[43mscatter\u001b[49m\u001b[43m(\u001b[49m\u001b[43mx\u001b[49m\u001b[43m,\u001b[49m\u001b[43m \u001b[49m\u001b[43mbatch\u001b[49m\u001b[43m,\u001b[49m\u001b[43m \u001b[49m\u001b[43mdim\u001b[49m\u001b[38;5;241;43m=\u001b[39;49m\u001b[43mdim\u001b[49m\u001b[43m,\u001b[49m\u001b[43m \u001b[49m\u001b[43mdim_size\u001b[49m\u001b[38;5;241;43m=\u001b[39;49m\u001b[43msize\u001b[49m\u001b[43m,\u001b[49m\u001b[43m \u001b[49m\u001b[43mreduce\u001b[49m\u001b[38;5;241;43m=\u001b[39;49m\u001b[38;5;124;43m'\u001b[39;49m\u001b[38;5;124;43mmean\u001b[39;49m\u001b[38;5;124;43m'\u001b[39;49m\u001b[43m)\u001b[49m\n",
      "File \u001b[0;32m/opt/conda/lib/python3.10/site-packages/torch_geometric/utils/_scatter.py:83\u001b[0m, in \u001b[0;36mscatter\u001b[0;34m(src, index, dim, dim_size, reduce)\u001b[0m\n\u001b[1;32m     80\u001b[0m     count \u001b[38;5;241m=\u001b[39m count\u001b[38;5;241m.\u001b[39mclamp(\u001b[38;5;28mmin\u001b[39m\u001b[38;5;241m=\u001b[39m\u001b[38;5;241m1\u001b[39m)\n\u001b[1;32m     82\u001b[0m     index \u001b[38;5;241m=\u001b[39m broadcast(index, src, dim)\n\u001b[0;32m---> 83\u001b[0m     out \u001b[38;5;241m=\u001b[39m \u001b[43msrc\u001b[49m\u001b[38;5;241;43m.\u001b[39;49m\u001b[43mnew_zeros\u001b[49m\u001b[43m(\u001b[49m\u001b[43msize\u001b[49m\u001b[43m)\u001b[49m\u001b[38;5;241;43m.\u001b[39;49m\u001b[43mscatter_add_\u001b[49m\u001b[43m(\u001b[49m\u001b[43mdim\u001b[49m\u001b[43m,\u001b[49m\u001b[43m \u001b[49m\u001b[43mindex\u001b[49m\u001b[43m,\u001b[49m\u001b[43m \u001b[49m\u001b[43msrc\u001b[49m\u001b[43m)\u001b[49m\n\u001b[1;32m     85\u001b[0m     \u001b[38;5;28;01mreturn\u001b[39;00m out \u001b[38;5;241m/\u001b[39m broadcast(count, out, dim)\n\u001b[1;32m     87\u001b[0m \u001b[38;5;66;03m# For \"min\" and \"max\" reduction, we prefer `scatter_reduce_` on CPU or\u001b[39;00m\n\u001b[1;32m     88\u001b[0m \u001b[38;5;66;03m# in case the input does not require gradients:\u001b[39;00m\n",
      "\u001b[0;31mKeyboardInterrupt\u001b[0m: "
     ]
    }
   ],
   "source": [
    "from torch.utils.tensorboard import SummaryWriter\n",
    "from torch.optim.swa_utils import AveragedModel, get_ema_multi_avg_fn\n",
    "\n",
    "# Initialize the model, optimizer, and loss function\n",
    "model = Net()\n",
    "\n",
    "decay = 0.995\n",
    "averaged_model = AveragedModel(model, multi_avg_fn=get_ema_multi_avg_fn(decay))\n",
    "\n",
    "optimizer = torch.optim.Adam(model.parameters(), lr=1e-5, weight_decay=1e-4)\n",
    "criterion = torch.nn.MSELoss()\n",
    "\n",
    "num_epochs = 1000\n",
    "scheduler = torch.optim.lr_scheduler.OneCycleLR(optimizer, \n",
    "                                                max_lr=0.0001, \n",
    "                                                steps_per_epoch=len(train_loader), \n",
    "                                                epochs=num_epochs, \n",
    "                                                pct_start=0.1,\n",
    "                                                final_div_factor=1e3)\n",
    "\n",
    "# scheduler = torch.optim.lr_scheduler.CosineAnnealingLR(optimizer, \n",
    "#                                                        T_max=50, \n",
    "#                                                        eta_min=0, \n",
    "#                                                        last_epoch=-1, \n",
    "#                                                        verbose='deprecated')\n",
    "\n",
    "train_writer = SummaryWriter()\n",
    "val_writer = SummaryWriter()\n",
    "\n",
    "dataloader = train_loader\n",
    "val_loader = val_loader\n",
    "\n",
    "# dataloader = single_loader\n",
    "# val_loader = single_val_loader\n",
    "\n",
    "best_validation_loss = np.inf\n",
    "\n",
    "print(\"start training...\")\n",
    "\n",
    "# Example training loop\n",
    "for epoch in range(num_epochs):\n",
    "    model.train()\n",
    "    total_loss = 0\n",
    "    for batch in dataloader:\n",
    "        optimizer.zero_grad()\n",
    "\n",
    "        etl_features = batch['etl_features'].squeeze(0)\n",
    "        htl_features = batch['htl_features'].squeeze(0)\n",
    "        etl_edge_indices = batch['etl_edge_indices'].squeeze(0)\n",
    "        htl_edge_indices = batch['htl_edge_indices'].squeeze(0)\n",
    "        absorber = batch['absorber']\n",
    "        bandgap = batch['bandgap']\n",
    "        \n",
    "        out = model(etl_features, \n",
    "                    htl_features, \n",
    "                    etl_edge_indices, \n",
    "                    htl_edge_indices, \n",
    "                    absorber,\n",
    "                    bandgap,\n",
    "                   )\n",
    " \n",
    "        loss = criterion(out, batch['pce'])\n",
    "        loss.backward()\n",
    "        optimizer.step()\n",
    "        averaged_model.update_parameters(model)\n",
    "        scheduler.step()\n",
    "        total_loss += float(loss)\n",
    "    train_writer.add_scalar('Training Loss', float(loss), epoch)\n",
    "\n",
    "    model.eval()\n",
    "    total_val_loss = 0\n",
    "    for batch in val_loader:        \n",
    "        etl_features = batch['etl_features'].squeeze(0)\n",
    "        htl_features = batch['htl_features'].squeeze(0)\n",
    "        etl_edge_indices = batch['etl_edge_indices'].squeeze(0)\n",
    "        htl_edge_indices = batch['htl_edge_indices'].squeeze(0)\n",
    "        absorber = batch['absorber']\n",
    "        bandgap = batch['bandgap']\n",
    "        out = model(etl_features, \n",
    "                    htl_features, \n",
    "                    etl_edge_indices, \n",
    "                    htl_edge_indices, \n",
    "                    absorber,\n",
    "                    bandgap,\n",
    "                   ) \n",
    "        loss = criterion(out, batch['pce'])\n",
    "        total_val_loss += float(loss)\n",
    "    val_writer.add_scalar('Validation Loss', float(loss), epoch)\n",
    "\n",
    "    if total_val_loss <= best_validation_loss:\n",
    "        best_validation_loss = total_val_loss\n",
    "        torch.save(model.state_dict(), 'models/GNN_29.pth')\n",
    "        torch.save(averaged_model.state_dict(), 'models/GNN_29_avg_model.pth')\n",
    "        print(f'(new best)')\n",
    "    print(f'Epoch {epoch+1}, Loss: {total_loss/len(dataloader)}, Val-Loss: {total_val_loss/len(val_loader)}')\n"
   ]
  },
  {
   "cell_type": "markdown",
   "id": "7ac3e2bf-2bfe-4417-bc3d-0960671a3be5",
   "metadata": {},
   "source": [
    "# Evaluation and model comparison\n",
    "\n",
    "For predictions and loading the models, the model architecture needs to be stated again. From the following, choose the respective architecture and then proceed to the plot section.\n",
    "\n",
    "## Model architectures\n",
    "Overview in GNN_model_overview"
   ]
  },
  {
   "cell_type": "markdown",
   "id": "9f8037df-a443-4952-a81a-d4977aa4394f",
   "metadata": {},
   "source": [
    "### GNN_1\n",
    "in 1000 epochs to loss 13.32"
   ]
  },
  {
   "cell_type": "code",
   "execution_count": 202,
   "id": "8e6179e4-678f-4f16-88ca-ec448879c323",
   "metadata": {
    "tags": []
   },
   "outputs": [],
   "source": [
    "########### insert into GNN definition section ####################\n",
    "import torch\n",
    "import torch.nn.functional as F\n",
    "from torch_geometric.nn import MessagePassing, global_mean_pool, MLP, global_add_pool\n",
    "from torch_geometric.nn import GCNConv\n",
    "\n",
    "class Net(torch.nn.Module):\n",
    "    def __init__(self):\n",
    "        super(Net, self).__init__()\n",
    "\n",
    "        self.etl_embedding_dimensions = 16\n",
    "        self.htl_embedding_dimensions = 16\n",
    "        self.absorber_dimensions = 76\n",
    "        self.bandgap_dimension = 1\n",
    "        self.hidden_dimension = 32\n",
    "        self.number_of_regression_layers = 3\n",
    "\n",
    "        self.etl_mpnn = GCNConv(in_channels=1, out_channels=self.etl_embedding_dimensions)\n",
    "        self.htl_mpnn = GCNConv(in_channels=1, out_channels=self.htl_embedding_dimensions)\n",
    "\n",
    "        self.fc1 = torch.nn.Linear(self.etl_embedding_dimensions + self.htl_embedding_dimensions + self.absorber_dimensions + self.bandgap_dimension, self.hidden_dimension)\n",
    "        \n",
    "        self.regression_layers = torch.nn.ModuleList([self.fc1])\n",
    "        self.regression_layers.extend([torch.nn.Linear(self.hidden_dimension,  self.hidden_dimension) for i in range(1, self.number_of_regression_layers-1)])\n",
    "\n",
    "        self.fc_out = torch.nn.Linear(self.hidden_dimension, 1)\n",
    "\n",
    "    def forward(self, etl_features, htl_features, etl_edge_indices, htl_edge_indices, absorbers, bandgap):\n",
    "        etl_x = self.etl_mpnn(etl_features, etl_edge_indices)\n",
    "        etl_x = global_mean_pool(etl_x, torch.zeros(etl_x.size(0), dtype=torch.long))\n",
    "        \n",
    "        htl_x = self.htl_mpnn(htl_features, htl_edge_indices)\n",
    "        htl_x = global_mean_pool(htl_x, torch.zeros(htl_x.size(0), dtype=torch.long))\n",
    "        \n",
    "        x = torch.cat([etl_x, htl_x, absorbers, bandgap], dim=1)\n",
    "        for layer in self.regression_layers: \n",
    "            x = F.leaky_relu(layer(x))\n",
    "        \n",
    "        x = self.fc_out(x)\n",
    "        #x = F.softplus(x) # possibly no softplus here removes the error\n",
    "        return x\n",
    "\n",
    "####### end of insert #############"
   ]
  },
  {
   "cell_type": "code",
   "execution_count": null,
   "id": "c2607bdb-3fa3-4070-9652-26085672ab19",
   "metadata": {
    "tags": []
   },
   "outputs": [],
   "source": [
    "######### insert into Training section ##############\n",
    "\n",
    "decay = 0.995\n",
    "averaged_model = AveragedModel(model, multi_avg_fn=get_ema_multi_avg_fn(decay))\n",
    "\n",
    "optimizer = torch.optim.Adam(model.parameters(), lr=1e-3, weight_decay=1e-4)\n",
    "criterion = torch.nn.MSELoss()\n",
    "\n",
    "num_epochs = 1000\n",
    "scheduler = torch.optim.lr_scheduler.OneCycleLR(optimizer, max_lr=0.001, steps_per_epoch=len(train_loader), epochs=num_epochs, pct_start=0.1,final_div_factor=1e2)\n",
    "\n",
    "######### end of insert ################"
   ]
  },
  {
   "cell_type": "markdown",
   "id": "51fcb626-f424-4d38-b9de-b55edd92429a",
   "metadata": {},
   "source": [
    "### GNN_2\n",
    "Everything as in GNN_1, but atom weight was added"
   ]
  },
  {
   "cell_type": "code",
   "execution_count": null,
   "id": "e86c82ac-bbe5-44d2-b96f-8542c33ad2b6",
   "metadata": {},
   "outputs": [],
   "source": [
    "# in smiles_to_graph insert:\n",
    "    atom_features = []\n",
    "    for atom in mol.GetAtoms():\n",
    "        atomic_num = atom.GetAtomicNum()\n",
    "        atomic_weight = atom.GetMass()\n",
    "        atom_features.append([atomic_num, atomic_weight])\n",
    "    x = torch.tensor(atom_features, dtype=torch.float)\n"
   ]
  },
  {
   "cell_type": "code",
   "execution_count": null,
   "id": "214d62e7-8766-49ac-8a63-afd420125694",
   "metadata": {},
   "outputs": [],
   "source": [
    "# for the default data in creating MolecularDataset class, change dimensions of the zero verctor:\n",
    "default_data = {'x': torch.zeros((1,2),  dtype=torch.float), 'edge_index': torch.zeros((2,1), dtype=torch.long)}"
   ]
  },
  {
   "cell_type": "code",
   "execution_count": null,
   "id": "90375235-4086-49a2-afe9-91bd7f834f7c",
   "metadata": {},
   "outputs": [],
   "source": [
    "# in the net definitions, change input channels to 2\n",
    "        self.etl_mpnn = GCNConv(in_channels=2, out_channels=self.etl_embedding_dimensions)\n",
    "        self.htl_mpnn = GCNConv(in_channels=2, out_channels=self.htl_embedding_dimensions)"
   ]
  },
  {
   "cell_type": "markdown",
   "id": "432627ff-03b2-4abe-b537-26e1080041c2",
   "metadata": {},
   "source": [
    "### GNN_3\n",
    "Mean Squared Error: 14.77943229675293\n",
    "R^2 Score: 0.5403929552966777\n",
    "Mean Absolute Error: 2.8730850219726562"
   ]
  },
  {
   "cell_type": "code",
   "execution_count": null,
   "id": "dfaac4b1-426b-4dcc-8413-acfec924b683",
   "metadata": {
    "tags": []
   },
   "outputs": [],
   "source": [
    "# replace in smiles_to_graph\n",
    "    def get_atom_features(atom):\n",
    "        features = [\n",
    "            atom.GetAtomicNum(),\n",
    "            atom.GetMass(),\n",
    "            atom.GetExplicitValence(),\n",
    "            atom.GetFormalCharge(),\n",
    "            atom.GetHybridization(),\n",
    "            atom.GetIsAromatic(),\n",
    "            atom.GetNumRadicalElectrons(),\n",
    "            atom.GetTotalValence(),\n",
    "            atom.IsInRing()\n",
    "        ]\n",
    "        return [float(f) if not isinstance(f, bool) else int(f) for f in features]\n",
    "\n",
    "    atom_features = []\n",
    "    for atom in mol.GetAtoms():\n",
    "        atom_features.append(get_atom_features(atom))\n",
    "    x = torch.tensor(atom_features, dtype=torch.float)"
   ]
  },
  {
   "cell_type": "code",
   "execution_count": null,
   "id": "d88c91af-46d2-421c-9d1e-1b02eba0018e",
   "metadata": {},
   "outputs": [],
   "source": [
    "# for the default data in creating MolecularDataset class, change dimensions of the zero verctor:\n",
    "default_data = {'x': torch.zeros((1,9),  dtype=torch.float), 'edge_index': torch.zeros((2,1), dtype=torch.long)}"
   ]
  },
  {
   "cell_type": "code",
   "execution_count": null,
   "id": "cf30072c-4685-4f04-af01-b7bffe7d1bcb",
   "metadata": {},
   "outputs": [],
   "source": [
    "# in the net definitions, change input channels to 9\n",
    "        self.etl_mpnn = GCNConv(in_channels=9, out_channels=self.etl_embedding_dimensions)\n",
    "        self.htl_mpnn = GCNConv(in_channels=9, out_channels=self.htl_embedding_dimensions)"
   ]
  },
  {
   "cell_type": "markdown",
   "id": "ea3a7de6-3e81-4aff-a2bf-f1325c1a44f2",
   "metadata": {},
   "source": [
    "## GNN_4\n",
    "Mean Squared Error: 15.379298210144043\n",
    "R^2 Score: 0.5217384699304368\n",
    "Mean Absolute Error: 2.8592941761016846"
   ]
  },
  {
   "cell_type": "code",
   "execution_count": null,
   "id": "c53f03a4-e380-4ad1-91a3-7aff902d8694",
   "metadata": {},
   "outputs": [],
   "source": [
    "# Everything as before, but embedding dimensions 32 instead of 16.\n",
    "        self.etl_embedding_dimensions = 32\n",
    "        self.htl_embedding_dimensions = 32"
   ]
  },
  {
   "cell_type": "code",
   "execution_count": null,
   "id": "65842276-0b9e-4766-9894-a73c7d5b9813",
   "metadata": {},
   "outputs": [],
   "source": [
    "# and in scheduler final_div_factor: 1e3 (because 1e2 overfits while still jumping losses)"
   ]
  },
  {
   "cell_type": "markdown",
   "id": "e734aaf6-5ecc-4fb6-bd33-e0609d631268",
   "metadata": {},
   "source": [
    "## GNN_5\n",
    "\n",
    "Eliminate the graph information by replacing them with zeros. Everything else the same as in GNN_4."
   ]
  },
  {
   "cell_type": "code",
   "execution_count": null,
   "id": "df8eaf41-916b-4f3d-96ba-9d2fd1fa81bd",
   "metadata": {
    "tags": []
   },
   "outputs": [],
   "source": [
    "# Insert this instead of the forward function in the GNN_4 Net().\n",
    "\n",
    "    def forward(self, etl_features, htl_features, etl_edge_indices, htl_edge_indices, absorbers, bandgap):\n",
    "        # etl_x = self.etl_mpnn(etl_features, etl_edge_indices) # comment this out for no-graph prediction\n",
    "        # etl_x = self.etl_mpnn(etl_x, etl_edge_indices)\n",
    "        # etl_x = global_mean_pool(etl_x, torch.zeros(etl_x.size(0), dtype=torch.long)) # comment this out for no-graph prediction\n",
    "        \n",
    "        # htl_x = self.htl_mpnn(htl_features, htl_edge_indices) # comment this out for no-graph prediction\n",
    "        # htl_x = self.htl_mpnn(htl_x, htl_edge_indices)\n",
    "        # htl_x = global_mean_pool(htl_x, torch.zeros(htl_x.size(0), dtype=torch.long)) # comment this out for no-graph prediction\n",
    "        \n",
    "        etl_x = torch.zeros([1,self.etl_embedding_dimensions]) # comment this in for no-graph prediction\n",
    "        htl_x = torch.zeros([1,self.htl_embedding_dimensions]) # comment this in for no-graph prediction\n",
    "\n",
    "        # absorbers_embed = self.fc_absorber(absorbers)\n",
    "        # x = torch.cat([etl_x, htl_x, absorbers_embed], dim=1) \n",
    "        \n",
    "        x = torch.cat([etl_x, htl_x, absorbers, bandgap], dim=1)\n",
    "        for layer in self.regression_layers: \n",
    "            x = F.leaky_relu(layer(x))\n",
    "        \n",
    "        x = self.fc_out(x)\n",
    "        x = F.softplus(x)\n",
    "        return x"
   ]
  },
  {
   "cell_type": "markdown",
   "id": "996dca38-3b90-4e9f-b0af-d4ff43cc46cc",
   "metadata": {},
   "source": [
    "## GNN_6\n",
    "max_lr=0.0001\n",
    "final_div_factor=1e2\n",
    "\n",
    "Mean Squared Error: 13.848991394042969\n",
    "R^2 Score: 0.5693276002514303\n",
    "Mean Absolute Error: 2.7927744388580322"
   ]
  },
  {
   "cell_type": "markdown",
   "id": "322fb90b-64ca-4f9c-8c5c-59852c6afd04",
   "metadata": {},
   "source": [
    "## GNN_7\n",
    "everything as GNN_6 but final_div_factor = 1e3\n",
    "\n",
    "Mean Squared Error: 13.550704002380371\n",
    "R^2 Score: 0.5786036347103873\n",
    "Mean Absolute Error: 2.7916390895843506"
   ]
  },
  {
   "cell_type": "markdown",
   "id": "60418fc7-7676-4aa1-8dbb-7ea21165ba5c",
   "metadata": {},
   "source": [
    "## GNN_8\n",
    "everything as GNN_6 and GNN_7 but final_div_factor = 1e4\n",
    "Mean Squared Error: 13.562051773071289\n",
    "R^2 Score: 0.5782507841432195\n",
    "Mean Absolute Error: 2.742356300354004"
   ]
  },
  {
   "cell_type": "markdown",
   "id": "fbf801b7-c4ec-4029-86f0-d09c2624df0d",
   "metadata": {},
   "source": [
    "## GNN_9_test\n",
    "final_div_factor = 1e4\n",
    "eliminate PCEs below 2 %\n",
    "Mean Squared Error: 12.327483177185059\n",
    "R^2 Score: 0.4462597339252242\n",
    "Mean Absolute Error: 2.718646764755249"
   ]
  },
  {
   "cell_type": "markdown",
   "id": "fc5a7dd5-af6c-4e1b-99c9-62f8607db39a",
   "metadata": {},
   "source": [
    "# GNN_10\n",
    "no PCEs below 2%\n",
    "final_div_factor = 1e4\n",
    "weight_decay=1e-3 (before: 1e-4)\n",
    "\n",
    "Mean Squared Error: 12.734729766845703\n",
    "R^2 Score: 0.4279665440353737\n",
    "Mean Absolute Error: 2.750393867492676"
   ]
  },
  {
   "cell_type": "markdown",
   "id": "d6ddf520-5721-4875-a762-e30a9fe576bf",
   "metadata": {},
   "source": [
    "## GNN_11\n",
    "everything as GNN_10 but weight decay 1e-5\n",
    "\n",
    "Mean Squared Error: 12.17917251586914\n",
    "R^2 Score: 0.45292170065419457\n",
    "Mean Absolute Error: 2.6727020740509033"
   ]
  },
  {
   "cell_type": "markdown",
   "id": "d4e976c5-e0ae-41b8-89fd-9cf89825d3fd",
   "metadata": {},
   "source": [
    "## GNN_12\n",
    "weight decay back to 1e-4\n",
    "added an additional layer for htl and etl processing\n",
    "no softplus layer in the end\n",
    "\n",
    "Mean Squared Error: 11.764592170715332\n",
    "R^2 Score: 0.47154431620395776\n",
    "Mean Absolute Error: 2.6425602436065674"
   ]
  },
  {
   "cell_type": "code",
   "execution_count": 62,
   "id": "ae48ec33-b98f-471e-be14-f6e571f5bdef",
   "metadata": {
    "tags": []
   },
   "outputs": [],
   "source": [
    "class Net(torch.nn.Module):\n",
    "    def __init__(self):\n",
    "        super(Net, self).__init__()\n",
    "\n",
    "        self.etl_embedding_dimensions = 32\n",
    "        self.htl_embedding_dimensions = 32\n",
    "        self.absorber_dimensions = 76\n",
    "        self.bandgap_dimension = 1\n",
    "        self.hidden_dimension = 32\n",
    "        self.number_of_regression_layers = 3\n",
    "\n",
    "        # Two GCN layers for ETL processing\n",
    "        self.etl_mpnn1 = GCNConv(in_channels=9, out_channels=self.etl_embedding_dimensions)\n",
    "        self.etl_mpnn2 = GCNConv(in_channels=self.etl_embedding_dimensions, out_channels=self.etl_embedding_dimensions)\n",
    "\n",
    "        # Two GCN layers for HTL processing\n",
    "        self.htl_mpnn1 = GCNConv(in_channels=9, out_channels=self.htl_embedding_dimensions)\n",
    "        self.htl_mpnn2 = GCNConv(in_channels=self.htl_embedding_dimensions, out_channels=self.htl_embedding_dimensions)\n",
    "\n",
    "        self.fc1 = torch.nn.Linear(self.etl_embedding_dimensions + self.htl_embedding_dimensions + self.absorber_dimensions + self.bandgap_dimension, self.hidden_dimension)\n",
    "    \n",
    "        self.regression_layers = torch.nn.ModuleList([self.fc1])\n",
    "        self.regression_layers.extend([torch.nn.Linear(self.hidden_dimension, self.hidden_dimension) for i in range(1, self.number_of_regression_layers-1)])\n",
    "\n",
    "        self.fc_out = torch.nn.Linear(self.hidden_dimension, 1)\n",
    "\n",
    "    def forward(self, etl_features, htl_features, etl_edge_indices, htl_edge_indices, absorbers, bandgap):\n",
    "        # Two-layer processing for ETL\n",
    "        etl_x = self.etl_mpnn1(etl_features, etl_edge_indices)\n",
    "        etl_x = F.relu(etl_x)  # Add activation after the first layer\n",
    "        etl_x = self.etl_mpnn2(etl_x, etl_edge_indices)\n",
    "        etl_x = global_mean_pool(etl_x, torch.zeros(etl_x.size(0), dtype=torch.long))\n",
    "    \n",
    "        # Two-layer processing for HTL\n",
    "        htl_x = self.htl_mpnn1(htl_features, htl_edge_indices)\n",
    "        htl_x = F.relu(htl_x)  # Add activation after the first layer\n",
    "        htl_x = self.htl_mpnn2(htl_x, htl_edge_indices)\n",
    "        htl_x = global_mean_pool(htl_x, torch.zeros(htl_x.size(0), dtype=torch.long))\n",
    "    \n",
    "        x = torch.cat([etl_x, htl_x, absorbers, bandgap], dim=1)\n",
    "        for layer in self.regression_layers:\n",
    "            x = F.leaky_relu(layer(x))\n",
    "    \n",
    "        x = self.fc_out(x)\n",
    "        #x = F.softplus(x) # possibly no softplus here removes the error\n",
    "        return x\n"
   ]
  },
  {
   "cell_type": "markdown",
   "id": "994b88b8-b27b-4757-b8ba-d66c0b105d6b",
   "metadata": {},
   "source": [
    "## GNN_13\n",
    "everything as GNN_12 but with softplus layer in the end\n",
    "\n",
    "Mean Squared Error: 12.195013999938965\n",
    "R^2 Score: 0.4522101290976822\n",
    "Mean Absolute Error: 2.717991352081299"
   ]
  },
  {
   "cell_type": "markdown",
   "id": "cefad6d4-ec7d-43e5-b13c-b26d00811120",
   "metadata": {},
   "source": [
    "## GNN_14\n",
    "everything as GNN_12 but leaky_relu between the two etl and htl layers instead of relu\n",
    "--> overfits very badly after 400 epochs\n",
    "\n",
    "Mean Squared Error: 12.911194801330566\n",
    "R^2 Score: 0.4200398814332983\n",
    "Mean Absolute Error: 2.805245876312256"
   ]
  },
  {
   "cell_type": "markdown",
   "id": "52cb1908-1348-45fa-9039-f15966101075",
   "metadata": {},
   "source": [
    "## GNN_15\n",
    "max_lr=0.001 instead of 0.0001, everything else as GNN_12\n",
    "Mean Squared Error: 12.947954177856445\n",
    "R^2 Score: 0.4183886945076104\n",
    "Mean Absolute Error: 2.810683012008667\n",
    "\n",
    "Was overwritten by what was supposed to become GNN_16\n",
    "max_lr back to 0.0001, pct_start = 0.2 instead of 0.1\n",
    "\n",
    "Mean Squared Error: 12.454482078552246\n",
    "R^2 Score: 0.4405550240903354\n",
    "Mean Absolute Error: 2.768221378326416"
   ]
  },
  {
   "cell_type": "markdown",
   "id": "ccd95863-0b8e-4233-ab5e-89b27fb0f35c",
   "metadata": {},
   "source": [
    "## GNN_16\n",
    "Mean Squared Error: 13.04375171661377\n",
    "R^2 Score: 0.4140855604161916\n",
    "Mean Absolute Error: 2.7799715995788574\n"
   ]
  },
  {
   "cell_type": "markdown",
   "id": "a2a384cd-3d9d-49e9-b419-529dfd0a28cd",
   "metadata": {},
   "source": [
    "## GNN_17\n",
    "trying to rebuild GNN_16\n",
    "\n",
    "Mean Squared Error: 12.994876861572266\n",
    "R^2 Score: 0.4162809750824753\n",
    "Mean Absolute Error: 2.7726638317108154\n",
    "\n",
    "This is not GNN_12..."
   ]
  },
  {
   "cell_type": "markdown",
   "id": "35506dd4-0667-4130-9694-38f486f9988d",
   "metadata": {},
   "source": [
    "# GNN_18\n",
    "final_div_factor back to 1e3 hoping to find the GNN_12 configuration again\n",
    "\n",
    "Mean Squared Error: 12.174577713012695\n",
    "R^2 Score: 0.4531281193692762\n",
    "Mean Absolute Error: 2.6740314960479736"
   ]
  },
  {
   "cell_type": "markdown",
   "id": "cb8e5efe-73f3-40a7-a766-bb4fef7085cc",
   "metadata": {},
   "source": [
    "# GNN_19\n",
    "lr = 1-e3\n",
    "\n",
    "Mean Squared Error: 12.212804794311523\n",
    "R^2 Score: 0.45141097582191614\n",
    "Mean Absolute Error: 2.671917676925659"
   ]
  },
  {
   "cell_type": "markdown",
   "id": "caa10869-385a-4ad0-9357-3fdd53ecfc39",
   "metadata": {},
   "source": [
    "# GNN_20\n",
    "max_lr = 0.00001\n",
    "\n",
    "Mean Squared Error: 14.260919570922852\n",
    "R^2 Score: 0.359411411740551\n",
    "Mean Absolute Error: 2.969792127609253"
   ]
  },
  {
   "cell_type": "markdown",
   "id": "dd326950-2574-4c71-aea3-9d67c757b2f5",
   "metadata": {},
   "source": [
    "# GNN_21\n",
    "max_lr = 0.001\n",
    "\n",
    "Mean Squared Error: 12.907291412353516\n",
    "R^2 Score: 0.42021520018931935\n",
    "Mean Absolute Error: 2.872129440307617"
   ]
  },
  {
   "cell_type": "markdown",
   "id": "fedff95e-1425-4f73-9f14-3898db9ac72d",
   "metadata": {},
   "source": [
    "# GNN_22\n",
    "cycle annealing scheduler with T_max = 100\n",
    "\n",
    "\n",
    "optimizer = torch.optim.Adam(model.parameters(), lr=1e-3, weight_decay=1e-4)\n",
    "criterion = torch.nn.MSELoss()\n",
    "\n",
    "num_epochs = 1000\n",
    "\n",
    "scheduler = torch.optim.lr_scheduler.CosineAnnealingLR(optimizer, \n",
    "                                                       T_max=100, \n",
    "                                                       eta_min=0, \n",
    "                                                       last_epoch=-1, \n",
    "                                                       verbose='deprecated')\n",
    "\n",
    "\n",
    "Mean Squared Error: 12.652148246765137\n",
    "R^2 Score: 0.43167606946355797\n",
    "Mean Absolute Error: 2.7812609672546387"
   ]
  },
  {
   "cell_type": "code",
   "execution_count": null,
   "id": "e36cbe6a-abe8-42dc-91af-b8dc7ec3b3ef",
   "metadata": {},
   "outputs": [],
   "source": [
    "# GNN_23\n",
    "same as GNN_22 but with lr = 1e-4\n",
    "\n",
    "Mean Squared Error: 12.442548751831055\n",
    "R^2 Score: 0.44109108444848644\n",
    "Mean Absolute Error: 2.750389337539673"
   ]
  },
  {
   "cell_type": "code",
   "execution_count": null,
   "id": "9f2ec96f-5c49-4f23-9e16-16e33cfde183",
   "metadata": {},
   "outputs": [],
   "source": [
    "# GNN_24\n",
    "same as GNN_23 but with t_max = 50\n",
    "\n",
    "Mean Squared Error: 13.888327598571777\n",
    "R^2 Score: 0.37614787548216977\n",
    "Mean Absolute Error: 2.7717573642730713"
   ]
  },
  {
   "cell_type": "code",
   "execution_count": null,
   "id": "006defc2-8e2c-49a9-bea9-2b4b9f353102",
   "metadata": {},
   "outputs": [],
   "source": [
    "# GNN_25\n",
    "go back to OneCycleR with smaller peak lr\n",
    "\n",
    "\n",
    "optimizer = torch.optim.Adam(model.parameters(), lr=1e-5, weight_decay=1e-4)\n",
    "criterion = torch.nn.MSELoss()\n",
    "\n",
    "num_epochs = 1000\n",
    "scheduler = torch.optim.lr_scheduler.OneCycleLR(optimizer, \n",
    "                                                max_lr=0.0001, \n",
    "                                                steps_per_epoch=len(train_loader), \n",
    "                                                epochs=num_epochs, \n",
    "                                                pct_start=0.1,\n",
    "                                                final_div_factor\n",
    "                                                \n",
    "Mean Squared Error: 12.103560447692871\n",
    "R^2 Score: 0.45631812300883134\n",
    "Mean Absolute Error: 2.6630618572235107"
   ]
  },
  {
   "cell_type": "code",
   "execution_count": null,
   "id": "d83da426-88bd-4b16-b26c-78cf892c6a58",
   "metadata": {},
   "outputs": [],
   "source": [
    "# GNN_26\n",
    "as 25, but with also max_lr = 0.00001\n",
    "\n",
    "Mean Squared Error: 14.209254264831543\n",
    "R^2 Score: 0.3617321728196772\n",
    "Mean Absolute Error: 2.95304799079895"
   ]
  },
  {
   "cell_type": "code",
   "execution_count": null,
   "id": "3778f893-3238-4e8e-a71e-642899b9c7af",
   "metadata": {},
   "outputs": [],
   "source": [
    "# GNN_27\n",
    "max_lr back to 0.0001\n",
    "\n",
    "Number of regression layers = 2\n",
    "\n",
    "Mean Squared Error: 13.370475769042969\n",
    "R^2 Score: 0.3994093672942369\n",
    "Mean Absolute Error: 2.8325576782226562"
   ]
  },
  {
   "cell_type": "code",
   "execution_count": null,
   "id": "2339448c-6efb-4ffc-9051-83dcafaa3842",
   "metadata": {},
   "outputs": [],
   "source": [
    "# GNN_28\n",
    "hidden_dimensions = 64 instead of 32\n"
   ]
  },
  {
   "cell_type": "code",
   "execution_count": null,
   "id": "df11c3ed-fd7d-41f3-9dc0-c118c615d25b",
   "metadata": {},
   "outputs": [],
   "source": []
  },
  {
   "cell_type": "markdown",
   "id": "985e5970-8f0d-471d-b5e9-a7322a8575c3",
   "metadata": {},
   "source": [
    "## Predictions\n",
    "\n",
    "Before this section, you need to have reconstructed the Net() definition used in training. Also, the data for the nodes needs to include the correct amount of features."
   ]
  },
  {
   "cell_type": "code",
   "execution_count": 75,
   "id": "f05c0b66-dcdf-460e-8e9c-a6723e8413ed",
   "metadata": {
    "tags": []
   },
   "outputs": [
    {
     "data": {
      "text/plain": [
       "Net(\n",
       "  (etl_mpnn1): GCNConv(9, 32)\n",
       "  (etl_mpnn2): GCNConv(32, 32)\n",
       "  (htl_mpnn1): GCNConv(9, 32)\n",
       "  (htl_mpnn2): GCNConv(32, 32)\n",
       "  (fc1): Linear(in_features=141, out_features=32, bias=True)\n",
       "  (regression_layers): ModuleList(\n",
       "    (0): Linear(in_features=141, out_features=32, bias=True)\n",
       "  )\n",
       "  (fc_out): Linear(in_features=32, out_features=1, bias=True)\n",
       ")"
      ]
     },
     "execution_count": 75,
     "metadata": {},
     "output_type": "execute_result"
    }
   ],
   "source": [
    "model = Net()\n",
    "model.load_state_dict(torch.load('models/GNN_27.pth'))\n",
    "model.eval()"
   ]
  },
  {
   "cell_type": "code",
   "execution_count": 76,
   "id": "65d80c9a-42b0-4d7f-a371-dabb9bd24610",
   "metadata": {
    "tags": []
   },
   "outputs": [
    {
     "name": "stdout",
     "output_type": "stream",
     "text": [
      "Mean Squared Error: 13.370475769042969\n",
      "R^2 Score: 0.3994093672942369\n",
      "Mean Absolute Error: 2.8325576782226562\n"
     ]
    }
   ],
   "source": [
    "from sklearn.metrics import mean_absolute_error, mean_squared_error, r2_score\n",
    "all_predictions = []\n",
    "all_labels = []\n",
    "\n",
    "# Evaluate the model\n",
    "with torch.no_grad():  # Disable gradient calculation for evaluation\n",
    "    for batch in test_loader:\n",
    "        etl_features = batch['etl_features'].squeeze(0)\n",
    "        htl_features = batch['htl_features'].squeeze(0)\n",
    "        etl_edge_indices = batch['etl_edge_indices'].squeeze(0)\n",
    "        htl_edge_indices = batch['htl_edge_indices'].squeeze(0)\n",
    "        absorber = batch['absorber']\n",
    "        bandgap = batch['bandgap']\n",
    "        true_labels = batch['pce']\n",
    "        \n",
    "        # Forward pass\n",
    "        predictions = model(etl_features, htl_features, etl_edge_indices, htl_edge_indices, absorber, bandgap)\n",
    "        \n",
    "        # Store predictions and true labels\n",
    "        all_predictions.extend(predictions.cpu().numpy())\n",
    "        all_labels.extend(true_labels.cpu().numpy())\n",
    "\n",
    "# Compute evaluation metrics (e.g., Mean Squared Error)\n",
    "mse = mean_squared_error(all_labels, all_predictions)\n",
    "print(f\"Mean Squared Error: {mse}\")\n",
    "\n",
    "# You can also compute other metrics like R^2 score, MAE, etc.\n",
    "from sklearn.metrics import r2_score, mean_absolute_error\n",
    "\n",
    "r2 = r2_score(all_labels, all_predictions)\n",
    "mae = mean_absolute_error(all_labels, all_predictions)\n",
    "\n",
    "print(f\"R^2 Score: {r2}\")\n",
    "print(f\"Mean Absolute Error: {mae}\")"
   ]
  },
  {
   "cell_type": "markdown",
   "id": "cd4a2592-8aa4-4bc1-a935-ef40f4718a65",
   "metadata": {},
   "source": [
    "## Plots"
   ]
  },
  {
   "cell_type": "code",
   "execution_count": 66,
   "id": "26e065ef-9f27-4d5f-9c15-e0876c6552e4",
   "metadata": {
    "tags": []
   },
   "outputs": [
    {
     "data": {
      "image/png": "[encoded data removed]",
      "text/plain": [
       "<Figure size 700x700 with 3 Axes>"
      ]
     },
     "metadata": {},
     "output_type": "display_data"
    }
   ],
   "source": [
    "import seaborn as sns\n",
    "sns.set_theme(style=\"darkgrid\")\n",
    "\n",
    "pred_flat = [item.item() for sublist in all_predictions for item in sublist]\n",
    "true_flat = [item.item() for sublist in all_labels for item in sublist]\n",
    "\n",
    "eval_data = pd.DataFrame({\n",
    "    'Predicted_PCE': pred_flat,\n",
    "    'Actual_PCE': true_flat\n",
    "})\n",
    "\n",
    "g = sns.jointplot(x=\"Predicted_PCE\", y=\"Actual_PCE\", data=eval_data,\n",
    "                  kind=\"reg\", truncate=False,\n",
    "                  xlim=(0, 25), ylim=(0, 25),\n",
    "                  color=\"m\", height=7)"
   ]
  },
  {
   "cell_type": "code",
   "execution_count": null,
   "id": "e93e8c75-fa00-453f-9e88-b40f0fef4abb",
   "metadata": {},
   "outputs": [],
   "source": []
  }
 ],
 "metadata": {
  "kernelspec": {
   "display_name": "Python 3 (ipykernel)",
   "language": "python",
   "name": "python3"
  },
  "language_info": {
   "codemirror_mode": {
    "name": "ipython",
    "version": 3
   },
   "file_extension": ".py",
   "mimetype": "text/x-python",
   "name": "python",
   "nbconvert_exporter": "python",
   "pygments_lexer": "ipython3",
   "version": "3.10.10"
  }
 },
 "nbformat": 4,
 "nbformat_minor": 5
}
