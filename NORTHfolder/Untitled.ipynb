{
 "cells": [
  {
   "cell_type": "code",
   "execution_count": null,
   "id": "9903b3bd-8030-4829-a0b9-a194b21c1ec4",
   "metadata": {},
   "outputs": [],
   "source": [
    "import shutil\n",
    "import os\n",
    "\n",
    "def zip_current_folder(output_zip_path):\n",
    "    # Get the current working directory\n",
    "    folder_path = os.getcwd()\n",
    "    # Create the zip file\n",
    "    shutil.make_archive(output_zip_path, 'zip', folder_path)\n",
    "\n",
    "# Example usage\n",
    "output_zip_path = 'NORTHfolder'  # Path for the output zip file (without .zip extension)\n",
    "zip_current_folder(output_zip_path)\n"
   ]
  }
 ],
 "metadata": {
  "kernelspec": {
   "display_name": "Python 3 (ipykernel)",
   "language": "python",
   "name": "python3"
  },
  "language_info": {
   "codemirror_mode": {
    "name": "ipython",
    "version": 3
   },
   "file_extension": ".py",
   "mimetype": "text/x-python",
   "name": "python",
   "nbconvert_exporter": "python",
   "pygments_lexer": "ipython3",
   "version": "3.10.10"
  }
 },
 "nbformat": 4,
 "nbformat_minor": 5
}
