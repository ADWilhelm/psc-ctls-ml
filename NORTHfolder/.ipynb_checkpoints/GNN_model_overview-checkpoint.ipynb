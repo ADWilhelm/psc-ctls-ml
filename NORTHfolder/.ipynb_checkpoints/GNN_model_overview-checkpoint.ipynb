{
 "cells": [
  {
   "cell_type": "markdown",
   "id": "47238d35-3a4d-48fd-b874-ca542102c835",
   "metadata": {},
   "source": [
    "# GNN_1\n",
    "\n",
    "In 1000 epochs to 13.32 validation loss."
   ]
  },
  {
   "cell_type": "code",
   "execution_count": null,
   "id": "0e80bd69-698f-4b04-a57e-1c3a03dadbdc",
   "metadata": {},
   "outputs": [],
   "source": [
    "########### insert into GNN definition section ####################\n",
    "\n",
    "import torch.nn.functional as F\n",
    "from torch_geometric.nn import MessagePassing, global_mean_pool, MLP, global_add_pool\n",
    "from torch_geometric.nn import GCNConv\n",
    "\n",
    "class Net(torch.nn.Module):\n",
    "    def __init__(self):\n",
    "        super(Net, self).__init__()\n",
    "\n",
    "        self.etl_embedding_dimensions = 16\n",
    "        self.htl_embedding_dimensions = 16\n",
    "        self.absorber_dimensions = 76\n",
    "        self.bandgap_dimension = 1\n",
    "        self.hidden_dimension = 32\n",
    "        self.number_of_regression_layers = 3\n",
    "\n",
    "        self.etl_mpnn = GCNConv(in_channels=1, out_channels=self.etl_embedding_dimensions)\n",
    "        self.htl_mpnn = GCNConv(in_channels=1, out_channels=self.htl_embedding_dimensions)\n",
    "\n",
    "        self.fc1 = torch.nn.Linear(self.etl_embedding_dimensions + self.htl_embedding_dimensions + self.absorber_dimensions + self.bandgap_dimension, self.hidden_dimension)\n",
    "        \n",
    "        self.regression_layers = torch.nn.ModuleList([self.fc1])\n",
    "        self.regression_layers.extend([torch.nn.Linear(self.hidden_dimension,  self.hidden_dimension) for i in range(1, self.number_of_regression_layers-1)])\n",
    "\n",
    "        self.fc_out = torch.nn.Linear(self.hidden_dimension, 1)\n",
    "\n",
    "    def forward(self, etl_features, htl_features, etl_edge_indices, htl_edge_indices, absorbers, bandgap):\n",
    "        etl_x = self.etl_mpnn(etl_features, etl_edge_indices)\n",
    "        etl_x = global_mean_pool(etl_x, torch.zeros(etl_x.size(0), dtype=torch.long))\n",
    "        \n",
    "        htl_x = self.htl_mpnn(htl_features, htl_edge_indices)\n",
    "        htl_x = global_mean_pool(htl_x, torch.zeros(htl_x.size(0), dtype=torch.long))\n",
    "        \n",
    "        x = torch.cat([etl_x, htl_x, absorbers, bandgap], dim=1)\n",
    "        for layer in self.regression_layers: \n",
    "            x = F.leaky_relu(layer(x))\n",
    "        \n",
    "        x = self.fc_out(x)\n",
    "        x = F.softplus(x)\n",
    "        return x\n",
    "\n",
    "####### end of insert #############"
   ]
  },
  {
   "cell_type": "code",
   "execution_count": null,
   "id": "8de36a2a-61a9-49bf-af7c-03df90c0db63",
   "metadata": {},
   "outputs": [],
   "source": [
    "######### insert into Training section ##############\n",
    "\n",
    "decay = 0.995\n",
    "averaged_model = AveragedModel(model, multi_avg_fn=get_ema_multi_avg_fn(decay))\n",
    "\n",
    "optimizer = torch.optim.Adam(model.parameters(), lr=1e-3, weight_decay=1e-4)\n",
    "criterion = torch.nn.MSELoss()\n",
    "\n",
    "num_epochs = 1000\n",
    "scheduler = torch.optim.lr_scheduler.OneCycleLR(optimizer, max_lr=0.001, steps_per_epoch=len(train_loader), epochs=num_epochs, pct_start=0.1,final_div_factor=1e2)\n",
    "\n",
    "######### end of insert ################"
   ]
  },
  {
   "cell_type": "markdown",
   "id": "2ef50ba8-6df3-4465-8f73-64b1b0f4e947",
   "metadata": {},
   "source": [
    "# GNN_2"
   ]
  },
  {
   "cell_type": "code",
   "execution_count": null,
   "id": "dbd736f6-f5ce-4abd-9a1c-a631a0479597",
   "metadata": {},
   "outputs": [],
   "source": []
  }
 ],
 "metadata": {
  "kernelspec": {
   "display_name": "Python 3 (ipykernel)",
   "language": "python",
   "name": "python3"
  },
  "language_info": {
   "codemirror_mode": {
    "name": "ipython",
    "version": 3
   },
   "file_extension": ".py",
   "mimetype": "text/x-python",
   "name": "python",
   "nbconvert_exporter": "python",
   "pygments_lexer": "ipython3",
   "version": "3.10.10"
  }
 },
 "nbformat": 4,
 "nbformat_minor": 5
}
