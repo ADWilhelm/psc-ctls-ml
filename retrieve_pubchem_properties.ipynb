{
 "cells": [
  {
   "cell_type": "code",
   "execution_count": 1,
   "metadata": {},
   "outputs": [],
   "source": [
    "# load the dataset of CTL materials\n",
    "import pickle\n",
    "\n",
    "with open('df_all_ctl.pkl', 'rb') as f:\n",
    "    df_all_ctl = pickle.load(f)"
   ]
  },
  {
   "cell_type": "markdown",
   "metadata": {},
   "source": [
    "# Get Pubchem CID from name"
   ]
  },
  {
   "cell_type": "code",
   "execution_count": 25,
   "metadata": {},
   "outputs": [
    {
     "name": "stdout",
     "output_type": "stream",
     "text": [
      "16161850\n"
     ]
    }
   ],
   "source": [
    "import requests\n",
    "\n",
    "def search_pubchem_by_name(compound_name):\n",
    "    url = f\"https://pubchem.ncbi.nlm.nih.gov/rest/pug/compound/name/{compound_name}/cids/JSON\"\n",
    "    \n",
    "    response = requests.get(url)\n",
    "    \n",
    "    if response.status_code == 200:\n",
    "        data = response.json()\n",
    "        return data\n",
    "    else:\n",
    "        print(f\"Error: Unable to fetch data. Status code: {response.status_code}\")\n",
    "        return None\n",
    "\n",
    "# Example usage: searching for a compound by name\n",
    "compound_name = \"spiro-meotad\"\n",
    "result = search_pubchem_by_name(compound_name)\n",
    "CID = result['IdentifierList']['CID'][0]\n",
    "print(CID)"
   ]
  },
  {
   "cell_type": "markdown",
   "metadata": {},
   "source": [
    "# Get properties from CID"
   ]
  },
  {
   "cell_type": "code",
   "execution_count": 26,
   "metadata": {},
   "outputs": [
    {
     "name": "stdout",
     "output_type": "stream",
     "text": [
      "COC1=CC=C(C=C1)N(C2=CC=C(C=C2)OC)C3=CC4=C(C=C3)C5=C(C46C7=C(C=CC(=C7)N(C8=CC=C(C=C8)OC)C9=CC=C(C=C9)OC)C1=C6C=C(C=C1)N(C1=CC=C(C=C1)OC)C1=CC=C(C=C1)OC)C=C(C=C5)N(C1=CC=C(C=C1)OC)C1=CC=C(C=C1)OC\n"
     ]
    }
   ],
   "source": [
    "import requests\n",
    "#r = requests.get(f\"https://pubchem.ncbi.nlm.nih.gov/rest/pug/compound/cid/{CID}/property/CanonicalSMILES/JSON\")\n",
    "#print(r)\n",
    "\n",
    "def get_properties_from_CID(CID):\n",
    "    url = f\"https://pubchem.ncbi.nlm.nih.gov/rest/pug/compound/cid/{CID}/property/CanonicalSMILES/JSON\"\n",
    "    \n",
    "    response = requests.get(url)\n",
    "    \n",
    "    if response.status_code == 200:\n",
    "        property = response.json()\n",
    "        property = property['PropertyTable']['Properties'][0]['CanonicalSMILES']\n",
    "        return property\n",
    "    else:\n",
    "        print(f\"Error: Unable to fetch property. Status code: {response.status_code}\")\n",
    "        return None\n",
    "    \n",
    "result = get_properties_from_CID(CID)\n",
    "print(result)\n"
   ]
  },
  {
   "cell_type": "markdown",
   "metadata": {},
   "source": [
    "# Discarded code"
   ]
  },
  {
   "cell_type": "code",
   "execution_count": 7,
   "metadata": {},
   "outputs": [
    {
     "name": "stdout",
     "output_type": "stream",
     "text": [
      "Error in top matches retrieval. Status code: 404\n",
      "None\n"
     ]
    }
   ],
   "source": [
    "# attempt fuzzy matching (does not work)\n",
    "\n",
    "from fuzzywuzzy import process\n",
    "import requests\n",
    "\n",
    "def search_pubchem_top_matches(query, top_n):\n",
    "    '''This function searches PubChem for the top N matches of a compound by name.\n",
    "    '''\n",
    "    url = f\"https://pubchem.ncbi.nlm.nih.gov/rest/pug/compound/name/{query}/cids/JSON\"\n",
    "\n",
    "    response = requests.get(url)\n",
    "\n",
    "    if response.status_code == 200:\n",
    "        data = response.json()\n",
    "        top_matches = data['IdentifierList']['CID'][:top_n]\n",
    "        return top_matches\n",
    "    else:\n",
    "        print(f\"Error in top matches retrieval. Status code: {response.status_code}\")\n",
    "        return None\n",
    "\n",
    "\n",
    "def search_pubchem_by_name_fuzzy(query, top_n=10):\n",
    "    '''This searches PubChem for a compound by name using fuzzy matching.\n",
    "    '''\n",
    "    # search for the top N matches to the name\n",
    "    top_matches = search_pubchem_top_matches(query, top_n)\n",
    "    \n",
    "    if not top_matches:\n",
    "        return None\n",
    "    \n",
    "    # Convert CIDs to compound names\n",
    "    compound_names = [get_compound_name(cid) for cid in top_matches]\n",
    "    \n",
    "    # Use fuzzy matching to find the closest match to the provided compound name\n",
    "    closest_match, score = process.extractOne(query, compound_names)\n",
    "    \n",
    "    # Search PubChem by the closest match\n",
    "    result = search_pubchem_by_name(closest_match)\n",
    "    return result\n",
    "\n",
    "\n",
    "def get_compound_name(cid):\n",
    "    '''This function retrieves the name of a compound from PubChem using its CID.\n",
    "    '''\n",
    "    # PubChem PUG REST API endpoint for compound information\n",
    "    url = f\"https://pubchem.ncbi.nlm.nih.gov/rest/pug/compound/cid/{cid}/property/Title/JSON\"\n",
    "    \n",
    "    # Send GET request to the API\n",
    "    response = requests.get(url)\n",
    "    \n",
    "    # Check if the request was successful (status code 200)\n",
    "    if response.status_code == 200:\n",
    "        # Parse JSON response\n",
    "        data = response.json()\n",
    "        # Extract compound name\n",
    "        compound_name = data['PropertyTable']['Properties'][0]['Title']\n",
    "        return compound_name\n",
    "    else:\n",
    "        # If request was unsuccessful, print error message\n",
    "        print(f\"Error: Unable to fetch data. Status code: {response.status_code}\")\n",
    "        return None\n",
    "\n",
    "# Example usage: searching for a compound by name (with Top N matches and fuzzy matching)\n",
    "compound_name = \"aspirin\"\n",
    "result = search_pubchem_by_name_fuzzy(compound_name, top_n=5)\n",
    "print(result)\n"
   ]
  }
 ],
 "metadata": {
  "kernelspec": {
   "display_name": "nomad_env",
   "language": "python",
   "name": "python3"
  },
  "language_info": {
   "codemirror_mode": {
    "name": "ipython",
    "version": 3
   },
   "file_extension": ".py",
   "mimetype": "text/x-python",
   "name": "python",
   "nbconvert_exporter": "python",
   "pygments_lexer": "ipython3",
   "version": "3.9.19"
  }
 },
 "nbformat": 4,
 "nbformat_minor": 2
}
