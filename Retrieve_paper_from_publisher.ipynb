{
 "cells": [
  {
   "cell_type": "code",
   "execution_count": 18,
   "metadata": {},
   "outputs": [
    {
     "name": "stdout",
     "output_type": "stream",
     "text": [
      "<Response [200 OK]>\n",
      "\n",
      "                  Today poly and mono-crystalline silicon dominate the photovoltaic (PV) markets for outdoor applications. Nevertheless, there is a growing requirement for PV to be deployed in a wide variety of conditions from building-integrated, to portable electronics, to indoors for powering smart sensors, internet of things and homes. In this latter environment, other PV technologies such as amorphous silicon and dye sensitized solar cells have been the wide-spread choice to date for light harvesting. Here, we show that the perovskite solar cells (PSCs) we developed, in their mesoscopic form, incorporating both low temperature compact and mesoporous TiO2 layers, possess an outstanding combination of high power conversion efficiency (PCE) under both outdoor and indoor illumination conditions: i.e. PCE=15.9% (the highest for low temperature processed PSC in the mesoscopic form) under Standard Test Conditions (STC:1000W/m2 with AM 1.5 Spectrum, 25°C), and PCE=24% − 25.4% under indoor lighting (with a Maximum Power Density MPD=15.4µWcm−2 at 200lx and 32.6µWcm−2 at 400lx under compact fluorescent lamp). Our results demonstrate this technology to be exceptional for all-round performance, furthermore being manufactured via low-cost processing. These state-of-the-art high values were enabled by the development of high quality thin TiO2 layers deposited by atomic layer deposition (ALD). Furthermore, our investigation highlights the more stringent blocking behavior requirements of the compact layers under low-level light illumination compared to when the device has to operate under STC. Finally, the architecture and processes used were all carried out at low temperatures (T<150°C) which enabled us to successfully transfer the design to plastic substrates.\n",
      "               \n"
     ]
    }
   ],
   "source": [
    "import httpx\n",
    "\n",
    "def scopus_retrieve_paper(DOI, apikey):\n",
    "    apikey=apikey\n",
    "    headers={\n",
    "        \"X-ELS-APIKey\":apikey,\n",
    "        \"Accept\":'application/json'\n",
    "         }\n",
    "    client = httpx.Client(headers=headers)\n",
    "    query=\"&view=FULL\"\n",
    "    url=f\"https://api.elsevier.com/content/article/doi/\" + DOI\n",
    "    r=client.get(url)\n",
    "    print(r)\n",
    "    return r\n",
    "\n",
    "# Get document\n",
    "y = scopus_paper_date('10.1016/j.nanoen.2016.10.030',\n",
    "                      \"1bafda725082a9d87b9b160d375fe35c\")\n",
    "# Parse document\n",
    "import json\n",
    "json_acceptable_string = y.text\n",
    "d = json.loads(json_acceptable_string)\n",
    "# Print document\n",
    "print(d['full-text-retrieval-response']['coredata']['dc:description'])"
   ]
  },
  {
   "cell_type": "code",
   "execution_count": 19,
   "metadata": {},
   "outputs": [
    {
     "data": {
      "text/plain": [
       "str"
      ]
     },
     "execution_count": 19,
     "metadata": {},
     "output_type": "execute_result"
    }
   ],
   "source": [
    "type(d['full-text-retrieval-response']['coredata']['dc:description'])"
   ]
  }
 ],
 "metadata": {
  "kernelspec": {
   "display_name": "base",
   "language": "python",
   "name": "python3"
  },
  "language_info": {
   "codemirror_mode": {
    "name": "ipython",
    "version": 3
   },
   "file_extension": ".py",
   "mimetype": "text/x-python",
   "name": "python",
   "nbconvert_exporter": "python",
   "pygments_lexer": "ipython3",
   "version": "3.9.18"
  }
 },
 "nbformat": 4,
 "nbformat_minor": 2
}
