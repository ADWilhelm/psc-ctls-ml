{
 "cells": [
  {
   "cell_type": "markdown",
   "metadata": {},
   "source": [
    "# The code here translates CIDs to SMILES\n",
    "The first cell contains the necessary function, eveything below is just\n",
    "application."
   ]
  },
  {
   "cell_type": "code",
   "execution_count": 1,
   "metadata": {},
   "outputs": [],
   "source": [
    "import requests\n",
    "import pickle"
   ]
  },
  {
   "cell_type": "code",
   "execution_count": 2,
   "metadata": {},
   "outputs": [],
   "source": [
    "def CID_to_SMILES(CID):\n",
    "    '''\n",
    "    This transforms a CID into a SMILES using PubChem.\n",
    "    Argument: CID (int) - the CID of the material\n",
    "    data - the SMILES of the material\n",
    "    '''\n",
    "    url = f\"https://pubchem.ncbi.nlm.nih.gov/rest/pug/compound/cid/{CID}/property/CanonicalSMILES/JSON\"\n",
    "    \n",
    "    response = requests.get(url)\n",
    "\n",
    "    if response.status_code == 200:\n",
    "        data = response.json()\n",
    "        data = data['PropertyTable']['Properties'][0]['CanonicalSMILES']\n",
    "        return data\n",
    "    else:\n",
    "        print('debug: SMILES could not be retrieved')\n",
    "        raise Exception(f\"Error: Could not retrieve SMILES from this CID. Status code: {response.status_code}\")\n",
    "        return None"
   ]
  },
  {
   "cell_type": "code",
   "execution_count": null,
   "metadata": {
    "collapsed": true,
    "jupyter": {
     "outputs_hidden": true
    },
    "tags": []
   },
   "outputs": [],
   "source": [
    "# load CID dictionary\n",
    "with open('pickles/dict_all_cells_v2.pkl', 'rb') as f:\n",
    "    name_to_CID_dict = pickle.load(f)\n",
    "    f.close()\n",
    "\n",
    "#initialize new dictionary where the SMILES will be written\n",
    "name_to_SMILES_dict = {}\n",
    "\n",
    "# populate the SMILES dictionary\n",
    "for index, name in enumerate(name_to_CID_dict):\n",
    "    print(f\"{index+1}/2450. Next up: {name}\")\n",
    "    CID = name_to_CID_dict[name]\n",
    "    if CID is not None:\n",
    "        SMILES = CID_to_SMILES(CID)\n",
    "        name_to_SMILES_dict[name] = SMILES\n",
    "    else:\n",
    "        name_to_SMILES_dict[name] = None"
   ]
  },
  {
   "cell_type": "code",
   "execution_count": 5,
   "metadata": {},
   "outputs": [],
   "source": [
    "# pickle the SMILES dictionary\n",
    "with open('data_RO1/SMILES_dict.pkl', 'wb') as f:\n",
    "    pickle.dump(name_to_SMILES_dict, f)"
   ]
  },
  {
   "cell_type": "code",
   "execution_count": null,
   "metadata": {},
   "outputs": [],
   "source": [
    "# counting how many entries in name_to_SMILES_dict are not None\n",
    "count = sum(value is not None for value in name_to_SMILES_dict.values())\n",
    "print(count)"
   ]
  }
 ],
 "metadata": {
  "kernelspec": {
   "display_name": "Python 3 (ipykernel)",
   "language": "python",
   "name": "python3"
  },
  "language_info": {
   "codemirror_mode": {
    "name": "ipython",
    "version": 3
   },
   "file_extension": ".py",
   "mimetype": "text/x-python",
   "name": "python",
   "nbconvert_exporter": "python",
   "pygments_lexer": "ipython3",
   "version": "3.10.10"
  }
 },
 "nbformat": 4,
 "nbformat_minor": 4
}
