{
 "cells": [
  {
   "cell_type": "code",
   "execution_count": 3,
   "metadata": {},
   "outputs": [],
   "source": [
    "# read in the paper (done here so I can run it in base environment, because\n",
    "# for some reason chemdataextractor can't be installed into nomad.env)\n",
    "from chemdataextractor import Document\n",
    "import pickle\n",
    "\n",
    "f = open('testarticle_llama_extraction.pdf', 'rb')\n",
    "doc = Document.from_file(f)\n",
    "\n",
    "for item in doc.elements:\n",
    "    if \"References\" in str(item):\n",
    "        index_to_delete = doc.elements.index(item)\n",
    "        del doc.elements[index_to_delete:]\n",
    "\n",
    "paper_text = ' '.join(map(str, doc.elements))\n",
    "\n",
    "with open('testarticle.txt', 'w') as f:\n",
    "    f.write(paper_text)\n"
   ]
  }
 ],
 "metadata": {
  "kernelspec": {
   "display_name": "base",
   "language": "python",
   "name": "python3"
  },
  "language_info": {
   "codemirror_mode": {
    "name": "ipython",
    "version": 3
   },
   "file_extension": ".py",
   "mimetype": "text/x-python",
   "name": "python",
   "nbconvert_exporter": "python",
   "pygments_lexer": "ipython3",
   "version": "3.9.18"
  }
 },
 "nbformat": 4,
 "nbformat_minor": 2
}
