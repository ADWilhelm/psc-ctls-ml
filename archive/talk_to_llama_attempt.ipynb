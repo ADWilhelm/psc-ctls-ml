{
 "cells": [
  {
   "cell_type": "code",
   "execution_count": 9,
   "metadata": {},
   "outputs": [
    {
     "name": "stdout",
     "output_type": "stream",
     "text": [
      "Poly(triaryl amine)\n"
     ]
    }
   ],
   "source": [
    "# THIS WORKS WOHOOO\n",
    "\n",
    "import os\n",
    "import json\n",
    "from groq import Groq\n",
    "import api_keys\n",
    "\n",
    "groq = Groq(api_key=api_keys.api_key_groq) \n",
    "\n",
    "compound = \"PTAA\"\n",
    "\n",
    "with open('paper_text.txt', 'r') as f:\n",
    "    paper_text = f.read()\n",
    "\n",
    "chat_completion = groq.chat.completions.create(\n",
    "    messages=[\n",
    "        {\n",
    "            \"role\": \"system\",\n",
    "            \"content\": \"You are a solar cell scientist proficient in reading papers. You output only the chemical name of the compound asked for, nothing else.\",\n",
    "            #\"content\": \"You are helpful memory recorder. Write outputs in JSON schema.\\n\",\n",
    "            #f\" The JSON object must use the schema: {json.dumps(my_schema.model_json_schema(), indent=1)}\",\n",
    "        },\n",
    "        {\n",
    "            \"role\": \"user\",\n",
    "            \"content\": f\"What is the chemical name pertaining to this abbreviation: {compound}? You can find it in this text: {paper_text}.\",\n",
    "        }\n",
    "    ],\n",
    "    model=\"llama3-70b-8192\",\n",
    "    #response_format={\"type\": \"json_object\"},\n",
    ")\n",
    "\n",
    "print(chat_completion.choices[0].message.content)"
   ]
  },
  {
   "cell_type": "markdown",
   "metadata": {},
   "source": [
    "# Old Llama Code"
   ]
  },
  {
   "cell_type": "code",
   "execution_count": null,
   "metadata": {},
   "outputs": [],
   "source": [
    "import json\n",
    "from llamaapi import LlamaAPI\n",
    "import pickle # only necessary for paper reading currently\n",
    "\n",
    "# Initialize the SDK\n",
    "llama = LlamaAPI(api_keys.api_key_llama)\n",
    "\n",
    "compound = \"PTAA\"\n",
    "# Load paper text. Necessary because chemdataextractor does not run in nomad.env\n",
    "# reminder to self: I manually cut the paper_text to be under the token limit\n",
    "with open('simple_paper_imitation.txt', 'r') as f:\n",
    "    paper_text = f.read()\n",
    "\n",
    "# Build the API request\n",
    "api_request_json = {\n",
    "    \"messages\": [\n",
    "        {\"role\": \"user\", \"content\": f\"What is the chemical name pertaining to this abbreviation: {compound}? You can find it in this text: {paper_text}\"},\n",
    "    ],\n",
    "    \"functions\": [\n",
    "        {\n",
    "            \"name\": \"get_compound_name\",\n",
    "            \"description\": \"Extract the chemical name of a given compound abbreviation from a paper\",\n",
    "            \"parameters\": {\n",
    "                \"type\": \"object\",\n",
    "                \"properties\": {\n",
    "                    \"proper_name\": {\n",
    "                        \"type\": \"string\",\n",
    "                        \"description\": \"The chemical name associated with the abbreviation.\",\n",
    "                    }\n",
    "                },\n",
    "            },\n",
    "            \"required\": [\"proper_name\"],\n",
    "        }\n",
    "    ],\n",
    "    \"stream\": False,\n",
    "    \"function_call\": \"get_compound_name\",\n",
    "}\n",
    "\n",
    "# Execute the Request\n",
    "response = llama.run(api_request_json)\n",
    "if response.status_code != 200:\n",
    "    print(f\"Request failed with status code {response.status_code}\")\n",
    "else:\n",
    "    print(json.dumps(response.json(), indent=2))\n"
   ]
  }
 ],
 "metadata": {
  "kernelspec": {
   "display_name": "nomad_env",
   "language": "python",
   "name": "python3"
  },
  "language_info": {
   "codemirror_mode": {
    "name": "ipython",
    "version": 3
   },
   "file_extension": ".py",
   "mimetype": "text/x-python",
   "name": "python",
   "nbconvert_exporter": "python",
   "pygments_lexer": "ipython3",
   "version": "3.9.19"
  }
 },
 "nbformat": 4,
 "nbformat_minor": 2
}
