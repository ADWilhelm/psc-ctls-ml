{
 "cells": [
  {
   "cell_type": "markdown",
   "metadata": {},
   "source": [
    "# CID retrieval\n",
    "\n",
    "This script uses the industry name which is present in NOMAD and finds its PubChem CID. This happens in steps:\n",
    "1. Attempt to get the PubChem CID with the industry name directly.\n",
    "2. If that does not work, attempt to identify the more descriptive chemical name from the associated publication.\n",
    "3. If that does not work, attempt to identify the chemical name from other publications using the same material.\n",
    "\n",
    "In this manner, a dictionary of industry names and their PubChem CIDs is compiled."
   ]
  },
  {
   "cell_type": "code",
   "execution_count": 30,
   "metadata": {},
   "outputs": [],
   "source": [
    "import requests\n",
    "import pickle\n",
    "import os\n",
    "import json\n",
    "from groq import Groq\n",
    "import httpx\n",
    "import config # config needs to be a file containing a groq and elsevier api-key"
   ]
  },
  {
   "cell_type": "markdown",
   "metadata": {},
   "source": [
    "# Step 1"
   ]
  },
  {
   "cell_type": "code",
   "execution_count": 31,
   "metadata": {},
   "outputs": [],
   "source": [
    "def search_pubchem_by_name(industry_name):\n",
    "    '''\n",
    "    This searches for a CTL material's CID in PubChem.\n",
    "    Argument: industry_name (str) - the name of the material\n",
    "    Value: CID (int) - the CID of the material\n",
    "    '''\n",
    "    url = f\"https://pubchem.ncbi.nlm.nih.gov/rest/pug/compound/name/{industry_name}/cids/JSON\"\n",
    "    \n",
    "    response = requests.get(url)\n",
    "    \n",
    "    if response.status_code == 200:\n",
    "        data = response.json()\n",
    "        data = data['IdentifierList']['CID'][0]\n",
    "        print('debug: success! found through search_pubchem_by_name!')\n",
    "        return data\n",
    "    else:\n",
    "        print('debug: search_pubchem_by_name unsuccessful')\n",
    "        raise Exception(f\"Error: Could not retrieve CID using the industry name alone. Status code: {response.status_code}\")\n",
    "        return None"
   ]
  },
  {
   "cell_type": "markdown",
   "metadata": {},
   "source": [
    "# Step 2 and 3"
   ]
  },
  {
   "cell_type": "code",
   "execution_count": 75,
   "metadata": {},
   "outputs": [],
   "source": [
    "def find_CID_in_text(industry_name, \n",
    "                     CTL_DOIs, \n",
    "                     paper_index = -1):\n",
    "    '''\n",
    "    This function tries to find the chemical name in the paper text and to\n",
    "    retrieve the CID from PubChem.\n",
    "    Arguments: \n",
    "        industry_name (str) - the name of the material\n",
    "        CTL_DOIs (list) - list of DOIs of papers with that CTL\n",
    "        paper_index (int) - index of the paper in the list\n",
    "    Value: \n",
    "        CID (int) - the CID of the material\n",
    "    Dependencies: \n",
    "        paper_from_publisher, llm_retrieve_name, search_pubchem_by_name\n",
    "    '''\n",
    "    print(f'debug: length of CTL_DOIs (1): {len(CTL_DOIs)}. Paper Index (0): {paper_index}')\n",
    "    if paper_index >= (len(CTL_DOIs) - 1):\n",
    "        print('debug: unsucessfully searched through all papers associated with that material')\n",
    "        raise Exception('All papers have been searched.')\n",
    "\n",
    "    paper_index = paper_index + 1 #now 0\n",
    "    DOI = CTL_DOIs[paper_index]\n",
    "    try:\n",
    "        paper_text = paper_from_publisher(DOI) # trying with first paper, fails\n",
    "    except:\n",
    "        print('debug: paper_from_publisher failed. Continuing with recurrence')\n",
    "        CID = find_CID_in_text(industry_name, CTL_DOIs, paper_index) # result is unhandled Exception\n",
    "        if CID is not None:\n",
    "            return CID\n",
    "    try:\n",
    "        print('debug: trying llm_retrieve_name')\n",
    "        chem_name = llm_retrieve_name(paper_text, industry_name)\n",
    "    except:\n",
    "        print('debug: llm_retrieve_name failed. Recurring...')\n",
    "        CID = find_CID_in_text(industry_name, CTL_DOIs, paper_index)\n",
    "        if CID is not None:\n",
    "            return CID\n",
    "    try:\n",
    "        print('debug: trying search_pubchem_by_name(chem_name)')\n",
    "        CID = search_pubchem_by_name(chem_name)\n",
    "        return CID\n",
    "    except:\n",
    "        print('debug: trying search_pubchem_by_name(chem_name) failed. Recurring...')\n",
    "        CID = find_CID_in_text(industry_name, CTL_DOIs, paper_index)\n",
    "        if CID is not None:\n",
    "            return CID\n",
    "\n",
    "\n",
    "# Dependencies of the finding function\n",
    "# search_pubchem_by_name is defined in previous code cell\n",
    "\n",
    "# paper_from_publisher:\n",
    "def paper_from_publisher(DOI):\n",
    "    '''\n",
    "    This function tries publisher APIs to retrieve paper texts from ScienceDirect.\n",
    "    Argument: DOI (str) - the DOI of the paper\n",
    "    Value: paper_text (str) - the plain text of the paper\n",
    "    '''\n",
    "\n",
    "    def scidir_retrieve_paper(DOI, apikey):\n",
    "        apikey=apikey\n",
    "        headers={\n",
    "            \"X-ELS-APIKey\":apikey,\n",
    "            \"Accept\":'application/json'\n",
    "            }\n",
    "        client = httpx.Client(headers=headers)\n",
    "        query=\"&view=FULL\"\n",
    "        url=f\"https://api.elsevier.com/content/article/doi/\" + DOI\n",
    "        r=client.get(url)\n",
    "        print(f'debug: paper retrieval executed. This is the result: {r}')\n",
    "        if r.status_code != 200:\n",
    "            print('debug: paper retrieval exception will be raised')\n",
    "            raise Exception(f\"Error: The paper could not be found in ScienceDirect. Status code: {r.status_code}\")\n",
    "        return r\n",
    "\n",
    "    # Get document\n",
    "    try:\n",
    "        scidir_response = scidir_retrieve_paper(DOI, config.api_key_elsevier)\n",
    "\n",
    "        json_acceptable_string = scidir_response.text\n",
    "        d = json.loads(json_acceptable_string)\n",
    "        return d['full-text-retrieval-response']['coredata']['dc:description']\n",
    "    except:\n",
    "        print(\"debug: Paper not found in ScienceDirect.\")\n",
    "        raise Exception(\"Error: Paper not found in ScienceDirect.\")\n",
    "\n",
    "# llm_retrieve_name\n",
    "def llm_retrieve_name(paper_text,\n",
    "                      industry_name, \n",
    "                      api_key=config.api_key_groq):\n",
    "    '''\n",
    "    This function retrieves the chemical name of the compound from the paper text.\n",
    "    Arguments: \n",
    "        paper_text (str) - the text of the paper\n",
    "        industry_name (str) - the name of the material\n",
    "    Value: \n",
    "        chem_name (str) - the chemical name of the material\n",
    "    '''\n",
    "    groq = Groq(api_key=api_key)\n",
    "    chat_completion = groq.chat.completions.create(\n",
    "        messages=[\n",
    "            {\n",
    "                \"role\": \"system\",\n",
    "                \"content\": \"You are a solar cell scientist proficient in reading papers. You output only the chemical name of the compound asked for, nothing else.\",\n",
    "                #\"content\": \"You are helpful memory recorder. Write outputs in JSON schema.\\n\",\n",
    "                #f\" The JSON object must use the schema: {json.dumps(my_schema.model_json_schema(), indent=1)}\",\n",
    "            },\n",
    "            {\n",
    "                \"role\": \"user\",\n",
    "                \"content\": f\"What is the chemical name pertaining to this abbreviation: {industry_name}? You can find it in this text: {paper_text}.\",\n",
    "            }\n",
    "        ],\n",
    "        model=\"llama3-70b-8192\",\n",
    "        #response_format={\"type\": \"json_object\"},\n",
    "    )\n",
    "    return chat_completion.choices[0].message.content\n",
    "\n"
   ]
  },
  {
   "cell_type": "markdown",
   "metadata": {},
   "source": [
    "# Populating the dictionary"
   ]
  },
  {
   "cell_type": "code",
   "execution_count": 116,
   "metadata": {},
   "outputs": [],
   "source": [
    "# function for populating the dictionary\n",
    "def name_to_cid(industry_name, df):\n",
    "    try:\n",
    "        CID = search_pubchem_by_name(industry_name)\n",
    "        name_to_CID_dict[industry_name] = CID\n",
    "    except:\n",
    "        print('debug: initial search_pubchem_by_name did not work. Trying paper reading.')\n",
    "        # build list of DOIs that mention the material\n",
    "        CTL_DOIs = []\n",
    "        for i in range(len(df)):\n",
    "            if any(industry_name in item for item in df.iloc[i]['etl']) or any(industry_name in item for item in df.iloc[i]['htl']):\n",
    "                CTL_DOIs.append(df.iloc[i]['ref'].replace('https://doi.org/',''))\n",
    "            CTL_DOIs = list(set(CTL_DOIs))\n",
    "        if len(CTL_DOIs) == 0:\n",
    "            print('debug: no references found in the dataframe for this material.')\n",
    "        else:\n",
    "            print('debug: list of papers successfully built')\n",
    "        # go through the list of papers and try llm extraction\n",
    "#        for i in range(len(CTL_DOIs)):\n",
    "#        print('debug: i =', i)\n",
    "        try:\n",
    "            CID = find_CID_in_text(industry_name, CTL_DOIs)\n",
    "        except Exception as e:\n",
    "            if str(e) == 'All papers have been searched.':\n",
    "                print('debug: stopped recursion as all papers have been searched')\n",
    "                CID = None\n",
    "        name_to_CID_dict[industry_name] = CID\n",
    "\n"
   ]
  },
  {
   "cell_type": "markdown",
   "metadata": {},
   "source": [
    "# Main"
   ]
  },
  {
   "cell_type": "code",
   "execution_count": 96,
   "metadata": {},
   "outputs": [],
   "source": [
    "# Initialize dictionary\n",
    "name_to_CID_dict = {}"
   ]
  },
  {
   "cell_type": "code",
   "execution_count": 118,
   "metadata": {},
   "outputs": [
    {
     "name": "stdout",
     "output_type": "stream",
     "text": [
      "debug: search_pubchem_by_name unsuccessful\n",
      "debug: initial search_pubchem_by_name did not work. Trying paper reading.\n",
      "debug: list of papers successfully built\n",
      "debug: length of CTL_DOIs (1): 6. Paper Index (0): -1\n",
      "debug: paper retrieval executed. This is the result: <Response [404 Not Found]>\n",
      "debug: paper retrieval exception will be raised\n",
      "debug: Paper not found in Scopus.\n",
      "debug: paper_from_publisher failed. Continuing with recurrence\n",
      "debug: length of CTL_DOIs (1): 6. Paper Index (0): 0\n",
      "debug: paper retrieval executed. This is the result: <Response [404 Not Found]>\n",
      "debug: paper retrieval exception will be raised\n",
      "debug: Paper not found in Scopus.\n",
      "debug: paper_from_publisher failed. Continuing with recurrence\n",
      "debug: length of CTL_DOIs (1): 6. Paper Index (0): 1\n",
      "debug: paper retrieval executed. This is the result: <Response [404 Not Found]>\n",
      "debug: paper retrieval exception will be raised\n",
      "debug: Paper not found in Scopus.\n",
      "debug: paper_from_publisher failed. Continuing with recurrence\n",
      "debug: length of CTL_DOIs (1): 6. Paper Index (0): 2\n",
      "debug: paper retrieval executed. This is the result: <Response [404 Not Found]>\n",
      "debug: paper retrieval exception will be raised\n",
      "debug: Paper not found in Scopus.\n",
      "debug: paper_from_publisher failed. Continuing with recurrence\n",
      "debug: length of CTL_DOIs (1): 6. Paper Index (0): 3\n",
      "debug: paper retrieval executed. This is the result: <Response [404 Not Found]>\n",
      "debug: paper retrieval exception will be raised\n",
      "debug: Paper not found in Scopus.\n",
      "debug: paper_from_publisher failed. Continuing with recurrence\n",
      "debug: length of CTL_DOIs (1): 6. Paper Index (0): 4\n",
      "debug: paper retrieval executed. This is the result: <Response [404 Not Found]>\n",
      "debug: paper retrieval exception will be raised\n",
      "debug: Paper not found in Scopus.\n",
      "debug: paper_from_publisher failed. Continuing with recurrence\n",
      "debug: length of CTL_DOIs (1): 6. Paper Index (0): 5\n",
      "debug: unsucessfully searched through all papers associated with that material\n",
      "debug: stopped recursion as all papers have been searched\n"
     ]
    }
   ],
   "source": [
    "# which industry name are we identifying right now? later this will loop through\n",
    "# all the materials in the dataframe\n",
    "industry_name = \"PEDOT:PSS\"\n",
    "\n",
    "# prepare df\n",
    "with open('df_some_test_ctls.pkl', 'rb') as f:\n",
    "    df_some_test_ctls = pickle.load(f)\n",
    "\n",
    "name_to_cid(industry_name, df_some_test_ctls)"
   ]
  },
  {
   "cell_type": "code",
   "execution_count": 100,
   "metadata": {},
   "outputs": [
    {
     "name": "stdout",
     "output_type": "stream",
     "text": [
      "{'spiro-meotad': 16161850, 'PCBM-60': None, 'D35': 445664}\n"
     ]
    }
   ],
   "source": [
    "print(name_to_CID_dict)"
   ]
  }
 ],
 "metadata": {
  "kernelspec": {
   "display_name": "nomad_env",
   "language": "python",
   "name": "python3"
  },
  "language_info": {
   "codemirror_mode": {
    "name": "ipython",
    "version": 3
   },
   "file_extension": ".py",
   "mimetype": "text/x-python",
   "name": "python",
   "nbconvert_exporter": "python",
   "pygments_lexer": "ipython3",
   "version": "3.9.19"
  }
 },
 "nbformat": 4,
 "nbformat_minor": 2
}
