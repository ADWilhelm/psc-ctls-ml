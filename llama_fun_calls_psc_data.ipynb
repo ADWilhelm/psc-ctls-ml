{
 "cells": [
  {
   "cell_type": "code",
   "execution_count": 49,
   "metadata": {},
   "outputs": [
    {
     "name": "stdout",
     "output_type": "stream",
     "text": [
      "{\n",
      "  \"created\": 1715357294,\n",
      "  \"model\": \"llama-13b-chat\",\n",
      "  \"usage\": {\n",
      "    \"prompt_tokens\": 179,\n",
      "    \"completion_tokens\": 37,\n",
      "    \"total_tokens\": 216\n",
      "  },\n",
      "  \"choices\": [\n",
      "    {\n",
      "      \"index\": 0,\n",
      "      \"message\": {\n",
      "        \"role\": \"assistant\",\n",
      "        \"content\": null,\n",
      "        \"function_call\": {\n",
      "          \"name\": \"get_properties\",\n",
      "          \"arguments\": {\n",
      "            \"PCE\": \"5.13%\",\n",
      "            \"Voc\": \"0.77 V\",\n",
      "            \"Jsc\": \"18 mA/cm2\"\n",
      "          }\n",
      "        }\n",
      "      },\n",
      "      \"finish_reason\": \"function_call\"\n",
      "    }\n",
      "  ]\n",
      "}\n"
     ]
    }
   ],
   "source": [
    "import json\n",
    "from llamaapi import LlamaAPI\n",
    "\n",
    "llama = LlamaAPI(\"API_KEY_HERE\")\n",
    "\n",
    "# Load the paper text.\n",
    "with open('testarticle_cut.txt', 'r') as f:\n",
    "    paper_text = f.read()\n",
    "\n",
    "# Build the function call request\n",
    "api_request_json = {\n",
    "    \"messages\": [\n",
    "        {\"role\": \"user\", \"content\": f\"Please extract solar cell properties (PCE, Voc, Jsc) from this text: {paper_text}\"},\n",
    "    ],\n",
    "    \"functions\": [\n",
    "        {\n",
    "            \"name\": \"get_properties\",\n",
    "            \"description\": \"Extract the solar cell properties from the paper.\",\n",
    "            \"parameters\": {\n",
    "                \"type\": \"object\",\n",
    "                \"properties\": {\n",
    "                    \"PCE\": {\n",
    "                        \"type\": \"string\",\n",
    "                        \"description\": \"The power conversion efficiency of the cell.\"\n",
    "                    },\n",
    "                    \"Voc\": {\n",
    "                        \"type\": \"string\",\n",
    "                        \"description\": \"The open circuit voltage of the cell.\"\n",
    "                    },\n",
    "                    \"Jsc\": {\n",
    "                        \"type\": \"string\",\n",
    "                        \"description\": \"The short circuit current of the cell.\"\n",
    "                    }\n",
    "                },\n",
    "            },\n",
    "            \"required\": [\"PCE\", \"Voc\", \"Jsc\"],\n",
    "        }\n",
    "    ],\n",
    "    \"stream\": False,\n",
    "    \"function_call\": \"get_properties\",\n",
    "}\n",
    "\n",
    "# Execute the Request\n",
    "response = llama.run(api_request_json)\n",
    "if response.status_code != 200:\n",
    "    print(f\"Request failed with status code {response.status_code}\")\n",
    "else:\n",
    "    print(json.dumps(response.json(), indent=2))"
   ]
  },
  {
   "cell_type": "code",
   "execution_count": 34,
   "metadata": {},
   "outputs": [
    {
     "data": {
      "text/plain": [
       "'The prepared sandwich structured PSC with a supporting layer of \\npolymer  electrolyte  resulted  in  a  Voc  of  0.77  V,  Jsc  of  18 \\nmA·cm-2, and PCE of 5.13% in an ambient condition.'"
      ]
     },
     "execution_count": 34,
     "metadata": {},
     "output_type": "execute_result"
    }
   ],
   "source": [
    "paper_text"
   ]
  },
  {
   "cell_type": "code",
   "execution_count": 9,
   "metadata": {},
   "outputs": [
    {
     "data": {
      "text/plain": [
       "'Eng. Sci., 2022, 17, 216–223 Engineered Science \\nDOI: https://dx.doi.org/10.30919/es8d517 Nickel Oxide Embedded with Polymer Electrolyte as Efficient \\nHole Transport Material for Perovskite Solar Cell Monika Srivastava, Karan Surana, Pramod Kumar Singh and Ram Chandra Singh* Abstract The use of organic hole transport material (HTM) is usually quite expensive owing to its synthesis procedure and high purity \\nrequirement. Therefore, we have synthesized an inexpensive, inorganic HTM, nickel oxide (NiO). The perovskite precursor i.e., \\nCH3NH3I were also synthesized and characterized for surface morphology and elemental analysis. Perovskite solar cell (PSC) \\nwas successfully prepared using NiO as the HTM with a supporting layer of polymer electrolyte. The fabricated  sandwich-\\nstructured  PSC  exhibited  an  open circuit  voltage (Voc)  of  0.77  V,  short  circuit  density  (Jsc)  of 18  mA/cm2,  and  an effective \\nphoton conversion efficiency (PCE) of 5.13%. Keywords: Perovskite; Polymer electrolyte; Nickel oxide; Perovskite solar cell; Hole transport material. \\nReceived: 14 June 2021; Revised: 23 August 2021; Accepted: 30 August 2021. \\nArticle type: Research article. In the present work, we report the synthesis of perovskite \\n(CH3NH3PbI3) material in ambient conditions. The synthesis \\nof  NiO  was  carried  out  using  a  simple  sol-gel  method. The \\nprepared  materials  were  further  characterized  for  UV–Vis \\nabsorption,x–ray  diffraction  (XRD),  energy  dispersive–ray \\n(EDX),  and  scanning  electron  microscopy  (SEM).  The \\nprepared sandwich structured PSC with a supporting layer of \\npolymer  electrolyte  resulted  in  a  Voc  of  0.77  V,  Jsc  of  18 \\nmA·cm-2, and PCE of 5.13% in an ambient condition. \\n\\n4. Conclusions \\nThe present work was focused on the fabrication of PSC in a \\nsandwich  configuration  using  NiO  as  HTM  embedded  with \\npolymer  electrolyte  in  an  ambient  condition.  The  rod-type \\nstructured perovskite enabled efficient trapping of photons and \\ngenerated a decent photocurrent. The NiO well served its role \\nof being an efficient inorganic HTM by transporting the holes \\nto the CE via the polymer electrolyte while also suppressing \\nthe electron recombination. The simple sandwich architecture \\nof the PSC led to a Voc of 0.77 V, a Jsc of 18 mA/cm2 with an \\noverall PCE of 5.13%. However, the obtained efficiency is low \\nas compared to the ones mentioned in the literature, which is \\nchiefly  attributed  to  the  preparation  of  PSC  at  ambient \\nconditions, the use of polymer electrolyte, and the utilization \\nof  low–cost  techniques,  such  as  spin–coating  and  doctor \\nblading.  The  fabrication  of  PSC  in  laboratory  ambient \\nconditions reflects upon its low cost and its easily processable \\nnature. The low value of FF suggests the modification in the \\narchitecture of the PSC, possibly in the context of a suitable \\npolymer  electrolyte  which  would  also  help  in  lowering  the \\nthe  overall \\njunction \\nphotovoltaic  characteristics.  The  studies  of  PSC  using  only \\nNiO and other HTMs are underway. resistance, improving thereby'"
      ]
     },
     "execution_count": 9,
     "metadata": {},
     "output_type": "execute_result"
    }
   ],
   "source": []
  },
  {
   "cell_type": "code",
   "execution_count": 5,
   "metadata": {},
   "outputs": [
    {
     "name": "stdout",
     "output_type": "stream",
     "text": [
      "Collecting chemdataextractor\n",
      "  Using cached ChemDataExtractor-1.3.0-py3-none-any.whl.metadata (2.9 kB)\n",
      "Collecting appdirs (from chemdataextractor)\n",
      "  Using cached appdirs-1.4.4-py2.py3-none-any.whl.metadata (9.0 kB)\n",
      "Collecting beautifulsoup4 (from chemdataextractor)\n",
      "  Using cached beautifulsoup4-4.12.3-py3-none-any.whl.metadata (3.8 kB)\n",
      "Requirement already satisfied: click in c:\\users\\arian\\miniconda3\\envs\\nomad_env\\lib\\site-packages (from chemdataextractor) (8.1.7)\n",
      "Collecting cssselect (from chemdataextractor)\n",
      "  Using cached cssselect-1.2.0-py2.py3-none-any.whl.metadata (2.2 kB)\n",
      "Collecting lxml (from chemdataextractor)\n",
      "  Using cached lxml-5.2.1-cp39-cp39-win_amd64.whl.metadata (3.5 kB)\n",
      "Collecting nltk (from chemdataextractor)\n",
      "  Using cached nltk-3.8.1-py3-none-any.whl.metadata (2.8 kB)\n",
      "Collecting pdfminer.six (from chemdataextractor)\n",
      "  Using cached pdfminer.six-20231228-py3-none-any.whl.metadata (4.2 kB)\n",
      "Requirement already satisfied: python-dateutil in c:\\users\\arian\\miniconda3\\envs\\nomad_env\\lib\\site-packages (from chemdataextractor) (2.9.0)\n",
      "Requirement already satisfied: requests in c:\\users\\arian\\miniconda3\\envs\\nomad_env\\lib\\site-packages (from chemdataextractor) (2.31.0)\n",
      "Requirement already satisfied: six in c:\\users\\arian\\miniconda3\\envs\\nomad_env\\lib\\site-packages (from chemdataextractor) (1.16.0)\n",
      "Collecting python-crfsuite (from chemdataextractor)\n",
      "  Using cached python_crfsuite-0.9.10-cp39-cp39-win_amd64.whl.metadata (4.3 kB)\n",
      "Collecting DAWG (from chemdataextractor)\n",
      "  Using cached DAWG-0.8.0.tar.gz (371 kB)\n",
      "  Preparing metadata (setup.py): started\n",
      "  Preparing metadata (setup.py): finished with status 'done'\n",
      "Collecting PyYAML (from chemdataextractor)\n",
      "  Using cached PyYAML-6.0.1-cp39-cp39-win_amd64.whl.metadata (2.1 kB)\n",
      "Collecting soupsieve>1.2 (from beautifulsoup4->chemdataextractor)\n",
      "  Using cached soupsieve-2.5-py3-none-any.whl.metadata (4.7 kB)\n",
      "Requirement already satisfied: colorama in c:\\users\\arian\\miniconda3\\envs\\nomad_env\\lib\\site-packages (from click->chemdataextractor) (0.4.6)\n",
      "Collecting joblib (from nltk->chemdataextractor)\n",
      "  Using cached joblib-1.4.2-py3-none-any.whl.metadata (5.4 kB)\n",
      "Collecting regex>=2021.8.3 (from nltk->chemdataextractor)\n",
      "  Downloading regex-2024.5.10-cp39-cp39-win_amd64.whl.metadata (41 kB)\n",
      "     ---------------------------------------- 0.0/42.0 kB ? eta -:--:--\n",
      "     ---------------------------------------- 42.0/42.0 kB 2.0 MB/s eta 0:00:00\n",
      "Collecting tqdm (from nltk->chemdataextractor)\n",
      "  Using cached tqdm-4.66.4-py3-none-any.whl.metadata (57 kB)\n",
      "Requirement already satisfied: charset-normalizer>=2.0.0 in c:\\users\\arian\\miniconda3\\envs\\nomad_env\\lib\\site-packages (from pdfminer.six->chemdataextractor) (3.3.2)\n",
      "Collecting cryptography>=36.0.0 (from pdfminer.six->chemdataextractor)\n",
      "  Using cached cryptography-42.0.7-cp39-abi3-win_amd64.whl.metadata (5.4 kB)\n",
      "Requirement already satisfied: idna<4,>=2.5 in c:\\users\\arian\\miniconda3\\envs\\nomad_env\\lib\\site-packages (from requests->chemdataextractor) (3.7)\n",
      "Requirement already satisfied: urllib3<3,>=1.21.1 in c:\\users\\arian\\miniconda3\\envs\\nomad_env\\lib\\site-packages (from requests->chemdataextractor) (2.2.1)\n",
      "Requirement already satisfied: certifi>=2017.4.17 in c:\\users\\arian\\miniconda3\\envs\\nomad_env\\lib\\site-packages (from requests->chemdataextractor) (2024.2.2)\n",
      "Collecting cffi>=1.12 (from cryptography>=36.0.0->pdfminer.six->chemdataextractor)\n",
      "  Using cached cffi-1.16.0-cp39-cp39-win_amd64.whl.metadata (1.5 kB)\n",
      "Collecting pycparser (from cffi>=1.12->cryptography>=36.0.0->pdfminer.six->chemdataextractor)\n",
      "  Using cached pycparser-2.22-py3-none-any.whl.metadata (943 bytes)\n",
      "Using cached ChemDataExtractor-1.3.0-py3-none-any.whl (182 kB)\n",
      "Using cached appdirs-1.4.4-py2.py3-none-any.whl (9.6 kB)\n",
      "Using cached beautifulsoup4-4.12.3-py3-none-any.whl (147 kB)\n",
      "Using cached cssselect-1.2.0-py2.py3-none-any.whl (18 kB)\n",
      "Using cached lxml-5.2.1-cp39-cp39-win_amd64.whl (3.8 MB)\n",
      "Using cached nltk-3.8.1-py3-none-any.whl (1.5 MB)\n",
      "Using cached pdfminer.six-20231228-py3-none-any.whl (5.6 MB)\n",
      "Using cached python_crfsuite-0.9.10-cp39-cp39-win_amd64.whl (155 kB)\n",
      "Using cached PyYAML-6.0.1-cp39-cp39-win_amd64.whl (152 kB)\n",
      "Using cached cryptography-42.0.7-cp39-abi3-win_amd64.whl (2.9 MB)\n",
      "Downloading regex-2024.5.10-cp39-cp39-win_amd64.whl (268 kB)\n",
      "   ---------------------------------------- 0.0/269.0 kB ? eta -:--:--\n",
      "   ---------------------------- ----------- 194.6/269.0 kB 5.9 MB/s eta 0:00:01\n",
      "   ---------------------------------------- 269.0/269.0 kB 4.1 MB/s eta 0:00:00\n",
      "Using cached soupsieve-2.5-py3-none-any.whl (36 kB)\n",
      "Using cached joblib-1.4.2-py3-none-any.whl (301 kB)\n",
      "Using cached tqdm-4.66.4-py3-none-any.whl (78 kB)\n",
      "Using cached cffi-1.16.0-cp39-cp39-win_amd64.whl (181 kB)\n",
      "Using cached pycparser-2.22-py3-none-any.whl (117 kB)\n",
      "Building wheels for collected packages: DAWG\n",
      "  Building wheel for DAWG (setup.py): started\n",
      "  Building wheel for DAWG (setup.py): finished with status 'error'\n",
      "  Running setup.py clean for DAWG\n",
      "Failed to build DAWG\n"
     ]
    },
    {
     "name": "stderr",
     "output_type": "stream",
     "text": [
      "  error: subprocess-exited-with-error\n",
      "  \n",
      "  × python setup.py bdist_wheel did not run successfully.\n",
      "  │ exit code: 1\n",
      "  ╰─> [5 lines of output]\n",
      "      running bdist_wheel\n",
      "      running build\n",
      "      running build_ext\n",
      "      building 'dawg' extension\n",
      "      error: Microsoft Visual C++ 14.0 or greater is required. Get it with \"Microsoft C++ Build Tools\": https://visualstudio.microsoft.com/visual-cpp-build-tools/\n",
      "      [end of output]\n",
      "  \n",
      "  note: This error originates from a subprocess, and is likely not a problem with pip.\n",
      "  ERROR: Failed building wheel for DAWG\n",
      "ERROR: Could not build wheels for DAWG, which is required to install pyproject.toml-based projects\n"
     ]
    }
   ],
   "source": [
    "!pip install chemdataextractor"
   ]
  }
 ],
 "metadata": {
  "kernelspec": {
   "display_name": "nomad_env",
   "language": "python",
   "name": "python3"
  },
  "language_info": {
   "codemirror_mode": {
    "name": "ipython",
    "version": 3
   },
   "file_extension": ".py",
   "mimetype": "text/x-python",
   "name": "python",
   "nbconvert_exporter": "python",
   "pygments_lexer": "ipython3",
   "version": "3.9.19"
  }
 },
 "nbformat": 4,
 "nbformat_minor": 2
}
